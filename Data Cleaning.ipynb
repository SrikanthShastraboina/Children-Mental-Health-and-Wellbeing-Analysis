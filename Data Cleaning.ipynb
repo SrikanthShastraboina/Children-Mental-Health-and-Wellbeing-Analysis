{
 "cells": [
  {
   "cell_type": "code",
   "execution_count": 25,
   "id": "7ed758d4",
   "metadata": {},
   "outputs": [],
   "source": [
    "import pandas as pd\n",
    "from datetime import datetime"
   ]
  },
  {
   "cell_type": "code",
   "execution_count": 2,
   "id": "0c6117e9",
   "metadata": {},
   "outputs": [
    {
     "name": "stderr",
     "output_type": "stream",
     "text": [
      "C:\\Users\\srika\\anaconda3\\lib\\site-packages\\openpyxl\\worksheet\\_reader.py:312: UserWarning: Unknown extension is not supported and will be removed\n",
      "  warn(msg)\n"
     ]
    }
   ],
   "source": [
    "# Load the data from the provided file\n",
    "file_path = 'Data.xlsx'  # Replace with the correct path if needed\n",
    "\n",
    "# Load Sheet1 (assumed to be raw survey data)\n",
    "data_raw = pd.read_excel(file_path, sheet_name='Sheet1')"
   ]
  },
  {
   "cell_type": "markdown",
   "id": "67c3122c",
   "metadata": {},
   "source": [
    "### 1. Data Preprocessing"
   ]
  },
  {
   "cell_type": "markdown",
   "id": "735ec43c",
   "metadata": {},
   "source": [
    "#### 1.1 Remove duplicates"
   ]
  },
  {
   "cell_type": "code",
   "execution_count": 3,
   "id": "dfa54e56",
   "metadata": {},
   "outputs": [
    {
     "name": "stdout",
     "output_type": "stream",
     "text": [
      "Number of duplicate rows before removal: 43\n"
     ]
    }
   ],
   "source": [
    "# Check for duplicates\n",
    "duplicates_count = data_raw.duplicated().sum()\n",
    "print(f\"Number of duplicate rows before removal: {duplicates_count}\")"
   ]
  },
  {
   "cell_type": "code",
   "execution_count": 4,
   "id": "f4c2ce59",
   "metadata": {},
   "outputs": [],
   "source": [
    "# Remove duplicates\n",
    "data_cleaned = data_raw.drop_duplicates()"
   ]
  },
  {
   "cell_type": "code",
   "execution_count": 5,
   "id": "fac6ac96",
   "metadata": {},
   "outputs": [
    {
     "name": "stdout",
     "output_type": "stream",
     "text": [
      "Number of duplicate rows after removal: 0\n"
     ]
    }
   ],
   "source": [
    "# Check if duplicates were removed\n",
    "duplicates_count_after = data_cleaned.duplicated().sum()\n",
    "print(f\"Number of duplicate rows after removal: {duplicates_count_after}\")"
   ]
  },
  {
   "cell_type": "markdown",
   "id": "bee8a650",
   "metadata": {},
   "source": [
    "#### 1.2 Handle missing values"
   ]
  },
  {
   "cell_type": "code",
   "execution_count": 6,
   "id": "2996b83f",
   "metadata": {},
   "outputs": [
    {
     "data": {
      "text/plain": [
       "Are you still going to school?                                                                                                                                                                                                                                 2\n",
       "Do you have any other children living in your house with you?                                                                                                                                                                                                  2\n",
       "How many people live in your home with you (including adults)?                                                                                                                                                                                                 2\n",
       "What year are you in now?                                                                                                                                                                                                                                      0\n",
       "Gender                                                                                                                                                                                                                                                         0\n",
       "Year                                                                                                                                                                                                                                                           0\n",
       "Month                                                                                                                                                                                                                                                          0\n",
       "Day                                                                                                                                                                                                                                                            0\n",
       "1. What did you eat for breakfast YESTERDAY?                                                                                                                                                                                                                   0\n",
       "2. Did you eat any fruit and vegetables YESTERDAY?                                                                                                                                                                                                             0\n",
       "3. How many times did you brush your teeth YESTERDAY?                                                                                                                                                                                                          1\n",
       "3. How many times did you brush your teeth YESTERDAY?.1                                                                                                                                                                                                        0\n",
       "5. What time did you wake up TODAY (to the nearest half hour)?                                                                                                                                                                                                 0\n",
       "6. In the last 7 days, how many days did you do sports or exercise for at least 1 hour in total. This includes doing any activities (including online activities) or playing sports where your heart beat faster, you breathed faster and you felt warmer?     3\n",
       "7. In the last 7 days, how many days did you watch TV/play online games/use the internet etc. for 2 or more hours a day (in total)?                                                                                                                            3\n",
       "8. In the last 7 days, how many days did you feel tired?                                                                                                                                                                                                       3\n",
       "9. In the last 7 days, how many days did you feel like you could concentrate/pay attention well on your school work?                                                                                                                                           3\n",
       "10. In the last 7 days, how many days did you drink at least one fizzy drink (e.g. coke, sprite, thumsup)?                                                                                                                                                     3\n",
       "11. In the last 7 days, how many days did you eat at least one sugary snack (e.g. chocolate bar, sweets)?                                                                                                                                                      3\n",
       "12. In the last 7 days, how many days did you eat take away foods (e.g. Chinese takeaway)?                                                                                                                                                                     3\n",
       "13. On a scale of 0 to 10 (0 being not very safe and 10 being very safe), how safe do you feel playing in your area?                                                                                                                                           2\n",
       "14. From your house, can you easily walk to a park (for example a field or grassy area)?                                                                                                                                                                       2\n",
       "15. From your house, can you easily walk to somewhere you can play?                                                                                                                                                                                            2\n",
       "16. Do you have a garden?                                                                                                                                                                                                                                      2\n",
       "17. How often do you go out to play outside?                                                                                                                                                                                                                   2\n",
       "18. Do you have enough time for play?                                                                                                                                                                                                                          2\n",
       "19. What type of places do you play in?                                                                                                                                                                                                                        2\n",
       "20. Can you play in all the places you would like to?                                                                                                                                                                                                          2\n",
       "21. Do you have somewhere at home where you have space to relax?                                                                                                                                                                                               2\n",
       "22. Tell us if you agree or disagree with the following: [I am doing well with my school work]                                                                                                                                                                 0\n",
       "22. Tell us if you agree or disagree with the following: [I feel part of my school community]                                                                                                                                                                  2\n",
       "22. Tell us if you agree or disagree with the following: [I have lots of choice over things that are important to me]                                                                                                                                          0\n",
       "22. Tell us if you agree or disagree with the following: [There are lots of things I'm good at]                                                                                                                                                                0\n",
       "Your Health                                                                                                                                                                                                                                                    0\n",
       "Your School                                                                                                                                                                                                                                                    0\n",
       "Your Family                                                                                                                                                                                                                                                    0\n",
       "Your Friends                                                                                                                                                                                                                                                   0\n",
       "Your Appearance (how you look)                                                                                                                                                                                                                                 0\n",
       "Your Life                                                                                                                                                                                                                                                      0\n",
       "24. Remember, there are no right or wrong answers, just pick which is right for you. [I feel lonely]                                                                                                                                                           0\n",
       "24. Remember, there are no right or wrong answers, just pick which is right for you. [I cry a lot]                                                                                                                                                             0\n",
       "24. Remember, there are no right or wrong answers, just pick which is right for you. [I am unhappy]                                                                                                                                                            0\n",
       "24. Remember, there are no right or wrong answers, just pick which is right for you. [I feel nobody likes me]                                                                                                                                                  0\n",
       "24. Remember, there are no right or wrong answers, just pick which is right for you. [I worry a lot]                                                                                                                                                           0\n",
       "24. Remember, there are no right or wrong answers, just pick which is right for you. [I have problems sleeping]                                                                                                                                                0\n",
       "24. Remember, there are no right or wrong answers, just pick which is right for you. [I wake up in the night]                                                                                                                                                  0\n",
       "24. Remember, there are no right or wrong answers, just pick which is right for you. [I am shy]                                                                                                                                                                0\n",
       "24. Remember, there are no right or wrong answers, just pick which is right for you. [I feel scared]                                                                                                                                                           0\n",
       "24. Remember, there are no right or wrong answers, just pick which is right for you. [I worry when I am at school]                                                                                                                                             0\n",
       "24. Remember, there are no right or wrong answers, just pick which is right for you. [I get very angry]                                                                                                                                                        0\n",
       "24. Remember, there are no right or wrong answers, just pick which is right for you. [I lose my temper]                                                                                                                                                        0\n",
       "24. Remember, there are no right or wrong answers, just pick which is right for you. [I hit out when I am angry]                                                                                                                                               0\n",
       "24. Remember, there are no right or wrong answers, just pick which is right for you. [I do things to hurt people]                                                                                                                                              0\n",
       "24. Remember, there are no right or wrong answers, just pick which is right for you. [I am calm]                                                                                                                                                               0\n",
       "24. Remember, there are no right or wrong answers, just pick which is right for you. [I break things on purpose]                                                                                                                                               0\n",
       "25. Are you able to keep in touch with your family that you don't live with? (grand parents, Uncle, Aunt, Cousins, etc)                                                                                                                                        1\n",
       "26. Are you able to keep in touch with your friends?                                                                                                                                                                                                           2\n",
       "27. If yes, how are you keeping in touch (tick all you use)?                                                                                                                                                                                                  31\n",
       "dtype: int64"
      ]
     },
     "execution_count": 6,
     "metadata": {},
     "output_type": "execute_result"
    }
   ],
   "source": [
    "# check missing values\n",
    "data_cleaned.isna().sum()"
   ]
  },
  {
   "cell_type": "code",
   "execution_count": 7,
   "id": "7053d02f",
   "metadata": {},
   "outputs": [],
   "source": [
    "# Identify categorical and numerical columns\n",
    "categorical_columns = data_cleaned.select_dtypes(include=['object', 'category']).columns\n",
    "numerical_columns = data_cleaned.select_dtypes(include=['number']).columns"
   ]
  },
  {
   "cell_type": "code",
   "execution_count": 8,
   "id": "27ff2e1b",
   "metadata": {},
   "outputs": [
    {
     "name": "stderr",
     "output_type": "stream",
     "text": [
      "C:\\Users\\srika\\anaconda3\\lib\\site-packages\\pandas\\core\\series.py:4463: SettingWithCopyWarning: \n",
      "A value is trying to be set on a copy of a slice from a DataFrame\n",
      "\n",
      "See the caveats in the documentation: https://pandas.pydata.org/pandas-docs/stable/user_guide/indexing.html#returning-a-view-versus-a-copy\n",
      "  return super().fillna(\n"
     ]
    }
   ],
   "source": [
    "# Fill missing values for categorical columns with the mode\n",
    "for col in categorical_columns:\n",
    "    mode_value = data_cleaned[col].mode()[0]  # Get the mode (most frequent value)\n",
    "    data_cleaned[col].fillna(mode_value, inplace=True)"
   ]
  },
  {
   "cell_type": "code",
   "execution_count": 9,
   "id": "7bb6c810",
   "metadata": {},
   "outputs": [
    {
     "name": "stderr",
     "output_type": "stream",
     "text": [
      "C:\\Users\\srika\\anaconda3\\lib\\site-packages\\pandas\\core\\series.py:4463: SettingWithCopyWarning: \n",
      "A value is trying to be set on a copy of a slice from a DataFrame\n",
      "\n",
      "See the caveats in the documentation: https://pandas.pydata.org/pandas-docs/stable/user_guide/indexing.html#returning-a-view-versus-a-copy\n",
      "  return super().fillna(\n",
      "C:\\Users\\srika\\anaconda3\\lib\\site-packages\\pandas\\core\\series.py:4463: SettingWithCopyWarning: \n",
      "A value is trying to be set on a copy of a slice from a DataFrame\n",
      "\n",
      "See the caveats in the documentation: https://pandas.pydata.org/pandas-docs/stable/user_guide/indexing.html#returning-a-view-versus-a-copy\n",
      "  return super().fillna(\n",
      "C:\\Users\\srika\\anaconda3\\lib\\site-packages\\pandas\\core\\series.py:4463: SettingWithCopyWarning: \n",
      "A value is trying to be set on a copy of a slice from a DataFrame\n",
      "\n",
      "See the caveats in the documentation: https://pandas.pydata.org/pandas-docs/stable/user_guide/indexing.html#returning-a-view-versus-a-copy\n",
      "  return super().fillna(\n",
      "C:\\Users\\srika\\anaconda3\\lib\\site-packages\\pandas\\core\\series.py:4463: SettingWithCopyWarning: \n",
      "A value is trying to be set on a copy of a slice from a DataFrame\n",
      "\n",
      "See the caveats in the documentation: https://pandas.pydata.org/pandas-docs/stable/user_guide/indexing.html#returning-a-view-versus-a-copy\n",
      "  return super().fillna(\n",
      "C:\\Users\\srika\\anaconda3\\lib\\site-packages\\pandas\\core\\series.py:4463: SettingWithCopyWarning: \n",
      "A value is trying to be set on a copy of a slice from a DataFrame\n",
      "\n",
      "See the caveats in the documentation: https://pandas.pydata.org/pandas-docs/stable/user_guide/indexing.html#returning-a-view-versus-a-copy\n",
      "  return super().fillna(\n",
      "C:\\Users\\srika\\anaconda3\\lib\\site-packages\\pandas\\core\\series.py:4463: SettingWithCopyWarning: \n",
      "A value is trying to be set on a copy of a slice from a DataFrame\n",
      "\n",
      "See the caveats in the documentation: https://pandas.pydata.org/pandas-docs/stable/user_guide/indexing.html#returning-a-view-versus-a-copy\n",
      "  return super().fillna(\n",
      "C:\\Users\\srika\\anaconda3\\lib\\site-packages\\pandas\\core\\series.py:4463: SettingWithCopyWarning: \n",
      "A value is trying to be set on a copy of a slice from a DataFrame\n",
      "\n",
      "See the caveats in the documentation: https://pandas.pydata.org/pandas-docs/stable/user_guide/indexing.html#returning-a-view-versus-a-copy\n",
      "  return super().fillna(\n",
      "C:\\Users\\srika\\anaconda3\\lib\\site-packages\\pandas\\core\\series.py:4463: SettingWithCopyWarning: \n",
      "A value is trying to be set on a copy of a slice from a DataFrame\n",
      "\n",
      "See the caveats in the documentation: https://pandas.pydata.org/pandas-docs/stable/user_guide/indexing.html#returning-a-view-versus-a-copy\n",
      "  return super().fillna(\n",
      "C:\\Users\\srika\\anaconda3\\lib\\site-packages\\pandas\\core\\series.py:4463: SettingWithCopyWarning: \n",
      "A value is trying to be set on a copy of a slice from a DataFrame\n",
      "\n",
      "See the caveats in the documentation: https://pandas.pydata.org/pandas-docs/stable/user_guide/indexing.html#returning-a-view-versus-a-copy\n",
      "  return super().fillna(\n",
      "C:\\Users\\srika\\anaconda3\\lib\\site-packages\\pandas\\core\\series.py:4463: SettingWithCopyWarning: \n",
      "A value is trying to be set on a copy of a slice from a DataFrame\n",
      "\n",
      "See the caveats in the documentation: https://pandas.pydata.org/pandas-docs/stable/user_guide/indexing.html#returning-a-view-versus-a-copy\n",
      "  return super().fillna(\n"
     ]
    }
   ],
   "source": [
    "# Fill missing values for numerical columns with the median\n",
    "for col in numerical_columns:\n",
    "    median_value = data_cleaned[col].median()  # Get the median\n",
    "    data_cleaned[col].fillna(median_value, inplace=True)"
   ]
  },
  {
   "cell_type": "code",
   "execution_count": 10,
   "id": "a120fcac",
   "metadata": {},
   "outputs": [
    {
     "data": {
      "text/plain": [
       "Are you still going to school?                                                                                                                                                                                                                                0\n",
       "Do you have any other children living in your house with you?                                                                                                                                                                                                 0\n",
       "How many people live in your home with you (including adults)?                                                                                                                                                                                                0\n",
       "What year are you in now?                                                                                                                                                                                                                                     0\n",
       "Gender                                                                                                                                                                                                                                                        0\n",
       "Year                                                                                                                                                                                                                                                          0\n",
       "Month                                                                                                                                                                                                                                                         0\n",
       "Day                                                                                                                                                                                                                                                           0\n",
       "1. What did you eat for breakfast YESTERDAY?                                                                                                                                                                                                                  0\n",
       "2. Did you eat any fruit and vegetables YESTERDAY?                                                                                                                                                                                                            0\n",
       "3. How many times did you brush your teeth YESTERDAY?                                                                                                                                                                                                         0\n",
       "3. How many times did you brush your teeth YESTERDAY?.1                                                                                                                                                                                                       0\n",
       "5. What time did you wake up TODAY (to the nearest half hour)?                                                                                                                                                                                                0\n",
       "6. In the last 7 days, how many days did you do sports or exercise for at least 1 hour in total. This includes doing any activities (including online activities) or playing sports where your heart beat faster, you breathed faster and you felt warmer?    0\n",
       "7. In the last 7 days, how many days did you watch TV/play online games/use the internet etc. for 2 or more hours a day (in total)?                                                                                                                           0\n",
       "8. In the last 7 days, how many days did you feel tired?                                                                                                                                                                                                      0\n",
       "9. In the last 7 days, how many days did you feel like you could concentrate/pay attention well on your school work?                                                                                                                                          0\n",
       "10. In the last 7 days, how many days did you drink at least one fizzy drink (e.g. coke, sprite, thumsup)?                                                                                                                                                    0\n",
       "11. In the last 7 days, how many days did you eat at least one sugary snack (e.g. chocolate bar, sweets)?                                                                                                                                                     0\n",
       "12. In the last 7 days, how many days did you eat take away foods (e.g. Chinese takeaway)?                                                                                                                                                                    0\n",
       "13. On a scale of 0 to 10 (0 being not very safe and 10 being very safe), how safe do you feel playing in your area?                                                                                                                                          0\n",
       "14. From your house, can you easily walk to a park (for example a field or grassy area)?                                                                                                                                                                      0\n",
       "15. From your house, can you easily walk to somewhere you can play?                                                                                                                                                                                           0\n",
       "16. Do you have a garden?                                                                                                                                                                                                                                     0\n",
       "17. How often do you go out to play outside?                                                                                                                                                                                                                  0\n",
       "18. Do you have enough time for play?                                                                                                                                                                                                                         0\n",
       "19. What type of places do you play in?                                                                                                                                                                                                                       0\n",
       "20. Can you play in all the places you would like to?                                                                                                                                                                                                         0\n",
       "21. Do you have somewhere at home where you have space to relax?                                                                                                                                                                                              0\n",
       "22. Tell us if you agree or disagree with the following: [I am doing well with my school work]                                                                                                                                                                0\n",
       "22. Tell us if you agree or disagree with the following: [I feel part of my school community]                                                                                                                                                                 0\n",
       "22. Tell us if you agree or disagree with the following: [I have lots of choice over things that are important to me]                                                                                                                                         0\n",
       "22. Tell us if you agree or disagree with the following: [There are lots of things I'm good at]                                                                                                                                                               0\n",
       "Your Health                                                                                                                                                                                                                                                   0\n",
       "Your School                                                                                                                                                                                                                                                   0\n",
       "Your Family                                                                                                                                                                                                                                                   0\n",
       "Your Friends                                                                                                                                                                                                                                                  0\n",
       "Your Appearance (how you look)                                                                                                                                                                                                                                0\n",
       "Your Life                                                                                                                                                                                                                                                     0\n",
       "24. Remember, there are no right or wrong answers, just pick which is right for you. [I feel lonely]                                                                                                                                                          0\n",
       "24. Remember, there are no right or wrong answers, just pick which is right for you. [I cry a lot]                                                                                                                                                            0\n",
       "24. Remember, there are no right or wrong answers, just pick which is right for you. [I am unhappy]                                                                                                                                                           0\n",
       "24. Remember, there are no right or wrong answers, just pick which is right for you. [I feel nobody likes me]                                                                                                                                                 0\n",
       "24. Remember, there are no right or wrong answers, just pick which is right for you. [I worry a lot]                                                                                                                                                          0\n",
       "24. Remember, there are no right or wrong answers, just pick which is right for you. [I have problems sleeping]                                                                                                                                               0\n",
       "24. Remember, there are no right or wrong answers, just pick which is right for you. [I wake up in the night]                                                                                                                                                 0\n",
       "24. Remember, there are no right or wrong answers, just pick which is right for you. [I am shy]                                                                                                                                                               0\n",
       "24. Remember, there are no right or wrong answers, just pick which is right for you. [I feel scared]                                                                                                                                                          0\n",
       "24. Remember, there are no right or wrong answers, just pick which is right for you. [I worry when I am at school]                                                                                                                                            0\n",
       "24. Remember, there are no right or wrong answers, just pick which is right for you. [I get very angry]                                                                                                                                                       0\n",
       "24. Remember, there are no right or wrong answers, just pick which is right for you. [I lose my temper]                                                                                                                                                       0\n",
       "24. Remember, there are no right or wrong answers, just pick which is right for you. [I hit out when I am angry]                                                                                                                                              0\n",
       "24. Remember, there are no right or wrong answers, just pick which is right for you. [I do things to hurt people]                                                                                                                                             0\n",
       "24. Remember, there are no right or wrong answers, just pick which is right for you. [I am calm]                                                                                                                                                              0\n",
       "24. Remember, there are no right or wrong answers, just pick which is right for you. [I break things on purpose]                                                                                                                                              0\n",
       "25. Are you able to keep in touch with your family that you don't live with? (grand parents, Uncle, Aunt, Cousins, etc)                                                                                                                                       0\n",
       "26. Are you able to keep in touch with your friends?                                                                                                                                                                                                          0\n",
       "27. If yes, how are you keeping in touch (tick all you use)?                                                                                                                                                                                                  0\n",
       "dtype: int64"
      ]
     },
     "execution_count": 10,
     "metadata": {},
     "output_type": "execute_result"
    }
   ],
   "source": [
    "# verify missing valued are fixed\n",
    "data_cleaned.isna().sum()"
   ]
  },
  {
   "cell_type": "markdown",
   "id": "7db59f09",
   "metadata": {},
   "source": [
    "##### Interpretation:\n",
    "* Categorical Variables: Missing values were replaced with the mode (most frequent value) of each column. This ensures that the missing values do not disrupt the distribution significantly.\n",
    "* Numerical Variables: Missing values were replaced with the median, which is robust to outliers and preserves central tendency without being influenced by extreme values.\n",
    "##### Result:\n",
    "* Missing values before handling: 86\n",
    "* Missing values after handling: 0\n",
    "* Cleaned data is saved in Data_Handled_Missing.xlsx."
   ]
  },
  {
   "cell_type": "code",
   "execution_count": 11,
   "id": "4f604559",
   "metadata": {},
   "outputs": [
    {
     "name": "stdout",
     "output_type": "stream",
     "text": [
      "Cleaned data saved to: Data_Handled_Missing.xlsx\n"
     ]
    }
   ],
   "source": [
    "# Save the cleaned data\n",
    "cleaned_file_path = 'Data_Handled_Missing.xlsx'  # Replace with the desired path\n",
    "data_cleaned.to_excel(cleaned_file_path, index=False)\n",
    "\n",
    "print(f\"Cleaned data saved to: {cleaned_file_path}\")"
   ]
  },
  {
   "cell_type": "code",
   "execution_count": 12,
   "id": "48caabf6",
   "metadata": {},
   "outputs": [],
   "source": [
    "# Step 3: Drop unnecessary columns\n",
    "columns_to_drop = ['ID', 'Year', 'Month', 'Day']  # Specify columns to drop\n",
    "data_final = data_cleaned.drop(columns=columns_to_drop, errors='ignore')"
   ]
  },
  {
   "cell_type": "code",
   "execution_count": 13,
   "id": "45bf1d21",
   "metadata": {},
   "outputs": [],
   "source": [
    "# Step 4: Drop the additional column specified\n",
    "column_to_drop = ['27. If yes, how are you keeping in touch (tick all you use)?']\n",
    "data_final_dropped_column = data_final.drop(columns=column_to_drop, errors='ignore')"
   ]
  },
  {
   "cell_type": "markdown",
   "id": "fbae9fd8",
   "metadata": {},
   "source": [
    "##### Drop Unnecessary Columns: \n",
    "* Columns ID, Year, Month, and Day were dropped as they are irrelevant for analysis."
   ]
  },
  {
   "cell_type": "code",
   "execution_count": 17,
   "id": "cbfd97ac",
   "metadata": {},
   "outputs": [],
   "source": [
    "data_final_dropped_column.rename(\n",
    "    columns={'3. How many times did you brush your teeth YESTERDAY?.1': '4. What time did you fall asleep last night?'},\n",
    "    inplace=True\n",
    ")"
   ]
  },
  {
   "cell_type": "code",
   "execution_count": 23,
   "id": "a9b3b0d8",
   "metadata": {},
   "outputs": [
    {
     "name": "stdout",
     "output_type": "stream",
     "text": [
      "Final cleaned data saved to: Data_Final_No_ID_Year_Month_Day.xlsx\n"
     ]
    }
   ],
   "source": [
    "# Save the final cleaned dataset\n",
    "final_file_path = 'Data_Final_No_ID_Year_Month_Day.xlsx'  # Replace with desired path\n",
    "data_final_dropped_column.to_excel(final_file_path, index=False)\n",
    "\n",
    "print(f\"Final cleaned data saved to: {final_file_path}\")"
   ]
  },
  {
   "cell_type": "code",
   "execution_count": 30,
   "id": "42ba1092",
   "metadata": {},
   "outputs": [],
   "source": [
    "Data_cleaned = pd.read_excel('Data_Final_No_ID_Year_Month_Day.xlsx')"
   ]
  },
  {
   "cell_type": "code",
   "execution_count": 31,
   "id": "83deceb3",
   "metadata": {},
   "outputs": [
    {
     "name": "stdout",
     "output_type": "stream",
     "text": [
      "Dataset saved with calculated hours of sleep to: Data_Reverted_Sleep_Calculation.xlsx\n"
     ]
    }
   ],
   "source": [
    "# Normalize the time strings by ensuring a space before \"AM/PM\"\n",
    "Data_cleaned['4. What time did you fall asleep last night?'] = Data_cleaned[\n",
    "    '4. What time did you fall asleep last night?'\n",
    "].str.replace(r'([apAP][mM])$', r' \\1', regex=True)\n",
    "\n",
    "Data_cleaned['5. What time did you wake up TODAY (to the nearest half hour)?'] = Data_cleaned[\n",
    "    '5. What time did you wake up TODAY (to the nearest half hour)?'\n",
    "].str.replace(r'([apAP][mM])$', r' \\1', regex=True)\n",
    "\n",
    "# Define the time format\n",
    "time_format = \"%I:%M %p\"\n",
    "\n",
    "# Calculate hours of sleep\n",
    "Data_cleaned['hours of sleep had last night'] = Data_cleaned.apply(\n",
    "    lambda row: (\n",
    "        (datetime.strptime(row['5. What time did you wake up TODAY (to the nearest half hour)?'], time_format) -\n",
    "         datetime.strptime(row['4. What time did you fall asleep last night?'], time_format)).seconds / 3600\n",
    "    ) if pd.notnull(row['5. What time did you wake up TODAY (to the nearest half hour)?']) and\n",
    "         pd.notnull(row['4. What time did you fall asleep last night?']) else None,\n",
    "    axis=1\n",
    ")\n",
    "\n",
    "# Drop the original time columns\n",
    "Data_cleaned.drop(\n",
    "    columns=[\n",
    "        '4. What time did you fall asleep last night?',\n",
    "        '5. What time did you wake up TODAY (to the nearest half hour)?'\n",
    "    ],\n",
    "    inplace=True,\n",
    "    errors='ignore'\n",
    ")\n",
    "\n"
   ]
  },
  {
   "cell_type": "code",
   "execution_count": 37,
   "id": "a649ab9c",
   "metadata": {},
   "outputs": [
    {
     "name": "stdout",
     "output_type": "stream",
     "text": [
      "Cleaned data saved\n"
     ]
    }
   ],
   "source": [
    "# Save the updated dataset\n",
    "Data_cleaned.to_csv('Data_cleaned.csv', index=False)\n",
    "print('Cleaned data saved')"
   ]
  },
  {
   "cell_type": "markdown",
   "id": "decbf70a",
   "metadata": {},
   "source": [
    "### Summary of Data cleaning"
   ]
  },
  {
   "cell_type": "markdown",
   "id": "d1faa28e",
   "metadata": {},
   "source": [
    "The dataset is now in a clean and standardized format, ready for Exploratory Data Analysis (EDA). Here's why:\n",
    "\n",
    "* Duplicates Removed: All duplicate rows have been removed, ensuring unique records.\n",
    "* Missing Values Handled: Missing values have been replaced appropriately:\n",
    "    * Mode for categorical variables.\n",
    "    * Median for numerical variables.\n",
    "    * Unnecessary Columns Dropped: Columns irrelevant to the analysis (e.g., ID, Year, Month, Day) have been removed.\n",
    "    * Column Names Corrected: Duplicate and erroneous column names have been resolved.\n",
    "Calculated New Features:\n",
    "* \"Hours of sleep had last night\" was added by processing two time-related columns.\n",
    "Standardized Data: Time formats and other textual inconsistencies have been normalized."
   ]
  },
  {
   "cell_type": "code",
   "execution_count": null,
   "id": "07c9bf61",
   "metadata": {},
   "outputs": [],
   "source": []
  }
 ],
 "metadata": {
  "kernelspec": {
   "display_name": "Python 3",
   "language": "python",
   "name": "python3"
  },
  "language_info": {
   "codemirror_mode": {
    "name": "ipython",
    "version": 3
   },
   "file_extension": ".py",
   "mimetype": "text/x-python",
   "name": "python",
   "nbconvert_exporter": "python",
   "pygments_lexer": "ipython3",
   "version": "3.8.5"
  }
 },
 "nbformat": 4,
 "nbformat_minor": 5
}
