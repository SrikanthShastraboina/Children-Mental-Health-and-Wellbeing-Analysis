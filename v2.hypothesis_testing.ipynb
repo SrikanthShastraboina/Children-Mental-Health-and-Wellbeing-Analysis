{
 "cells": [
  {
   "cell_type": "code",
   "execution_count": 1,
   "id": "b51192ae",
   "metadata": {
    "scrolled": false
   },
   "outputs": [],
   "source": [
    "import pandas as pd\n",
    "import numpy as np\n",
    "import matplotlib.pyplot as plt\n",
    "from scipy.stats import kruskal\n",
    "import scikit_posthocs as sp"
   ]
  },
  {
   "cell_type": "code",
   "execution_count": 2,
   "id": "b7d37db9",
   "metadata": {},
   "outputs": [
    {
     "data": {
      "text/html": [
       "<div>\n",
       "<style scoped>\n",
       "    .dataframe tbody tr th:only-of-type {\n",
       "        vertical-align: middle;\n",
       "    }\n",
       "\n",
       "    .dataframe tbody tr th {\n",
       "        vertical-align: top;\n",
       "    }\n",
       "\n",
       "    .dataframe thead th {\n",
       "        text-align: right;\n",
       "    }\n",
       "</style>\n",
       "<table border=\"1\" class=\"dataframe\">\n",
       "  <thead>\n",
       "    <tr style=\"text-align: right;\">\n",
       "      <th></th>\n",
       "      <th>Are you still going to school?</th>\n",
       "      <th>Do you have any other children living in your house with you?</th>\n",
       "      <th>How many people live in your home with you (including adults)?</th>\n",
       "      <th>What year are you in now?</th>\n",
       "      <th>Gender</th>\n",
       "      <th>1. What did you eat for breakfast YESTERDAY?</th>\n",
       "      <th>2. Did you eat any fruit and vegetables YESTERDAY?</th>\n",
       "      <th>3. How many times did you brush your teeth YESTERDAY?</th>\n",
       "      <th>6. In the last 7 days, how many days did you do sports or exercise for at least 1 hour in total. This includes doing any activities (including online activities) or playing sports where your heart beat faster, you breathed faster and you felt warmer?</th>\n",
       "      <th>7. In the last 7 days, how many days did you watch TV/play online games/use the internet etc. for 2 or more hours a day (in total)?</th>\n",
       "      <th>...</th>\n",
       "      <th>24. Remember, there are no right or wrong answers, just pick which is right for you. [I get very angry]</th>\n",
       "      <th>24. Remember, there are no right or wrong answers, just pick which is right for you. [I lose my temper]</th>\n",
       "      <th>24. Remember, there are no right or wrong answers, just pick which is right for you. [I hit out when I am angry]</th>\n",
       "      <th>24. Remember, there are no right or wrong answers, just pick which is right for you. [I do things to hurt people]</th>\n",
       "      <th>24. Remember, there are no right or wrong answers, just pick which is right for you. [I am calm]</th>\n",
       "      <th>24. Remember, there are no right or wrong answers, just pick which is right for you. [I break things on purpose]</th>\n",
       "      <th>25. Are you able to keep in touch with your family that you don't live with? (grand parents, Uncle, Aunt, Cousins, etc)</th>\n",
       "      <th>26. Are you able to keep in touch with your friends?</th>\n",
       "      <th>hours of sleep had last night</th>\n",
       "      <th>behavioral difficulty category</th>\n",
       "    </tr>\n",
       "  </thead>\n",
       "  <tbody>\n",
       "    <tr>\n",
       "      <th>0</th>\n",
       "      <td>1</td>\n",
       "      <td>1</td>\n",
       "      <td>3</td>\n",
       "      <td>2</td>\n",
       "      <td>0</td>\n",
       "      <td>122</td>\n",
       "      <td>2</td>\n",
       "      <td>2</td>\n",
       "      <td>4</td>\n",
       "      <td>4</td>\n",
       "      <td>...</td>\n",
       "      <td>0</td>\n",
       "      <td>0</td>\n",
       "      <td>0</td>\n",
       "      <td>1</td>\n",
       "      <td>0</td>\n",
       "      <td>0</td>\n",
       "      <td>0</td>\n",
       "      <td>1</td>\n",
       "      <td>8.5</td>\n",
       "      <td>0</td>\n",
       "    </tr>\n",
       "    <tr>\n",
       "      <th>1</th>\n",
       "      <td>1</td>\n",
       "      <td>1</td>\n",
       "      <td>3</td>\n",
       "      <td>1</td>\n",
       "      <td>1</td>\n",
       "      <td>55</td>\n",
       "      <td>0</td>\n",
       "      <td>2</td>\n",
       "      <td>4</td>\n",
       "      <td>4</td>\n",
       "      <td>...</td>\n",
       "      <td>0</td>\n",
       "      <td>0</td>\n",
       "      <td>1</td>\n",
       "      <td>0</td>\n",
       "      <td>1</td>\n",
       "      <td>0</td>\n",
       "      <td>2</td>\n",
       "      <td>1</td>\n",
       "      <td>10.0</td>\n",
       "      <td>0</td>\n",
       "    </tr>\n",
       "    <tr>\n",
       "      <th>2</th>\n",
       "      <td>1</td>\n",
       "      <td>1</td>\n",
       "      <td>4</td>\n",
       "      <td>2</td>\n",
       "      <td>0</td>\n",
       "      <td>21</td>\n",
       "      <td>3</td>\n",
       "      <td>2</td>\n",
       "      <td>4</td>\n",
       "      <td>4</td>\n",
       "      <td>...</td>\n",
       "      <td>0</td>\n",
       "      <td>0</td>\n",
       "      <td>1</td>\n",
       "      <td>0</td>\n",
       "      <td>1</td>\n",
       "      <td>0</td>\n",
       "      <td>2</td>\n",
       "      <td>1</td>\n",
       "      <td>8.0</td>\n",
       "      <td>0</td>\n",
       "    </tr>\n",
       "    <tr>\n",
       "      <th>3</th>\n",
       "      <td>1</td>\n",
       "      <td>1</td>\n",
       "      <td>3</td>\n",
       "      <td>1</td>\n",
       "      <td>0</td>\n",
       "      <td>122</td>\n",
       "      <td>3</td>\n",
       "      <td>2</td>\n",
       "      <td>4</td>\n",
       "      <td>1</td>\n",
       "      <td>...</td>\n",
       "      <td>0</td>\n",
       "      <td>0</td>\n",
       "      <td>0</td>\n",
       "      <td>0</td>\n",
       "      <td>1</td>\n",
       "      <td>0</td>\n",
       "      <td>2</td>\n",
       "      <td>1</td>\n",
       "      <td>12.0</td>\n",
       "      <td>0</td>\n",
       "    </tr>\n",
       "    <tr>\n",
       "      <th>4</th>\n",
       "      <td>1</td>\n",
       "      <td>1</td>\n",
       "      <td>4</td>\n",
       "      <td>1</td>\n",
       "      <td>1</td>\n",
       "      <td>55</td>\n",
       "      <td>3</td>\n",
       "      <td>1</td>\n",
       "      <td>4</td>\n",
       "      <td>1</td>\n",
       "      <td>...</td>\n",
       "      <td>0</td>\n",
       "      <td>0</td>\n",
       "      <td>0</td>\n",
       "      <td>0</td>\n",
       "      <td>0</td>\n",
       "      <td>0</td>\n",
       "      <td>2</td>\n",
       "      <td>1</td>\n",
       "      <td>11.0</td>\n",
       "      <td>0</td>\n",
       "    </tr>\n",
       "  </tbody>\n",
       "</table>\n",
       "<p>5 rows × 54 columns</p>\n",
       "</div>"
      ],
      "text/plain": [
       "   Are you still going to school?  \\\n",
       "0                               1   \n",
       "1                               1   \n",
       "2                               1   \n",
       "3                               1   \n",
       "4                               1   \n",
       "\n",
       "   Do you have any other children living in your house with you?  \\\n",
       "0                                                  1               \n",
       "1                                                  1               \n",
       "2                                                  1               \n",
       "3                                                  1               \n",
       "4                                                  1               \n",
       "\n",
       "   How many people live in your home with you (including adults)?  \\\n",
       "0                                                  3                \n",
       "1                                                  3                \n",
       "2                                                  4                \n",
       "3                                                  3                \n",
       "4                                                  4                \n",
       "\n",
       "   What year are you in now?  Gender  \\\n",
       "0                          2       0   \n",
       "1                          1       1   \n",
       "2                          2       0   \n",
       "3                          1       0   \n",
       "4                          1       1   \n",
       "\n",
       "   1. What did you eat for breakfast YESTERDAY?  \\\n",
       "0                                           122   \n",
       "1                                            55   \n",
       "2                                            21   \n",
       "3                                           122   \n",
       "4                                            55   \n",
       "\n",
       "   2. Did you eat any fruit and vegetables YESTERDAY?   \\\n",
       "0                                                  2     \n",
       "1                                                  0     \n",
       "2                                                  3     \n",
       "3                                                  3     \n",
       "4                                                  3     \n",
       "\n",
       "   3. How many times did you brush your teeth YESTERDAY?  \\\n",
       "0                                                  2       \n",
       "1                                                  2       \n",
       "2                                                  2       \n",
       "3                                                  2       \n",
       "4                                                  1       \n",
       "\n",
       "   6. In the last 7 days, how many days did you do sports or exercise for at least 1 hour in total. This includes doing any activities (including online activities) or playing sports where your heart beat faster, you breathed faster and you felt warmer?  \\\n",
       "0                                                  4                                                                                                                                                                                                            \n",
       "1                                                  4                                                                                                                                                                                                            \n",
       "2                                                  4                                                                                                                                                                                                            \n",
       "3                                                  4                                                                                                                                                                                                            \n",
       "4                                                  4                                                                                                                                                                                                            \n",
       "\n",
       "   7. In the last 7 days, how many days did you watch TV/play online games/use the internet etc. for 2 or more hours a day (in total)?  \\\n",
       "0                                                  4                                                                                     \n",
       "1                                                  4                                                                                     \n",
       "2                                                  4                                                                                     \n",
       "3                                                  1                                                                                     \n",
       "4                                                  1                                                                                     \n",
       "\n",
       "   ...  \\\n",
       "0  ...   \n",
       "1  ...   \n",
       "2  ...   \n",
       "3  ...   \n",
       "4  ...   \n",
       "\n",
       "   24. Remember, there are no right or wrong answers, just pick which is right for you. [I get very angry]  \\\n",
       "0                                                  0                                                         \n",
       "1                                                  0                                                         \n",
       "2                                                  0                                                         \n",
       "3                                                  0                                                         \n",
       "4                                                  0                                                         \n",
       "\n",
       "   24. Remember, there are no right or wrong answers, just pick which is right for you. [I lose my temper]  \\\n",
       "0                                                  0                                                         \n",
       "1                                                  0                                                         \n",
       "2                                                  0                                                         \n",
       "3                                                  0                                                         \n",
       "4                                                  0                                                         \n",
       "\n",
       "   24. Remember, there are no right or wrong answers, just pick which is right for you. [I hit out when I am angry]  \\\n",
       "0                                                  0                                                                  \n",
       "1                                                  1                                                                  \n",
       "2                                                  1                                                                  \n",
       "3                                                  0                                                                  \n",
       "4                                                  0                                                                  \n",
       "\n",
       "   24. Remember, there are no right or wrong answers, just pick which is right for you. [I do things to hurt people]  \\\n",
       "0                                                  1                                                                   \n",
       "1                                                  0                                                                   \n",
       "2                                                  0                                                                   \n",
       "3                                                  0                                                                   \n",
       "4                                                  0                                                                   \n",
       "\n",
       "   24. Remember, there are no right or wrong answers, just pick which is right for you. [I am calm]  \\\n",
       "0                                                  0                                                  \n",
       "1                                                  1                                                  \n",
       "2                                                  1                                                  \n",
       "3                                                  1                                                  \n",
       "4                                                  0                                                  \n",
       "\n",
       "   24. Remember, there are no right or wrong answers, just pick which is right for you. [I break things on purpose]  \\\n",
       "0                                                  0                                                                  \n",
       "1                                                  0                                                                  \n",
       "2                                                  0                                                                  \n",
       "3                                                  0                                                                  \n",
       "4                                                  0                                                                  \n",
       "\n",
       "   25. Are you able to keep in touch with your family that you don't live with? (grand parents, Uncle, Aunt, Cousins, etc)  \\\n",
       "0                                                  0                                                                         \n",
       "1                                                  2                                                                         \n",
       "2                                                  2                                                                         \n",
       "3                                                  2                                                                         \n",
       "4                                                  2                                                                         \n",
       "\n",
       "   26. Are you able to keep in touch with your friends?  \\\n",
       "0                                                  1      \n",
       "1                                                  1      \n",
       "2                                                  1      \n",
       "3                                                  1      \n",
       "4                                                  1      \n",
       "\n",
       "   hours of sleep had last night  behavioral difficulty category  \n",
       "0                            8.5                               0  \n",
       "1                           10.0                               0  \n",
       "2                            8.0                               0  \n",
       "3                           12.0                               0  \n",
       "4                           11.0                               0  \n",
       "\n",
       "[5 rows x 54 columns]"
      ]
     },
     "execution_count": 2,
     "metadata": {},
     "output_type": "execute_result"
    }
   ],
   "source": [
    "data = pd.read_csv('behavioral_difficulty.csv')\n",
    "data.head()"
   ]
  },
  {
   "cell_type": "code",
   "execution_count": 3,
   "id": "8692ae5d",
   "metadata": {
    "scrolled": false
   },
   "outputs": [
    {
     "data": {
      "text/plain": [
       "['school_status',\n",
       " 'other_kids_home',\n",
       " 'people_home',\n",
       " 'school_year',\n",
       " 'gender',\n",
       " 'breakfast',\n",
       " 'fruit_veg',\n",
       " 'teeth_brush',\n",
       " 'exercise_days',\n",
       " 'screen_time_days',\n",
       " 'tired_days',\n",
       " 'concentration_days',\n",
       " 'fizzy_drink_days',\n",
       " 'sugary_snack_days',\n",
       " 'takeaway_days',\n",
       " 'play_safety',\n",
       " 'park_access',\n",
       " 'play_area_access',\n",
       " 'garden',\n",
       " 'play_frequency',\n",
       " 'play_time',\n",
       " 'play_places',\n",
       " 'play_places_access',\n",
       " 'relax_space',\n",
       " 'school_work',\n",
       " 'school_community',\n",
       " 'choices',\n",
       " 'skills',\n",
       " 'health',\n",
       " 'school',\n",
       " 'family',\n",
       " 'friends',\n",
       " 'appearance',\n",
       " 'life',\n",
       " '24_I_feel_lonely',\n",
       " '24_i_cry_a_lot',\n",
       " '24_iam_unhappy',\n",
       " '24_nobody_likes_me',\n",
       " '24_i_worry_a_lot',\n",
       " '24_i_have_sleep_issues',\n",
       " '24_wake_up_in_the night',\n",
       " '24_iam_shy',\n",
       " '24_i_feel_scared',\n",
       " '24_i_worry_at_school',\n",
       " '24_i_get_angry',\n",
       " '24_i_loose_my_temper',\n",
       " '24_i_hit_when_angry',\n",
       " '24_i_hurt_others',\n",
       " '24_iam_calm',\n",
       " '24_i_break_things',\n",
       " 'family_contact',\n",
       " 'friends_contact',\n",
       " 'hours_sleep',\n",
       " 'behavior_difficulty']"
      ]
     },
     "execution_count": 3,
     "metadata": {},
     "output_type": "execute_result"
    }
   ],
   "source": [
    "# Create a dictionary for renaming columns to concise names\n",
    "renamed_columns = {\n",
    "    'Are you still going to school?': 'school_status',\n",
    "    'Do you have any other children living in your house with you?': 'other_kids_home',\n",
    "    'How many people live in your home with you (including adults)?': 'people_home',\n",
    "    'What year are you in now?': 'school_year',\n",
    "    'Gender': 'gender',\n",
    "    '1. What did you eat for breakfast YESTERDAY?': 'breakfast',\n",
    "    '2. Did you eat any fruit and vegetables YESTERDAY? ': 'fruit_veg',\n",
    "    '3. How many times did you brush your teeth YESTERDAY?': 'teeth_brush',\n",
    "    '6. In the last 7 days, how many days did you do sports or exercise for at least 1 hour in total. This includes doing any activities (including online activities) or playing sports where your heart beat faster, you breathed faster and you felt warmer?': 'exercise_days',\n",
    "    '7. In the last 7 days, how many days did you watch TV/play online games/use the internet etc. for 2 or more hours a day (in total)?': 'screen_time_days',\n",
    "    '8. In the last 7 days, how many days did you feel tired?': 'tired_days',\n",
    "    '9. In the last 7 days, how many days did you feel like you could concentrate/pay attention well on your school work?': 'concentration_days',\n",
    "    '10. In the last 7 days, how many days did you drink at least one fizzy drink (e.g. coke, sprite, thumsup)?': 'fizzy_drink_days',\n",
    "    '11. In the last 7 days, how many days did you eat at least one sugary snack (e.g. chocolate bar, sweets)?': 'sugary_snack_days',\n",
    "    '12. In the last 7 days, how many days did you eat take away foods (e.g. Chinese takeaway)?': 'takeaway_days',\n",
    "    '13. On a scale of 0 to 10 (0 being not very safe and 10 being very safe), how safe do you feel playing in your area?': 'play_safety',\n",
    "    '14. From your house, can you easily walk to a park (for example a field or grassy area)?': 'park_access',\n",
    "    '15. From your house, can you easily walk to somewhere you can play?': 'play_area_access',\n",
    "    '16. Do you have a garden?': 'garden',\n",
    "    '17. How often do you go out to play outside?': 'play_frequency',\n",
    "    '18. Do you have enough time for play?': 'play_time',\n",
    "    '19. What type of places do you play in?': 'play_places',\n",
    "    '20. Can you play in all the places you would like to?': 'play_places_access',\n",
    "    '21. Do you have somewhere at home where you have space to relax?': 'relax_space',\n",
    "    '22. Tell us if you agree or disagree with the following: [I am doing well with my school work]': 'school_work',\n",
    "    '22. Tell us if you agree or disagree with the following: [I feel part of my school community]': 'school_community',\n",
    "    '22. Tell us if you agree or disagree with the following: [I have lots of choice over things that are important to me]': 'choices',\n",
    "    \"22. Tell us if you agree or disagree with the following: [There are lots of things I'm good at]\": 'skills',\n",
    "    'Your Health ': 'health',\n",
    "    'Your School': 'school',\n",
    "    'Your Family': 'family',\n",
    "    'Your Friends': 'friends',\n",
    "    'Your Appearance (how you look)': 'appearance',\n",
    "    'Your Life': 'life',\n",
    "    '24. Remember, there are no right or wrong answers, just pick which is right for you. [I feel lonely]': '24_I_feel_lonely',\n",
    "    '24. Remember, there are no right or wrong answers, just pick which is right for you. [I cry a lot]': '24_i_cry_a_lot',\n",
    "    '24. Remember, there are no right or wrong answers, just pick which is right for you. [I am unhappy]': '24_iam_unhappy',\n",
    "    '24. Remember, there are no right or wrong answers, just pick which is right for you. [I feel nobody likes me]': '24_nobody_likes_me',\n",
    "    '24. Remember, there are no right or wrong answers, just pick which is right for you. [I worry a lot]': '24_i_worry_a_lot',\n",
    "    '24. Remember, there are no right or wrong answers, just pick which is right for you. [I have problems sleeping]': '24_i_have_sleep_issues',\n",
    "    '24. Remember, there are no right or wrong answers, just pick which is right for you. [I wake up in the night]': '24_wake_up_in_the night',\n",
    "    '24. Remember, there are no right or wrong answers, just pick which is right for you. [I am shy]': '24_iam_shy',\n",
    "    '24. Remember, there are no right or wrong answers, just pick which is right for you. [I feel scared]': '24_i_feel_scared',\n",
    "    '24. Remember, there are no right or wrong answers, just pick which is right for you. [I worry when I am at school]': '24_i_worry_at_school',\n",
    "    '24. Remember, there are no right or wrong answers, just pick which is right for you. [I get very angry]': '24_i_get_angry',\n",
    "    '24. Remember, there are no right or wrong answers, just pick which is right for you. [I lose my temper]': '24_i_loose_my_temper',\n",
    "    '24. Remember, there are no right or wrong answers, just pick which is right for you. [I hit out when I am angry]': '24_i_hit_when_angry',\n",
    "    '24. Remember, there are no right or wrong answers, just pick which is right for you. [I do things to hurt people]': '24_i_hurt_others',\n",
    "    '24. Remember, there are no right or wrong answers, just pick which is right for you. [I am calm]': '24_iam_calm',\n",
    "    '24. Remember, there are no right or wrong answers, just pick which is right for you. [I break things on purpose]': '24_i_break_things',\n",
    "    \"25. Are you able to keep in touch with your family that you don't live with? (grand parents, Uncle, Aunt, Cousins, etc)\": 'family_contact',\n",
    "    '26. Are you able to keep in touch with your friends?': 'friends_contact',\n",
    "    'hours of sleep had last night': 'hours_sleep',\n",
    "    'behavioral difficulty category': 'behavior_difficulty'\n",
    "}\n",
    "\n",
    "# Rename columns\n",
    "data.rename(columns=renamed_columns, inplace=True)\n",
    "\n",
    "# Display renamed columns\n",
    "data.columns.tolist()\n"
   ]
  },
  {
   "cell_type": "code",
   "execution_count": 4,
   "id": "dc175e45",
   "metadata": {},
   "outputs": [],
   "source": [
    "data.to_csv('behavioral_difficulty_renamed_columns.csv')"
   ]
  },
  {
   "cell_type": "markdown",
   "id": "e24ad053",
   "metadata": {},
   "source": [
    "#### # Calculate the distribution of the 'behavioral_difficulty' feature"
   ]
  },
  {
   "cell_type": "code",
   "execution_count": 5,
   "id": "dfde8c19",
   "metadata": {},
   "outputs": [
    {
     "name": "stdout",
     "output_type": "stream",
     "text": [
      "Class 0 (Expected): 88.12%\n",
      "Class 1 (Borderline): 5.30%\n",
      "Class 2 (Significant): 6.57%\n"
     ]
    }
   ],
   "source": [
    "# Calculate the distribution of the 'behavioral_difficulty' feature\n",
    "behavioral_difficulty_distribution = data['behavior_difficulty'].value_counts(normalize=True) * 100\n",
    "\n",
    "# Display the distribution with class labels\n",
    "class_distribution = {\n",
    "    'Class 0 (Expected)': behavioral_difficulty_distribution.get(0, 0),\n",
    "    'Class 1 (Borderline)': behavioral_difficulty_distribution.get(1, 0),\n",
    "    'Class 2 (Significant)': behavioral_difficulty_distribution.get(2, 0)\n",
    "}\n",
    "\n",
    "# Print the results\n",
    "for class_label, percentage in class_distribution.items():\n",
    "    print(f\"{class_label}: {percentage:.2f}%\")\n"
   ]
  },
  {
   "cell_type": "code",
   "execution_count": 6,
   "id": "c735e771",
   "metadata": {},
   "outputs": [
    {
     "data": {
      "image/png": "[encoded data removed]",
      "text/plain": [
       "<Figure size 576x432 with 1 Axes>"
      ]
     },
     "metadata": {
      "needs_background": "light"
     },
     "output_type": "display_data"
    }
   ],
   "source": [
    "# Visualize the class distribution\n",
    "labels = list(class_distribution.keys())\n",
    "sizes = list(class_distribution.values())\n",
    "\n",
    "plt.figure(figsize=(8, 6))\n",
    "plt.bar(labels, sizes, color=['blue', 'orange', 'red'])\n",
    "plt.title('Class Distribution of Behavioral Difficulty')\n",
    "plt.ylabel('Percentage')\n",
    "plt.xlabel('Class')\n",
    "plt.ylim(0, 100)\n",
    "plt.show()"
   ]
  },
  {
   "cell_type": "markdown",
   "id": "24249359",
   "metadata": {},
   "source": [
    "### Hypothesis Testing - Kruskal-Wallis H Test"
   ]
  },
  {
   "cell_type": "markdown",
   "id": "6e84a062",
   "metadata": {},
   "source": [
    "### 1. Lifestyle and Behavioral Difficulties"
   ]
  },
  {
   "cell_type": "markdown",
   "id": "f424c6d9",
   "metadata": {},
   "source": [
    "#### 1.1. hours of sleep and behavior_difficulty"
   ]
  },
  {
   "cell_type": "code",
   "execution_count": 8,
   "id": "bf46816c",
   "metadata": {},
   "outputs": [
    {
     "name": "stdout",
     "output_type": "stream",
     "text": [
      "Kruskal-Wallis H Test result for 0       8.5\n",
      "1      10.0\n",
      "2       8.0\n",
      "3      12.0\n",
      "4      11.0\n",
      "       ... \n",
      "938    10.5\n",
      "939    11.0\n",
      "940     8.0\n",
      "941    11.5\n",
      "942    10.5\n",
      "Name: hours_sleep, Length: 943, dtype: float64: H-statistic = 17.393944437192072, p-value = 0.00016709096076394383\n"
     ]
    }
   ],
   "source": [
    "# Perform Kruskal-Wallis H Test on Lifestyle Features (e.g., 'hours of sleep had last night')\n",
    "lifestyle_feature = data['hours_sleep']\n",
    "kwh_result = kruskal(\n",
    "    data[data['behavior_difficulty'] == 0]['hours_sleep'],\n",
    "    data[data['behavior_difficulty'] == 1]['hours_sleep'],\n",
    "    data[data['behavior_difficulty'] == 2]['hours_sleep']\n",
    ")\n",
    "\n",
    "print(f\"Kruskal-Wallis H Test result for {lifestyle_feature}: H-statistic = {kwh_result.statistic}, p-value = {kwh_result.pvalue}\")"
   ]
  },
  {
   "cell_type": "code",
   "execution_count": 75,
   "id": "9b128841",
   "metadata": {},
   "outputs": [
    {
     "name": "stdout",
     "output_type": "stream",
     "text": [
      "Kruskal-Wallis H Test result for 0       8.5\n",
      "1      10.0\n",
      "2       8.0\n",
      "3      12.0\n",
      "4      11.0\n",
      "       ... \n",
      "938    10.5\n",
      "939    11.0\n",
      "940     8.0\n",
      "941    11.5\n",
      "942    10.5\n",
      "Name: hours_sleep, Length: 943, dtype: float64: H-statistic = 19.254424794749685, p-value = 6.591052632804123e-05\n"
     ]
    }
   ],
   "source": [
    "lifestyle_feature = data['hours_sleep']\n",
    "kwh_result = kruskal(\n",
    "    data[data['24_i_have_sleep_issues'] == 0]['hours_sleep'],\n",
    "    data[data['24_i_have_sleep_issues'] == 1]['hours_sleep'],\n",
    "    data[data['24_i_have_sleep_issues'] == 2]['hours_sleep']\n",
    ")\n",
    "\n",
    "print(f\"Kruskal-Wallis H Test result for {lifestyle_feature}: H-statistic = {kwh_result.statistic}, p-value = {kwh_result.pvalue}\")"
   ]
  },
  {
   "cell_type": "markdown",
   "id": "43c986a9",
   "metadata": {},
   "source": [
    "#### 1.2. Physical Activity and Behavioral Difficulties"
   ]
  },
  {
   "cell_type": "code",
   "execution_count": 9,
   "id": "4dc24b7b",
   "metadata": {},
   "outputs": [
    {
     "name": "stdout",
     "output_type": "stream",
     "text": [
      "KruskalResult(statistic=5.189641787660818, pvalue=0.07465924680872978)\n"
     ]
    }
   ],
   "source": [
    "# Perform Kruskal-Wallis H Test on Physical Activity (exercise_days) and Behavior (behavior_difficulty)\n",
    "kwh_result = kruskal(\n",
    "    data[data['behavior_difficulty'] == 0]['exercise_days'],\n",
    "    data[data['behavior_difficulty'] == 1]['exercise_days'],\n",
    "    data[data['behavior_difficulty'] == 2]['exercise_days']\n",
    ")\n",
    "\n",
    "# Output the result\n",
    "print(kwh_result)"
   ]
  },
  {
   "cell_type": "markdown",
   "id": "5773f340",
   "metadata": {},
   "source": [
    "H-statistic: 5.19\n",
    "\n",
    "p-value: 0.075\n",
    "\n",
    "Interpretation:\n",
    "\n",
    "Since the p-value (0.075) is greater than the standard significance level (\n",
    "alpha =\n",
    "0.05\n",
    "α=0.05), we fail to reject the null hypothesis (\n",
    "𝐻\n",
    "0\n",
    "H \n",
    "0\n",
    "​\n",
    " ).\n",
    " \n",
    "This indicates that there is no statistically significant difference in physical activity levels (exercise_days) across the groups of behavioral difficulties (behavior_difficulty)."
   ]
  },
  {
   "cell_type": "markdown",
   "id": "d00f28be",
   "metadata": {},
   "source": [
    "#### 1.3. Diet and Behavior"
   ]
  },
  {
   "cell_type": "code",
   "execution_count": 10,
   "id": "436dd51f",
   "metadata": {},
   "outputs": [
    {
     "name": "stdout",
     "output_type": "stream",
     "text": [
      "KruskalResult(statistic=0.7080448014032052, pvalue=0.701859245039784)\n"
     ]
    }
   ],
   "source": [
    "# Perform Kruskal-Wallis H Test on Diet (fruit_veg) and Behavior (behavior_difficulty)\n",
    "kwh_diet_result = kruskal(\n",
    "    data[data['behavior_difficulty'] == 0]['fruit_veg'],\n",
    "    data[data['behavior_difficulty'] == 1]['fruit_veg'],\n",
    "    data[data['behavior_difficulty'] == 2]['fruit_veg']\n",
    ")\n",
    "\n",
    "# Output the result\n",
    "print(kwh_diet_result)\n"
   ]
  },
  {
   "cell_type": "markdown",
   "id": "c32f0cfd",
   "metadata": {},
   "source": [
    "* This indicates that there is no statistically significant difference in diet (fruit_veg) across the groups of behavioral difficulties (behavior_difficulty)."
   ]
  },
  {
   "cell_type": "markdown",
   "id": "37ee47a5",
   "metadata": {},
   "source": [
    "### 2. Emotional Well-being and Environmental Factors"
   ]
  },
  {
   "cell_type": "markdown",
   "id": "0486e346",
   "metadata": {},
   "source": [
    "#### 2.1. play_area_access and behavior_difficulty"
   ]
  },
  {
   "cell_type": "code",
   "execution_count": 11,
   "id": "cec71ac2",
   "metadata": {},
   "outputs": [
    {
     "name": "stdout",
     "output_type": "stream",
     "text": [
      "KruskalResult(statistic=1.430325554590332, pvalue=0.48911248890813186)\n"
     ]
    }
   ],
   "source": [
    "# Rename the column in the dataset\n",
    "data.rename(columns=renamed_columns, inplace=True)\n",
    "\n",
    "# Perform Kruskal-Wallis H Test on Access to Play Areas (play_area_access) and behavior_difficulty\n",
    "kwh_play_access_result = kruskal(\n",
    "    data[data['behavior_difficulty'] == 0]['play_area_access'],\n",
    "    data[data['behavior_difficulty'] == 1]['play_area_access'],\n",
    "    data[data['behavior_difficulty'] == 2]['play_area_access']\n",
    ")\n",
    "\n",
    "# Output the result\n",
    "print(kwh_play_access_result)\n"
   ]
  },
  {
   "cell_type": "markdown",
   "id": "3238a677",
   "metadata": {},
   "source": [
    "* This indicates that there is no statistically significant difference in access to play areas (play_area_access) across the groups of behavioral difficulties (behavior_difficulty)."
   ]
  },
  {
   "cell_type": "markdown",
   "id": "3cc27a75",
   "metadata": {},
   "source": [
    "#### 2.2. family_contact and behavior_difficulty"
   ]
  },
  {
   "cell_type": "code",
   "execution_count": 12,
   "id": "428aa1a9",
   "metadata": {},
   "outputs": [
    {
     "name": "stdout",
     "output_type": "stream",
     "text": [
      "KruskalResult(statistic=4.60247123361647, pvalue=0.10013503871385224)\n"
     ]
    }
   ],
   "source": [
    "# Perform Kruskal-Wallis H Test on Family Support (family_contact) and Behavioral Difficulty (behavior_difficulty)\n",
    "kwh_family_support_result = kruskal(\n",
    "    data[data['behavior_difficulty'] == 0]['family_contact'],\n",
    "    data[data['behavior_difficulty'] == 1]['family_contact'],\n",
    "    data[data['behavior_difficulty'] == 2]['family_contact']\n",
    ")\n",
    "\n",
    "# Output the result\n",
    "print(kwh_family_support_result)\n"
   ]
  },
  {
   "cell_type": "markdown",
   "id": "4df40309",
   "metadata": {},
   "source": [
    "* This indicates that there is no statistically significant difference in family support (family_contact) across the groups of behavioral difficulties (behavior_difficulty)."
   ]
  },
  {
   "cell_type": "markdown",
   "id": "7e8463c2",
   "metadata": {},
   "source": [
    "### 3. Academic and Social Engagement"
   ]
  },
  {
   "cell_type": "markdown",
   "id": "6edc1ed5",
   "metadata": {},
   "source": [
    "#### 3.1. school_work and behavior_difficulty"
   ]
  },
  {
   "cell_type": "code",
   "execution_count": 13,
   "id": "f905b0b1",
   "metadata": {},
   "outputs": [
    {
     "name": "stdout",
     "output_type": "stream",
     "text": [
      "KruskalResult(statistic=0.7026010361881602, pvalue=0.703772225785247)\n"
     ]
    }
   ],
   "source": [
    "# Perform Kruskal-Wallis H Test on School Performance (school_work) and Behavioral Difficulty (behavior_difficulty)\n",
    "kwh_school_performance_result = kruskal(\n",
    "    data[data['behavior_difficulty'] == 0]['school_work'],\n",
    "    data[data['behavior_difficulty'] == 1]['school_work'],\n",
    "    data[data['behavior_difficulty'] == 2]['school_work']\n",
    ")\n",
    "\n",
    "# Output the result\n",
    "print(kwh_school_performance_result)"
   ]
  },
  {
   "cell_type": "markdown",
   "id": "43da0a4f",
   "metadata": {},
   "source": [
    "* This indicates that there is no statistically significant difference in school performance (school_work) across the groups of behavioral difficulties (behavior_difficulty)."
   ]
  },
  {
   "cell_type": "markdown",
   "id": "85abeba7",
   "metadata": {},
   "source": [
    "#### 3.2. friends_contact and behavior_difficulty"
   ]
  },
  {
   "cell_type": "code",
   "execution_count": 14,
   "id": "8309ac77",
   "metadata": {},
   "outputs": [
    {
     "name": "stdout",
     "output_type": "stream",
     "text": [
      "KruskalResult(statistic=10.222217186846926, pvalue=0.006029395069507456)\n"
     ]
    }
   ],
   "source": [
    "# Perform Kruskal-Wallis H Test on Social Connectivity (friends_contact) and Behavioral Difficulty (behavior_difficulty)\n",
    "kwh_social_connectivity_result = kruskal(\n",
    "    data[data['behavior_difficulty'] == 0]['friends_contact'],\n",
    "    data[data['behavior_difficulty'] == 1]['friends_contact'],\n",
    "    data[data['behavior_difficulty'] == 2]['friends_contact']\n",
    ")\n",
    "\n",
    "# Output the Kruskal-Wallis test result\n",
    "print(kwh_social_connectivity_result)"
   ]
  },
  {
   "cell_type": "markdown",
   "id": "7471f05d",
   "metadata": {},
   "source": [
    "* This indicates that there is a statistically significant difference in social connectivity (friends_contact) across the groups of behavioral difficulties (behavior_difficulty)."
   ]
  },
  {
   "cell_type": "markdown",
   "id": "b0d06156",
   "metadata": {},
   "source": [
    "### 4. Physical Activity and Overall Well-being"
   ]
  },
  {
   "cell_type": "markdown",
   "id": "796ec77d",
   "metadata": {},
   "source": [
    "#### 4.1. play_frequency and behavior_difficulty"
   ]
  },
  {
   "cell_type": "code",
   "execution_count": 15,
   "id": "7216fcd6",
   "metadata": {},
   "outputs": [
    {
     "name": "stdout",
     "output_type": "stream",
     "text": [
      "KruskalResult(statistic=3.600420394395891, pvalue=0.165264146509892)\n"
     ]
    }
   ],
   "source": [
    "# Perform Kruskal-Wallis H Test on Outdoor Play (play_frequency) and Behavioral Difficulty (behavior_difficulty)\n",
    "kwh_outdoor_play_result = kruskal(\n",
    "    data[data['behavior_difficulty'] == 0]['play_frequency'],\n",
    "    data[data['behavior_difficulty'] == 1]['play_frequency'],\n",
    "    data[data['behavior_difficulty'] == 2]['play_frequency']\n",
    ")\n",
    "\n",
    "# Output the Kruskal-Wallis test result\n",
    "print(kwh_outdoor_play_result)"
   ]
  },
  {
   "cell_type": "markdown",
   "id": "6f985e8f",
   "metadata": {},
   "source": [
    "* This indicates that there is no statistically significant difference in outdoor play frequency across the groups of behavioral difficulties."
   ]
  },
  {
   "cell_type": "markdown",
   "id": "902796fd",
   "metadata": {},
   "source": [
    "#### 4.2. exercise_days and behavior_difficulty"
   ]
  },
  {
   "cell_type": "code",
   "execution_count": 16,
   "id": "73de0d4d",
   "metadata": {},
   "outputs": [
    {
     "name": "stdout",
     "output_type": "stream",
     "text": [
      "KruskalResult(statistic=5.189641787660818, pvalue=0.07465924680872978)\n"
     ]
    }
   ],
   "source": [
    "# Perform Kruskal-Wallis H Test on Exercise (exercise_days) and Emotional Health (behavior_difficulty)\n",
    "kwh_exercise_emotional_health_result = kruskal(\n",
    "    data[data['behavior_difficulty'] == 0]['exercise_days'],\n",
    "    data[data['behavior_difficulty'] == 1]['exercise_days'],\n",
    "    data[data['behavior_difficulty'] == 2]['exercise_days']\n",
    ")\n",
    "\n",
    "# Output the Kruskal-Wallis test result\n",
    "print(kwh_exercise_emotional_health_result)"
   ]
  },
  {
   "cell_type": "markdown",
   "id": "e76ee128",
   "metadata": {},
   "source": [
    "### 5. Other categories"
   ]
  },
  {
   "cell_type": "markdown",
   "id": "ff27729b",
   "metadata": {},
   "source": [
    "#### 5.1. Perform Kruskal-Wallis H Test for Screen Time and Behavioral Difficulty"
   ]
  },
  {
   "cell_type": "code",
   "execution_count": 17,
   "id": "de7d0b0a",
   "metadata": {},
   "outputs": [
    {
     "name": "stdout",
     "output_type": "stream",
     "text": [
      "Screen Time vs Behavioral Difficulty: KruskalResult(statistic=2.2138017987258403, pvalue=0.33058188170969405) \n"
     ]
    }
   ],
   "source": [
    "# Perform Kruskal-Wallis H Test for Screen Time, Sleep Patterns, and Dietary Habits vs Behavioral Difficulty\n",
    "\n",
    "# Screen Time (screen_time_days)\n",
    "kwh_screen_time_result = kruskal(\n",
    "    data[data['behavior_difficulty'] == 0]['screen_time_days'],\n",
    "    data[data['behavior_difficulty'] == 1]['screen_time_days'],\n",
    "    data[data['behavior_difficulty'] == 2]['screen_time_days']\n",
    ")\n",
    "\n",
    "\n",
    "\n",
    "\n",
    "# Display the results\n",
    "print(f\"Screen Time vs Behavioral Difficulty: {kwh_screen_time_result} \")\n"
   ]
  },
  {
   "cell_type": "markdown",
   "id": "e4d3396c",
   "metadata": {},
   "source": [
    "* Interpretation: No statistically significant difference in screen time across behavioral difficulty group."
   ]
  },
  {
   "cell_type": "markdown",
   "id": "438606f6",
   "metadata": {},
   "source": [
    "#### 5.2. Gender vs behaviora difficulty"
   ]
  },
  {
   "cell_type": "code",
   "execution_count": 18,
   "id": "e48238dc",
   "metadata": {},
   "outputs": [
    {
     "name": "stdout",
     "output_type": "stream",
     "text": [
      "KruskalResult(statistic=8.319854330171081, pvalue=0.015608694736528326)\n"
     ]
    }
   ],
   "source": [
    "# Perform Kruskal-Wallis H Test on Gender (gender) and Behavioral Difficulty (behavior_difficulty)\n",
    "kwh_gender_result = kruskal(\n",
    "    data[data['behavior_difficulty'] == 0]['gender'],\n",
    "    data[data['behavior_difficulty'] == 1]['gender'],\n",
    "    data[data['behavior_difficulty'] == 2]['gender']\n",
    ")\n",
    "\n",
    "# Display the result\n",
    "print(kwh_gender_result)"
   ]
  },
  {
   "cell_type": "markdown",
   "id": "625da40a",
   "metadata": {},
   "source": [
    "* This indicates that there is a statistically significant difference in gender distribution across the behavioral difficulty groups."
   ]
  },
  {
   "cell_type": "markdown",
   "id": "9822b730",
   "metadata": {},
   "source": [
    "#### 5.3 Screen Time and hours_sleep"
   ]
  },
  {
   "cell_type": "code",
   "execution_count": 19,
   "id": "125aed07",
   "metadata": {},
   "outputs": [
    {
     "name": "stdout",
     "output_type": "stream",
     "text": [
      "Screen Time vs hours_sleep: KruskalResult(statistic=37.96412018653989, pvalue=1.1398200890905409e-07) \n"
     ]
    }
   ],
   "source": [
    "# Screen Time (screen_time_days)\n",
    "kwh_screen_time_result = kruskal(\n",
    "    data[data['screen_time_days'] == 0]['hours_sleep'],\n",
    "    data[data['screen_time_days'] == 1]['hours_sleep'],\n",
    "    data[data['screen_time_days'] == 2]['hours_sleep'],\n",
    "    data[data['screen_time_days'] == 3]['hours_sleep'],\n",
    "    data[data['screen_time_days'] == 4]['hours_sleep']\n",
    ")\n",
    "\n",
    "\n",
    "\n",
    "\n",
    "# Display the results\n",
    "print(f\"Screen Time vs hours_sleep: {kwh_screen_time_result} \")\n"
   ]
  },
  {
   "cell_type": "code",
   "execution_count": 70,
   "id": "06732518",
   "metadata": {},
   "outputs": [
    {
     "name": "stdout",
     "output_type": "stream",
     "text": [
      "Screen Time vs hours_sleep: KruskalResult(statistic=4.8966878461518535, pvalue=0.29806317163888274) \n"
     ]
    }
   ],
   "source": []
  },
  {
   "cell_type": "markdown",
   "id": "f6ff5dc5",
   "metadata": {},
   "source": [
    "### Correlation Analysis"
   ]
  },
  {
   "cell_type": "code",
   "execution_count": 20,
   "id": "c40d6a39",
   "metadata": {},
   "outputs": [
    {
     "name": "stdout",
     "output_type": "stream",
     "text": [
      "                         24_I_feel_lonely  24_i_cry_a_lot  24_iam_unhappy  \\\n",
      "24_I_feel_lonely                 1.000000        0.215227        0.359504   \n",
      "24_i_cry_a_lot                   0.215227        1.000000        0.312117   \n",
      "24_iam_unhappy                   0.359504        0.312117        1.000000   \n",
      "24_nobody_likes_me               0.365907        0.270252        0.340638   \n",
      "24_i_worry_a_lot                 0.238325        0.306527        0.266568   \n",
      "24_i_have_sleep_issues           0.172024        0.144978        0.219873   \n",
      "24_wake_up_in_the night          0.108591        0.160008        0.201791   \n",
      "24_iam_shy                       0.150084        0.142955        0.171685   \n",
      "24_i_feel_scared                 0.272599        0.313161        0.370995   \n",
      "24_i_worry_at_school             0.279164        0.272893        0.283060   \n",
      "24_i_get_angry                   0.210707        0.227907        0.316679   \n",
      "24_i_loose_my_temper             0.192537        0.184708        0.256316   \n",
      "24_i_hit_when_angry              0.114121        0.133248        0.183433   \n",
      "24_i_hurt_others                 0.076570        0.168532        0.213110   \n",
      "24_iam_calm                      0.121365        0.154147        0.162339   \n",
      "24_i_break_things                0.080019        0.132394        0.127089   \n",
      "\n",
      "                         24_nobody_likes_me  24_i_worry_a_lot  \\\n",
      "24_I_feel_lonely                   0.365907          0.238325   \n",
      "24_i_cry_a_lot                     0.270252          0.306527   \n",
      "24_iam_unhappy                     0.340638          0.266568   \n",
      "24_nobody_likes_me                 1.000000          0.359720   \n",
      "24_i_worry_a_lot                   0.359720          1.000000   \n",
      "24_i_have_sleep_issues             0.204254          0.253773   \n",
      "24_wake_up_in_the night            0.181030          0.190244   \n",
      "24_iam_shy                         0.204838          0.221887   \n",
      "24_i_feel_scared                   0.300819          0.388586   \n",
      "24_i_worry_at_school               0.355342          0.358827   \n",
      "24_i_get_angry                     0.292813          0.229954   \n",
      "24_i_loose_my_temper               0.264280          0.186666   \n",
      "24_i_hit_when_angry                0.219525          0.136760   \n",
      "24_i_hurt_others                   0.253183          0.081383   \n",
      "24_iam_calm                        0.181062          0.131090   \n",
      "24_i_break_things                  0.201737          0.095019   \n",
      "\n",
      "                         24_i_have_sleep_issues  24_wake_up_in_the night  \\\n",
      "24_I_feel_lonely                       0.172024                 0.108591   \n",
      "24_i_cry_a_lot                         0.144978                 0.160008   \n",
      "24_iam_unhappy                         0.219873                 0.201791   \n",
      "24_nobody_likes_me                     0.204254                 0.181030   \n",
      "24_i_worry_a_lot                       0.253773                 0.190244   \n",
      "24_i_have_sleep_issues                 1.000000                 0.461230   \n",
      "24_wake_up_in_the night                0.461230                 1.000000   \n",
      "24_iam_shy                             0.160855                 0.136755   \n",
      "24_i_feel_scared                       0.268182                 0.225572   \n",
      "24_i_worry_at_school                   0.193507                 0.146313   \n",
      "24_i_get_angry                         0.180960                 0.183985   \n",
      "24_i_loose_my_temper                   0.147254                 0.158720   \n",
      "24_i_hit_when_angry                    0.169579                 0.157825   \n",
      "24_i_hurt_others                       0.122338                 0.151793   \n",
      "24_iam_calm                            0.111402                 0.113165   \n",
      "24_i_break_things                      0.120817                 0.113912   \n",
      "\n",
      "                         24_iam_shy  24_i_feel_scared  24_i_worry_at_school  \\\n",
      "24_I_feel_lonely           0.150084          0.272599              0.279164   \n",
      "24_i_cry_a_lot             0.142955          0.313161              0.272893   \n",
      "24_iam_unhappy             0.171685          0.370995              0.283060   \n",
      "24_nobody_likes_me         0.204838          0.300819              0.355342   \n",
      "24_i_worry_a_lot           0.221887          0.388586              0.358827   \n",
      "24_i_have_sleep_issues     0.160855          0.268182              0.193507   \n",
      "24_wake_up_in_the night    0.136755          0.225572              0.146313   \n",
      "24_iam_shy                 1.000000          0.255480              0.204152   \n",
      "24_i_feel_scared           0.255480          1.000000              0.313231   \n",
      "24_i_worry_at_school       0.204152          0.313231              1.000000   \n",
      "24_i_get_angry             0.112956          0.250252              0.306114   \n",
      "24_i_loose_my_temper       0.055413          0.191717              0.289822   \n",
      "24_i_hit_when_angry        0.067017          0.121154              0.267040   \n",
      "24_i_hurt_others           0.089275          0.183710              0.201987   \n",
      "24_iam_calm                0.049304          0.102562              0.177630   \n",
      "24_i_break_things          0.061245          0.126256              0.245883   \n",
      "\n",
      "                         24_i_get_angry  24_i_loose_my_temper  \\\n",
      "24_I_feel_lonely               0.210707              0.192537   \n",
      "24_i_cry_a_lot                 0.227907              0.184708   \n",
      "24_iam_unhappy                 0.316679              0.256316   \n",
      "24_nobody_likes_me             0.292813              0.264280   \n",
      "24_i_worry_a_lot               0.229954              0.186666   \n",
      "24_i_have_sleep_issues         0.180960              0.147254   \n",
      "24_wake_up_in_the night        0.183985              0.158720   \n",
      "24_iam_shy                     0.112956              0.055413   \n",
      "24_i_feel_scared               0.250252              0.191717   \n",
      "24_i_worry_at_school           0.306114              0.289822   \n",
      "24_i_get_angry                 1.000000              0.688876   \n",
      "24_i_loose_my_temper           0.688876              1.000000   \n",
      "24_i_hit_when_angry            0.518956              0.561261   \n",
      "24_i_hurt_others               0.337135              0.337283   \n",
      "24_iam_calm                    0.401817              0.373774   \n",
      "24_i_break_things              0.274310              0.289693   \n",
      "\n",
      "                         24_i_hit_when_angry  24_i_hurt_others  24_iam_calm  \\\n",
      "24_I_feel_lonely                    0.114121          0.076570     0.121365   \n",
      "24_i_cry_a_lot                      0.133248          0.168532     0.154147   \n",
      "24_iam_unhappy                      0.183433          0.213110     0.162339   \n",
      "24_nobody_likes_me                  0.219525          0.253183     0.181062   \n",
      "24_i_worry_a_lot                    0.136760          0.081383     0.131090   \n",
      "24_i_have_sleep_issues              0.169579          0.122338     0.111402   \n",
      "24_wake_up_in_the night             0.157825          0.151793     0.113165   \n",
      "24_iam_shy                          0.067017          0.089275     0.049304   \n",
      "24_i_feel_scared                    0.121154          0.183710     0.102562   \n",
      "24_i_worry_at_school                0.267040          0.201987     0.177630   \n",
      "24_i_get_angry                      0.518956          0.337135     0.401817   \n",
      "24_i_loose_my_temper                0.561261          0.337283     0.373774   \n",
      "24_i_hit_when_angry                 1.000000          0.509556     0.326773   \n",
      "24_i_hurt_others                    0.509556          1.000000     0.247070   \n",
      "24_iam_calm                         0.326773          0.247070     1.000000   \n",
      "24_i_break_things                   0.361851          0.480589     0.196555   \n",
      "\n",
      "                         24_i_break_things  \n",
      "24_I_feel_lonely                  0.080019  \n",
      "24_i_cry_a_lot                    0.132394  \n",
      "24_iam_unhappy                    0.127089  \n",
      "24_nobody_likes_me                0.201737  \n",
      "24_i_worry_a_lot                  0.095019  \n",
      "24_i_have_sleep_issues            0.120817  \n",
      "24_wake_up_in_the night           0.113912  \n",
      "24_iam_shy                        0.061245  \n",
      "24_i_feel_scared                  0.126256  \n",
      "24_i_worry_at_school              0.245883  \n",
      "24_i_get_angry                    0.274310  \n",
      "24_i_loose_my_temper              0.289693  \n",
      "24_i_hit_when_angry               0.361851  \n",
      "24_i_hurt_others                  0.480589  \n",
      "24_iam_calm                       0.196555  \n",
      "24_i_break_things                 1.000000  \n"
     ]
    }
   ],
   "source": [
    "# Filter columns related to emotional and behavioral features\n",
    "emotional_behavioral_columns = [col for col in data.columns if col.startswith('24')]\n",
    "\n",
    "# Separate emotional and behavioral difficulty columns\n",
    "emotional_difficulty_columns = emotional_behavioral_columns[:10]\n",
    "behavioral_difficulty_columns = emotional_behavioral_columns[10:16]\n",
    "\n",
    "# Perform correlation analysis\n",
    "correlation_matrix = data[emotional_difficulty_columns + behavioral_difficulty_columns].corr()\n",
    "\n",
    "# Display the correlation matrix\n",
    "print(correlation_matrix)"
   ]
  },
  {
   "cell_type": "markdown",
   "id": "99ba1370",
   "metadata": {},
   "source": [
    "#### Heatmap"
   ]
  },
  {
   "cell_type": "code",
   "execution_count": 21,
   "id": "c5f78a01",
   "metadata": {
    "scrolled": false
   },
   "outputs": [
    {
     "data": {
      "image/png": "[encoded data removed]",
      "text/plain": [
       "<Figure size 864x576 with 2 Axes>"
      ]
     },
     "metadata": {
      "needs_background": "light"
     },
     "output_type": "display_data"
    }
   ],
   "source": [
    "import seaborn as sns\n",
    "import matplotlib.pyplot as plt\n",
    "\n",
    "# Visualize the correlation matrix using a heatmap\n",
    "plt.figure(figsize=(12, 8))\n",
    "sns.heatmap(correlation_matrix, annot=True, fmt=\".2f\", cmap=\"coolwarm\", cbar=True, xticklabels=True, yticklabels=True)\n",
    "plt.title(\"Correlation Matrix: Emotional and Behavioral Features\")\n",
    "plt.show()\n"
   ]
  },
  {
   "cell_type": "markdown",
   "id": "fd008481",
   "metadata": {},
   "source": [
    "#### Top 10 correlated features"
   ]
  },
  {
   "cell_type": "code",
   "execution_count": 22,
   "id": "d451f6d3",
   "metadata": {
    "scrolled": true
   },
   "outputs": [
    {
     "name": "stdout",
     "output_type": "stream",
     "text": [
      "24_i_get_angry        24_i_loose_my_temper    0.688876\n",
      "24_i_loose_my_temper  24_i_get_angry          0.688876\n",
      "24_i_hit_when_angry   24_i_loose_my_temper    0.561261\n",
      "24_i_loose_my_temper  24_i_hit_when_angry     0.561261\n",
      "24_i_hit_when_angry   24_i_get_angry          0.518956\n",
      "24_i_get_angry        24_i_hit_when_angry     0.518956\n",
      "24_i_hit_when_angry   24_i_hurt_others        0.509556\n",
      "24_i_hurt_others      24_i_hit_when_angry     0.509556\n",
      "24_i_break_things     24_i_hurt_others        0.480589\n",
      "24_i_hurt_others      24_i_break_things       0.480589\n",
      "dtype: float64\n"
     ]
    }
   ],
   "source": [
    "# Unstack the correlation matrix to create pairs of features with their correlation values\n",
    "correlation_pairs = correlation_matrix.unstack()\n",
    "\n",
    "# Sort the pairs by absolute correlation values in descending order\n",
    "sorted_correlation_pairs = correlation_pairs.abs().sort_values(ascending=False)\n",
    "\n",
    "# Filter out self-correlations (correlation of a feature with itself is always 1)\n",
    "top_correlations = sorted_correlation_pairs[sorted_correlation_pairs < 1].nlargest(10)\n",
    "\n",
    "# Display the top correlated feature pairs\n",
    "print(top_correlations)\n"
   ]
  },
  {
   "cell_type": "markdown",
   "id": "d1251bb8",
   "metadata": {},
   "source": [
    "Here are the top 10 correlated feature pairs from the emotional and behavioral features:\n",
    "\n",
    "* 24_i_get_angry and 24_i_loose_my_temper: 0.6889\n",
    "* 24_i_loose_my_temper and 24_i_get_angry: 0.6889\n",
    "* 24_i_hit_when_angry and 24_i_loose_my_temper: 0.5613\n",
    "* 24_i_loose_my_temper and 24_i_hit_when_angry: 0.5613\n",
    "* 24_i_hit_when_angry and 24_i_get_angry: 0.5190\n",
    "* 24_i_get_angry and 24_i_hit_when_angry: 0.5190\n",
    "* 24_i_hit_when_angry and 24_i_hurt_others: 0.5096\n",
    "* 24_i_hurt_others and 24_i_hit_when_angry: 0.5096\n",
    "* 24_i_break_things and 24_i_hurt_others: 0.4806\n",
    "*24_i_hurt_others and 24_i_break_things: 0.4806\n",
    "\n",
    "These correlations suggest strong relationships, particularly among behavioral features such as anger and associated behaviors."
   ]
  },
  {
   "cell_type": "markdown",
   "id": "2d795b02",
   "metadata": {},
   "source": [
    "#### top 20 correlated features with behavior_difficulty"
   ]
  },
  {
   "cell_type": "code",
   "execution_count": 23,
   "id": "68f5e185",
   "metadata": {},
   "outputs": [
    {
     "name": "stdout",
     "output_type": "stream",
     "text": [
      "24_i_hit_when_angry        0.614382\n",
      "24_i_hurt_others           0.592195\n",
      "24_i_break_things          0.581728\n",
      "24_i_loose_my_temper       0.479021\n",
      "24_i_get_angry             0.473561\n",
      "24_i_worry_at_school       0.429461\n",
      "24_nobody_likes_me         0.310822\n",
      "24_i_feel_scared           0.255447\n",
      "24_iam_shy                 0.246884\n",
      "24_iam_calm                0.240678\n",
      "24_iam_unhappy             0.218260\n",
      "24_wake_up_in_the night    0.207112\n",
      "24_i_have_sleep_issues     0.197487\n",
      "24_i_worry_a_lot           0.182836\n",
      "24_i_cry_a_lot             0.172906\n",
      "24_I_feel_lonely           0.170496\n",
      "tired_days                 0.148579\n",
      "fizzy_drink_days           0.084043\n",
      "school_community           0.047252\n",
      "screen_time_days           0.026976\n",
      "Name: behavior_difficulty, dtype: float64\n"
     ]
    }
   ],
   "source": [
    "# Calculate correlations with the 'behavior_difficulty' column\n",
    "behavior_difficulty_correlations = data.corr()['behavior_difficulty'].sort_values(ascending=False)\n",
    "\n",
    "# Exclude self-correlation and extract the top 20 correlated features\n",
    "top_20_correlations = behavior_difficulty_correlations[behavior_difficulty_correlations.index != 'behavior_difficulty'].head(20)\n",
    "\n",
    "# Display the top 20 correlations\n",
    "print(top_20_correlations)\n"
   ]
  },
  {
   "cell_type": "code",
   "execution_count": 24,
   "id": "b192cfa6",
   "metadata": {},
   "outputs": [
    {
     "data": {
      "image/png": "[encoded data removed]",
      "text/plain": [
       "<Figure size 720x576 with 1 Axes>"
      ]
     },
     "metadata": {
      "needs_background": "light"
     },
     "output_type": "display_data"
    }
   ],
   "source": [
    "import matplotlib.pyplot as plt\n",
    "\n",
    "# Visualization: Top 20 Correlated Features with behavior_difficulty\n",
    "plt.figure(figsize=(10, 8))\n",
    "top_20_correlations.plot(kind='bar', color='skyblue')\n",
    "plt.title('Top 20 Features Correlated with Behavioral Difficulty')\n",
    "plt.ylabel('Correlation Coefficient')\n",
    "plt.xlabel('Features')\n",
    "plt.xticks(rotation=45, ha='right')\n",
    "plt.tight_layout()\n",
    "plt.show()\n"
   ]
  },
  {
   "cell_type": "markdown",
   "id": "5a9c9884",
   "metadata": {},
   "source": [
    "### EDA-Extension"
   ]
  },
  {
   "cell_type": "markdown",
   "id": "2a1c8846",
   "metadata": {},
   "source": [
    "#### 1. Well-being factors"
   ]
  },
  {
   "cell_type": "code",
   "execution_count": 36,
   "id": "03234d18",
   "metadata": {},
   "outputs": [
    {
     "data": {
      "text/html": [
       "<div>\n",
       "<style scoped>\n",
       "    .dataframe tbody tr th:only-of-type {\n",
       "        vertical-align: middle;\n",
       "    }\n",
       "\n",
       "    .dataframe tbody tr th {\n",
       "        vertical-align: top;\n",
       "    }\n",
       "\n",
       "    .dataframe thead th {\n",
       "        text-align: right;\n",
       "    }\n",
       "</style>\n",
       "<table border=\"1\" class=\"dataframe\">\n",
       "  <thead>\n",
       "    <tr style=\"text-align: right;\">\n",
       "      <th></th>\n",
       "      <th>health</th>\n",
       "      <th>school</th>\n",
       "      <th>family</th>\n",
       "      <th>friends</th>\n",
       "    </tr>\n",
       "  </thead>\n",
       "  <tbody>\n",
       "    <tr>\n",
       "      <th>0</th>\n",
       "      <td>8</td>\n",
       "      <td>5</td>\n",
       "      <td>10</td>\n",
       "      <td>10</td>\n",
       "    </tr>\n",
       "    <tr>\n",
       "      <th>1</th>\n",
       "      <td>7</td>\n",
       "      <td>9</td>\n",
       "      <td>10</td>\n",
       "      <td>8</td>\n",
       "    </tr>\n",
       "    <tr>\n",
       "      <th>2</th>\n",
       "      <td>9</td>\n",
       "      <td>6</td>\n",
       "      <td>10</td>\n",
       "      <td>10</td>\n",
       "    </tr>\n",
       "    <tr>\n",
       "      <th>3</th>\n",
       "      <td>10</td>\n",
       "      <td>9</td>\n",
       "      <td>10</td>\n",
       "      <td>10</td>\n",
       "    </tr>\n",
       "    <tr>\n",
       "      <th>4</th>\n",
       "      <td>10</td>\n",
       "      <td>6</td>\n",
       "      <td>10</td>\n",
       "      <td>5</td>\n",
       "    </tr>\n",
       "    <tr>\n",
       "      <th>...</th>\n",
       "      <td>...</td>\n",
       "      <td>...</td>\n",
       "      <td>...</td>\n",
       "      <td>...</td>\n",
       "    </tr>\n",
       "    <tr>\n",
       "      <th>938</th>\n",
       "      <td>8</td>\n",
       "      <td>8</td>\n",
       "      <td>10</td>\n",
       "      <td>10</td>\n",
       "    </tr>\n",
       "    <tr>\n",
       "      <th>939</th>\n",
       "      <td>5</td>\n",
       "      <td>10</td>\n",
       "      <td>10</td>\n",
       "      <td>9</td>\n",
       "    </tr>\n",
       "    <tr>\n",
       "      <th>940</th>\n",
       "      <td>5</td>\n",
       "      <td>7</td>\n",
       "      <td>9</td>\n",
       "      <td>9</td>\n",
       "    </tr>\n",
       "    <tr>\n",
       "      <th>941</th>\n",
       "      <td>9</td>\n",
       "      <td>10</td>\n",
       "      <td>10</td>\n",
       "      <td>9</td>\n",
       "    </tr>\n",
       "    <tr>\n",
       "      <th>942</th>\n",
       "      <td>10</td>\n",
       "      <td>4</td>\n",
       "      <td>10</td>\n",
       "      <td>5</td>\n",
       "    </tr>\n",
       "  </tbody>\n",
       "</table>\n",
       "<p>943 rows × 4 columns</p>\n",
       "</div>"
      ],
      "text/plain": [
       "     health  school  family  friends\n",
       "0         8       5      10       10\n",
       "1         7       9      10        8\n",
       "2         9       6      10       10\n",
       "3        10       9      10       10\n",
       "4        10       6      10        5\n",
       "..      ...     ...     ...      ...\n",
       "938       8       8      10       10\n",
       "939       5      10      10        9\n",
       "940       5       7       9        9\n",
       "941       9      10      10        9\n",
       "942      10       4      10        5\n",
       "\n",
       "[943 rows x 4 columns]"
      ]
     },
     "execution_count": 36,
     "metadata": {},
     "output_type": "execute_result"
    }
   ],
   "source": [
    "wellbeing = data[['health','school', 'family', 'friends']]\n",
    "wellbeing"
   ]
  },
  {
   "cell_type": "code",
   "execution_count": 40,
   "id": "7774ec95",
   "metadata": {
    "scrolled": true
   },
   "outputs": [
    {
     "data": {
      "text/html": [
       "<div>\n",
       "<style scoped>\n",
       "    .dataframe tbody tr th:only-of-type {\n",
       "        vertical-align: middle;\n",
       "    }\n",
       "\n",
       "    .dataframe tbody tr th {\n",
       "        vertical-align: top;\n",
       "    }\n",
       "\n",
       "    .dataframe thead th {\n",
       "        text-align: right;\n",
       "    }\n",
       "</style>\n",
       "<table border=\"1\" class=\"dataframe\">\n",
       "  <thead>\n",
       "    <tr style=\"text-align: right;\">\n",
       "      <th></th>\n",
       "      <th>health</th>\n",
       "      <th>school</th>\n",
       "      <th>family</th>\n",
       "      <th>friends</th>\n",
       "    </tr>\n",
       "  </thead>\n",
       "  <tbody>\n",
       "    <tr>\n",
       "      <th>health</th>\n",
       "      <td>1.000000</td>\n",
       "      <td>0.248968</td>\n",
       "      <td>0.305546</td>\n",
       "      <td>0.304945</td>\n",
       "    </tr>\n",
       "    <tr>\n",
       "      <th>school</th>\n",
       "      <td>0.248968</td>\n",
       "      <td>1.000000</td>\n",
       "      <td>0.239853</td>\n",
       "      <td>0.414107</td>\n",
       "    </tr>\n",
       "    <tr>\n",
       "      <th>family</th>\n",
       "      <td>0.305546</td>\n",
       "      <td>0.239853</td>\n",
       "      <td>1.000000</td>\n",
       "      <td>0.382256</td>\n",
       "    </tr>\n",
       "    <tr>\n",
       "      <th>friends</th>\n",
       "      <td>0.304945</td>\n",
       "      <td>0.414107</td>\n",
       "      <td>0.382256</td>\n",
       "      <td>1.000000</td>\n",
       "    </tr>\n",
       "  </tbody>\n",
       "</table>\n",
       "</div>"
      ],
      "text/plain": [
       "           health    school    family   friends\n",
       "health   1.000000  0.248968  0.305546  0.304945\n",
       "school   0.248968  1.000000  0.239853  0.414107\n",
       "family   0.305546  0.239853  1.000000  0.382256\n",
       "friends  0.304945  0.414107  0.382256  1.000000"
      ]
     },
     "execution_count": 40,
     "metadata": {},
     "output_type": "execute_result"
    }
   ],
   "source": [
    "wellbeing_corr_matrix = wellbeing.corr()\n",
    "wellbeing_corr_matrix"
   ]
  },
  {
   "cell_type": "code",
   "execution_count": 43,
   "id": "f9d2e9fa",
   "metadata": {},
   "outputs": [
    {
     "data": {
      "image/png": "[encoded data removed]",
      "text/plain": [
       "<Figure size 720x432 with 2 Axes>"
      ]
     },
     "metadata": {
      "needs_background": "light"
     },
     "output_type": "display_data"
    }
   ],
   "source": [
    "plt.figure(figsize=(10, 6))\n",
    "sns.heatmap(wellbeing_corr_matrix, annot=True, fmt=\".2f\", cmap=\"coolwarm\", cbar=True, xticklabels=True, yticklabels=True)\n",
    "plt.title(\"Correlation Matrix: General Well-being Factors\")\n",
    "plt.show()"
   ]
  },
  {
   "cell_type": "code",
   "execution_count": 32,
   "id": "2a8b8640",
   "metadata": {},
   "outputs": [
    {
     "data": {
      "text/plain": [
       "Index(['school_status', 'other_kids_home', 'people_home', 'school_year',\n",
       "       'gender', 'breakfast', 'fruit_veg', 'teeth_brush', 'exercise_days',\n",
       "       'screen_time_days', 'tired_days', 'concentration_days',\n",
       "       'fizzy_drink_days', 'sugary_snack_days', 'takeaway_days', 'play_safety',\n",
       "       'park_access', 'play_area_access', 'garden', 'play_frequency',\n",
       "       'play_time', 'play_places', 'play_places_access', 'relax_space',\n",
       "       'school_work', 'school_community', 'choices', 'skills', 'health',\n",
       "       'school', 'family', 'friends', 'appearance', 'life', '24_I_feel_lonely',\n",
       "       '24_i_cry_a_lot', '24_iam_unhappy', '24_nobody_likes_me',\n",
       "       '24_i_worry_a_lot', '24_i_have_sleep_issues', '24_wake_up_in_the night',\n",
       "       '24_iam_shy', '24_i_feel_scared', '24_i_worry_at_school',\n",
       "       '24_i_get_angry', '24_i_loose_my_temper', '24_i_hit_when_angry',\n",
       "       '24_i_hurt_others', '24_iam_calm', '24_i_break_things',\n",
       "       'family_contact', 'friends_contact', 'hours_sleep',\n",
       "       'behavior_difficulty'],\n",
       "      dtype='object')"
      ]
     },
     "execution_count": 32,
     "metadata": {},
     "output_type": "execute_result"
    }
   ],
   "source": [
    "data.columns"
   ]
  },
  {
   "cell_type": "markdown",
   "id": "6db93823",
   "metadata": {},
   "source": [
    "#### 2. Emotional Difficulties"
   ]
  },
  {
   "cell_type": "code",
   "execution_count": 57,
   "id": "00ac4e88",
   "metadata": {},
   "outputs": [
    {
     "data": {
      "text/plain": [
       "0      0\n",
       "1      1\n",
       "2      0\n",
       "3      0\n",
       "4      1\n",
       "      ..\n",
       "938    1\n",
       "939    1\n",
       "940    1\n",
       "941    0\n",
       "942    0\n",
       "Name: 24_i_worry_a_lot, Length: 943, dtype: int64"
      ]
     },
     "execution_count": 57,
     "metadata": {},
     "output_type": "execute_result"
    }
   ],
   "source": [
    "data['24_i_worry_a_lot']"
   ]
  },
  {
   "cell_type": "code",
   "execution_count": 67,
   "id": "e6b6a3c7",
   "metadata": {},
   "outputs": [
    {
     "name": "stdout",
     "output_type": "stream",
     "text": [
      "Class 0 (Expected): 34.78%\n",
      "Class 1 (Borderline): 55.14%\n",
      "Class 2 (Significant): 10.07%\n"
     ]
    },
    {
     "data": {
      "image/png": "[encoded data removed]",
      "text/plain": [
       "<Figure size 576x432 with 1 Axes>"
      ]
     },
     "metadata": {
      "needs_background": "light"
     },
     "output_type": "display_data"
    }
   ],
   "source": [
    "# Calculate the distribution of the 'behavioral_difficulty' feature\n",
    "worry_distribution = pd.DataFrame(data['24_i_worry_a_lot']).value_counts(normalize=True) * 100\n",
    "\n",
    "# Display the distribution with class labels\n",
    "class_distribution = {\n",
    "    'Class 0 (Expected)': worry_distribution.get(0, 0),\n",
    "    'Class 1 (Borderline)': worry_distribution.get(1, 0),\n",
    "    'Class 2 (Significant)': worry_distribution.get(2, 0)\n",
    "}\n",
    "\n",
    "# Print the results\n",
    "for class_label, percentage in class_distribution.items():\n",
    "    print(f\"{class_label}: {percentage:.2f}%\")\n",
    "    \n",
    "# Visualize the class distribution\n",
    "labels = list(class_distribution.keys())\n",
    "sizes = list(class_distribution.values())\n",
    "\n",
    "plt.figure(figsize=(8, 6))\n",
    "plt.bar(labels, sizes, color=['blue', 'orange', 'red'])\n",
    "plt.title('Class Distribution of I worry a lot')\n",
    "plt.ylabel('Percentage')\n",
    "plt.xlabel('Class')\n",
    "plt.ylim(0, 100)\n",
    "plt.show()"
   ]
  },
  {
   "cell_type": "code",
   "execution_count": null,
   "id": "fa5febf0",
   "metadata": {},
   "outputs": [],
   "source": [
    "# correlation between loneliness, crying, and worrying"
   ]
  },
  {
   "cell_type": "code",
   "execution_count": 62,
   "id": "d8277c5e",
   "metadata": {
    "scrolled": true
   },
   "outputs": [
    {
     "data": {
      "text/html": [
       "<div>\n",
       "<style scoped>\n",
       "    .dataframe tbody tr th:only-of-type {\n",
       "        vertical-align: middle;\n",
       "    }\n",
       "\n",
       "    .dataframe tbody tr th {\n",
       "        vertical-align: top;\n",
       "    }\n",
       "\n",
       "    .dataframe thead th {\n",
       "        text-align: right;\n",
       "    }\n",
       "</style>\n",
       "<table border=\"1\" class=\"dataframe\">\n",
       "  <thead>\n",
       "    <tr style=\"text-align: right;\">\n",
       "      <th></th>\n",
       "      <th>24_I_feel_lonely</th>\n",
       "      <th>24_i_cry_a_lot</th>\n",
       "      <th>24_i_worry_a_lot</th>\n",
       "    </tr>\n",
       "  </thead>\n",
       "  <tbody>\n",
       "    <tr>\n",
       "      <th>0</th>\n",
       "      <td>0</td>\n",
       "      <td>0</td>\n",
       "      <td>0</td>\n",
       "    </tr>\n",
       "    <tr>\n",
       "      <th>1</th>\n",
       "      <td>1</td>\n",
       "      <td>1</td>\n",
       "      <td>1</td>\n",
       "    </tr>\n",
       "    <tr>\n",
       "      <th>2</th>\n",
       "      <td>0</td>\n",
       "      <td>0</td>\n",
       "      <td>0</td>\n",
       "    </tr>\n",
       "    <tr>\n",
       "      <th>3</th>\n",
       "      <td>0</td>\n",
       "      <td>1</td>\n",
       "      <td>0</td>\n",
       "    </tr>\n",
       "    <tr>\n",
       "      <th>4</th>\n",
       "      <td>0</td>\n",
       "      <td>0</td>\n",
       "      <td>1</td>\n",
       "    </tr>\n",
       "    <tr>\n",
       "      <th>...</th>\n",
       "      <td>...</td>\n",
       "      <td>...</td>\n",
       "      <td>...</td>\n",
       "    </tr>\n",
       "    <tr>\n",
       "      <th>938</th>\n",
       "      <td>1</td>\n",
       "      <td>1</td>\n",
       "      <td>1</td>\n",
       "    </tr>\n",
       "    <tr>\n",
       "      <th>939</th>\n",
       "      <td>1</td>\n",
       "      <td>1</td>\n",
       "      <td>1</td>\n",
       "    </tr>\n",
       "    <tr>\n",
       "      <th>940</th>\n",
       "      <td>1</td>\n",
       "      <td>1</td>\n",
       "      <td>1</td>\n",
       "    </tr>\n",
       "    <tr>\n",
       "      <th>941</th>\n",
       "      <td>1</td>\n",
       "      <td>0</td>\n",
       "      <td>0</td>\n",
       "    </tr>\n",
       "    <tr>\n",
       "      <th>942</th>\n",
       "      <td>0</td>\n",
       "      <td>0</td>\n",
       "      <td>0</td>\n",
       "    </tr>\n",
       "  </tbody>\n",
       "</table>\n",
       "<p>943 rows × 3 columns</p>\n",
       "</div>"
      ],
      "text/plain": [
       "     24_I_feel_lonely  24_i_cry_a_lot  24_i_worry_a_lot\n",
       "0                   0               0                 0\n",
       "1                   1               1                 1\n",
       "2                   0               0                 0\n",
       "3                   0               1                 0\n",
       "4                   0               0                 1\n",
       "..                ...             ...               ...\n",
       "938                 1               1                 1\n",
       "939                 1               1                 1\n",
       "940                 1               1                 1\n",
       "941                 1               0                 0\n",
       "942                 0               0                 0\n",
       "\n",
       "[943 rows x 3 columns]"
      ]
     },
     "execution_count": 62,
     "metadata": {},
     "output_type": "execute_result"
    }
   ],
   "source": [
    "emotional_factors = data[['24_I_feel_lonely', '24_i_cry_a_lot', '24_i_worry_a_lot']]\n",
    "emotional_factors"
   ]
  },
  {
   "cell_type": "code",
   "execution_count": 63,
   "id": "251a2bbd",
   "metadata": {},
   "outputs": [
    {
     "data": {
      "text/html": [
       "<div>\n",
       "<style scoped>\n",
       "    .dataframe tbody tr th:only-of-type {\n",
       "        vertical-align: middle;\n",
       "    }\n",
       "\n",
       "    .dataframe tbody tr th {\n",
       "        vertical-align: top;\n",
       "    }\n",
       "\n",
       "    .dataframe thead th {\n",
       "        text-align: right;\n",
       "    }\n",
       "</style>\n",
       "<table border=\"1\" class=\"dataframe\">\n",
       "  <thead>\n",
       "    <tr style=\"text-align: right;\">\n",
       "      <th></th>\n",
       "      <th>24_I_feel_lonely</th>\n",
       "      <th>24_i_cry_a_lot</th>\n",
       "      <th>24_i_worry_a_lot</th>\n",
       "    </tr>\n",
       "  </thead>\n",
       "  <tbody>\n",
       "    <tr>\n",
       "      <th>24_I_feel_lonely</th>\n",
       "      <td>1.000000</td>\n",
       "      <td>0.215227</td>\n",
       "      <td>0.238325</td>\n",
       "    </tr>\n",
       "    <tr>\n",
       "      <th>24_i_cry_a_lot</th>\n",
       "      <td>0.215227</td>\n",
       "      <td>1.000000</td>\n",
       "      <td>0.306527</td>\n",
       "    </tr>\n",
       "    <tr>\n",
       "      <th>24_i_worry_a_lot</th>\n",
       "      <td>0.238325</td>\n",
       "      <td>0.306527</td>\n",
       "      <td>1.000000</td>\n",
       "    </tr>\n",
       "  </tbody>\n",
       "</table>\n",
       "</div>"
      ],
      "text/plain": [
       "                  24_I_feel_lonely  24_i_cry_a_lot  24_i_worry_a_lot\n",
       "24_I_feel_lonely          1.000000        0.215227          0.238325\n",
       "24_i_cry_a_lot            0.215227        1.000000          0.306527\n",
       "24_i_worry_a_lot          0.238325        0.306527          1.000000"
      ]
     },
     "execution_count": 63,
     "metadata": {},
     "output_type": "execute_result"
    }
   ],
   "source": [
    "emotional_corr_matrix = emotional_factors.corr()\n",
    "emotional_corr_matrix"
   ]
  },
  {
   "cell_type": "code",
   "execution_count": 64,
   "id": "58dc730c",
   "metadata": {},
   "outputs": [
    {
     "data": {
      "image/png": "[encoded data removed]",
      "text/plain": [
       "<Figure size 720x432 with 2 Axes>"
      ]
     },
     "metadata": {
      "needs_background": "light"
     },
     "output_type": "display_data"
    }
   ],
   "source": [
    "plt.figure(figsize=(10, 6))\n",
    "sns.heatmap(emotional_corr_matrix, annot=True, fmt=\".2f\", cmap=\"coolwarm\", cbar=True, xticklabels=True, yticklabels=True)\n",
    "plt.title(\"Correlation Matrix: Emotional Factors\")\n",
    "plt.show()"
   ]
  },
  {
   "cell_type": "markdown",
   "id": "f59d41da",
   "metadata": {},
   "source": [
    "#### Behavioral factors"
   ]
  },
  {
   "cell_type": "code",
   "execution_count": 68,
   "id": "3d2f4e9e",
   "metadata": {},
   "outputs": [
    {
     "name": "stdout",
     "output_type": "stream",
     "text": [
      "Class 0 (Expected): 90.88%\n",
      "Class 1 (Borderline): 8.17%\n",
      "Class 2 (Significant): 0.95%\n"
     ]
    },
    {
     "data": {
      "image/png": "[encoded data removed]",
      "text/plain": [
       "<Figure size 576x432 with 1 Axes>"
      ]
     },
     "metadata": {
      "needs_background": "light"
     },
     "output_type": "display_data"
    }
   ],
   "source": [
    "# Calculate the distribution of the 'behavioral_difficulty' feature\n",
    "worry_distribution = pd.DataFrame(data['24_i_break_things']).value_counts(normalize=True) * 100\n",
    "\n",
    "# Display the distribution with class labels\n",
    "class_distribution = {\n",
    "    'Class 0 (Expected)': worry_distribution.get(0, 0),\n",
    "    'Class 1 (Borderline)': worry_distribution.get(1, 0),\n",
    "    'Class 2 (Significant)': worry_distribution.get(2, 0)\n",
    "}\n",
    "\n",
    "# Print the results\n",
    "for class_label, percentage in class_distribution.items():\n",
    "    print(f\"{class_label}: {percentage:.2f}%\")\n",
    "    \n",
    "# Visualize the class distribution\n",
    "labels = list(class_distribution.keys())\n",
    "sizes = list(class_distribution.values())\n",
    "\n",
    "plt.figure(figsize=(8, 6))\n",
    "plt.bar(labels, sizes, color=['blue', 'orange', 'red'])\n",
    "plt.title('Class Distribution of I break things')\n",
    "plt.ylabel('Percentage')\n",
    "plt.xlabel('Class')\n",
    "plt.ylim(0, 100)\n",
    "plt.show()"
   ]
  },
  {
   "cell_type": "code",
   "execution_count": 69,
   "id": "894d5ae4",
   "metadata": {},
   "outputs": [
    {
     "name": "stdout",
     "output_type": "stream",
     "text": [
      "Class 0 (Expected): 44.01%\n",
      "Class 1 (Borderline): 51.64%\n",
      "Class 2 (Significant): 4.35%\n"
     ]
    },
    {
     "data": {
      "image/png": "[encoded data removed]",
      "text/plain": [
       "<Figure size 576x432 with 1 Axes>"
      ]
     },
     "metadata": {
      "needs_background": "light"
     },
     "output_type": "display_data"
    }
   ],
   "source": [
    "# Calculate the distribution of the 'behavioral_difficulty' feature\n",
    "worry_distribution = pd.DataFrame(data['24_i_loose_my_temper']).value_counts(normalize=True) * 100\n",
    "\n",
    "# Display the distribution with class labels\n",
    "class_distribution = {\n",
    "    'Class 0 (Expected)': worry_distribution.get(0, 0),\n",
    "    'Class 1 (Borderline)': worry_distribution.get(1, 0),\n",
    "    'Class 2 (Significant)': worry_distribution.get(2, 0)\n",
    "}\n",
    "\n",
    "# Print the results\n",
    "for class_label, percentage in class_distribution.items():\n",
    "    print(f\"{class_label}: {percentage:.2f}%\")\n",
    "    \n",
    "# Visualize the class distribution\n",
    "labels = list(class_distribution.keys())\n",
    "sizes = list(class_distribution.values())\n",
    "\n",
    "plt.figure(figsize=(8, 6))\n",
    "plt.bar(labels, sizes, color=['blue', 'orange', 'red'])\n",
    "plt.title('Class Distribution of I loose my temper')\n",
    "plt.ylabel('Percentage')\n",
    "plt.xlabel('Class')\n",
    "plt.ylim(0, 100)\n",
    "plt.show()"
   ]
  },
  {
   "cell_type": "code",
   "execution_count": null,
   "id": "405557ce",
   "metadata": {},
   "outputs": [],
   "source": []
  },
  {
   "cell_type": "code",
   "execution_count": null,
   "id": "ae624563",
   "metadata": {},
   "outputs": [],
   "source": []
  }
 ],
 "metadata": {
  "kernelspec": {
   "display_name": "Python 3",
   "language": "python",
   "name": "python3"
  },
  "language_info": {
   "codemirror_mode": {
    "name": "ipython",
    "version": 3
   },
   "file_extension": ".py",
   "mimetype": "text/x-python",
   "name": "python",
   "nbconvert_exporter": "python",
   "pygments_lexer": "ipython3",
   "version": "3.8.5"
  }
 },
 "nbformat": 4,
 "nbformat_minor": 5
}
