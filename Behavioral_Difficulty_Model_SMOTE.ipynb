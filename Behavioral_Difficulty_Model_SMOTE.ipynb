{
 "cells": [
  {
   "cell_type": "code",
   "execution_count": 115,
   "id": "6499556e",
   "metadata": {},
   "outputs": [],
   "source": [
    "import pandas as pd\n",
    "import numpy as np\n",
    "from imblearn.over_sampling import SMOTE\n",
    "from sklearn.model_selection import train_test_split\n",
    "from sklearn.linear_model import LogisticRegression\n",
    "from sklearn.svm import SVC\n",
    "from sklearn.metrics import classification_report, accuracy_score\n",
    "from sklearn.model_selection import GridSearchCV\n",
    "from sklearn.metrics import confusion_matrix\n",
    "from sklearn.preprocessing import LabelEncoder, StandardScaler\n",
    "import matplotlib.pyplot as plt\n",
    "import seaborn as sns\n",
    "import plotly.express as px\n",
    "import shap"
   ]
  },
  {
   "cell_type": "code",
   "execution_count": 116,
   "id": "0b4fa7ba",
   "metadata": {},
   "outputs": [],
   "source": [
    "# Load the dataset for behavioral difficulty analysis\n",
    "behavioral_data = pd.read_csv('behavioral_difficulty.csv')"
   ]
  },
  {
   "cell_type": "code",
   "execution_count": 117,
   "id": "e3525eb4",
   "metadata": {
    "scrolled": false
   },
   "outputs": [
    {
     "data": {
      "text/plain": [
       "Are you still going to school?                                                                                                                                                                                                                                0\n",
       "Do you have any other children living in your house with you?                                                                                                                                                                                                 0\n",
       "How many people live in your home with you (including adults)?                                                                                                                                                                                                0\n",
       "What year are you in now?                                                                                                                                                                                                                                     0\n",
       "Gender                                                                                                                                                                                                                                                        0\n",
       "1. What did you eat for breakfast YESTERDAY?                                                                                                                                                                                                                  0\n",
       "2. Did you eat any fruit and vegetables YESTERDAY?                                                                                                                                                                                                            0\n",
       "3. How many times did you brush your teeth YESTERDAY?                                                                                                                                                                                                         0\n",
       "6. In the last 7 days, how many days did you do sports or exercise for at least 1 hour in total. This includes doing any activities (including online activities) or playing sports where your heart beat faster, you breathed faster and you felt warmer?    0\n",
       "7. In the last 7 days, how many days did you watch TV/play online games/use the internet etc. for 2 or more hours a day (in total)?                                                                                                                           0\n",
       "8. In the last 7 days, how many days did you feel tired?                                                                                                                                                                                                      0\n",
       "9. In the last 7 days, how many days did you feel like you could concentrate/pay attention well on your school work?                                                                                                                                          0\n",
       "10. In the last 7 days, how many days did you drink at least one fizzy drink (e.g. coke, sprite, thumsup)?                                                                                                                                                    0\n",
       "11. In the last 7 days, how many days did you eat at least one sugary snack (e.g. chocolate bar, sweets)?                                                                                                                                                     0\n",
       "12. In the last 7 days, how many days did you eat take away foods (e.g. Chinese takeaway)?                                                                                                                                                                    0\n",
       "13. On a scale of 0 to 10 (0 being not very safe and 10 being very safe), how safe do you feel playing in your area?                                                                                                                                          0\n",
       "14. From your house, can you easily walk to a park (for example a field or grassy area)?                                                                                                                                                                      0\n",
       "15. From your house, can you easily walk to somewhere you can play?                                                                                                                                                                                           0\n",
       "16. Do you have a garden?                                                                                                                                                                                                                                     0\n",
       "17. How often do you go out to play outside?                                                                                                                                                                                                                  0\n",
       "18. Do you have enough time for play?                                                                                                                                                                                                                         0\n",
       "19. What type of places do you play in?                                                                                                                                                                                                                       0\n",
       "20. Can you play in all the places you would like to?                                                                                                                                                                                                         0\n",
       "21. Do you have somewhere at home where you have space to relax?                                                                                                                                                                                              0\n",
       "22. Tell us if you agree or disagree with the following: [I am doing well with my school work]                                                                                                                                                                0\n",
       "22. Tell us if you agree or disagree with the following: [I feel part of my school community]                                                                                                                                                                 0\n",
       "22. Tell us if you agree or disagree with the following: [I have lots of choice over things that are important to me]                                                                                                                                         0\n",
       "22. Tell us if you agree or disagree with the following: [There are lots of things I'm good at]                                                                                                                                                               0\n",
       "Your Health                                                                                                                                                                                                                                                   0\n",
       "Your School                                                                                                                                                                                                                                                   0\n",
       "Your Family                                                                                                                                                                                                                                                   0\n",
       "Your Friends                                                                                                                                                                                                                                                  0\n",
       "Your Appearance (how you look)                                                                                                                                                                                                                                0\n",
       "Your Life                                                                                                                                                                                                                                                     0\n",
       "24. Remember, there are no right or wrong answers, just pick which is right for you. [I feel lonely]                                                                                                                                                          0\n",
       "24. Remember, there are no right or wrong answers, just pick which is right for you. [I cry a lot]                                                                                                                                                            0\n",
       "24. Remember, there are no right or wrong answers, just pick which is right for you. [I am unhappy]                                                                                                                                                           0\n",
       "24. Remember, there are no right or wrong answers, just pick which is right for you. [I feel nobody likes me]                                                                                                                                                 0\n",
       "24. Remember, there are no right or wrong answers, just pick which is right for you. [I worry a lot]                                                                                                                                                          0\n",
       "24. Remember, there are no right or wrong answers, just pick which is right for you. [I have problems sleeping]                                                                                                                                               0\n",
       "24. Remember, there are no right or wrong answers, just pick which is right for you. [I wake up in the night]                                                                                                                                                 0\n",
       "24. Remember, there are no right or wrong answers, just pick which is right for you. [I am shy]                                                                                                                                                               0\n",
       "24. Remember, there are no right or wrong answers, just pick which is right for you. [I feel scared]                                                                                                                                                          0\n",
       "24. Remember, there are no right or wrong answers, just pick which is right for you. [I worry when I am at school]                                                                                                                                            0\n",
       "24. Remember, there are no right or wrong answers, just pick which is right for you. [I get very angry]                                                                                                                                                       0\n",
       "24. Remember, there are no right or wrong answers, just pick which is right for you. [I lose my temper]                                                                                                                                                       0\n",
       "24. Remember, there are no right or wrong answers, just pick which is right for you. [I hit out when I am angry]                                                                                                                                              0\n",
       "24. Remember, there are no right or wrong answers, just pick which is right for you. [I do things to hurt people]                                                                                                                                             0\n",
       "24. Remember, there are no right or wrong answers, just pick which is right for you. [I am calm]                                                                                                                                                              0\n",
       "24. Remember, there are no right or wrong answers, just pick which is right for you. [I break things on purpose]                                                                                                                                              0\n",
       "25. Are you able to keep in touch with your family that you don't live with? (grand parents, Uncle, Aunt, Cousins, etc)                                                                                                                                       0\n",
       "26. Are you able to keep in touch with your friends?                                                                                                                                                                                                          0\n",
       "hours of sleep had last night                                                                                                                                                                                                                                 0\n",
       "behavioral difficulty category                                                                                                                                                                                                                                0\n",
       "dtype: int64"
      ]
     },
     "execution_count": 117,
     "metadata": {},
     "output_type": "execute_result"
    }
   ],
   "source": [
    "behavioral_data.isnull().sum()"
   ]
  },
  {
   "cell_type": "markdown",
   "id": "85780db3",
   "metadata": {},
   "source": [
    "#### Define the target column and features"
   ]
  },
  {
   "cell_type": "code",
   "execution_count": 118,
   "id": "3ceb386e",
   "metadata": {},
   "outputs": [],
   "source": [
    "# Define the target column and features\n",
    "target_column_behavioral = 'behavioral difficulty category'  # Assuming this is the target column\n",
    "X_behavioral = behavioral_data.drop(columns=[target_column_behavioral], errors='ignore')\n",
    "y_behavioral = behavioral_data[target_column_behavioral]"
   ]
  },
  {
   "cell_type": "markdown",
   "id": "30e364aa",
   "metadata": {},
   "source": [
    "#### Create Train Test datasets"
   ]
  },
  {
   "cell_type": "code",
   "execution_count": 119,
   "id": "78a60c91",
   "metadata": {},
   "outputs": [],
   "source": [
    "# Split the data into training and testing sets\n",
    "X_train_behavioral, X_test_behavioral, y_train_behavioral, y_test_behavioral = train_test_split(\n",
    "    X_behavioral, y_behavioral, test_size=0.3, random_state=42, stratify=y_behavioral)\n"
   ]
  },
  {
   "cell_type": "markdown",
   "id": "80cdedf5",
   "metadata": {},
   "source": [
    "#### Balance the classes by applying SMOTE"
   ]
  },
  {
   "cell_type": "code",
   "execution_count": 120,
   "id": "094e1a45",
   "metadata": {},
   "outputs": [],
   "source": [
    "# Apply SMOTE to balance the classes in the training set\n",
    "smote = SMOTE(random_state=42)\n",
    "X_train_balanced, y_train_balanced = smote.fit_resample(X_train_behavioral, y_train_behavioral)\n"
   ]
  },
  {
   "cell_type": "code",
   "execution_count": 121,
   "id": "d6b40d89",
   "metadata": {},
   "outputs": [],
   "source": [
    "# Check the distribution of the target variable after applying SMOTE\n",
    "balanced_class_distribution = pd.Series(y_train_balanced).value_counts()"
   ]
  },
  {
   "cell_type": "code",
   "execution_count": 122,
   "id": "33f3b86e",
   "metadata": {},
   "outputs": [
    {
     "data": {
      "text/plain": [
       "0    582\n",
       "1    582\n",
       "2    582\n",
       "Name: behavioral difficulty category, dtype: int64"
      ]
     },
     "execution_count": 122,
     "metadata": {},
     "output_type": "execute_result"
    }
   ],
   "source": [
    "balanced_class_distribution"
   ]
  },
  {
   "cell_type": "code",
   "execution_count": 123,
   "id": "dec8eb0f",
   "metadata": {},
   "outputs": [
    {
     "data": {
      "application/vnd.plotly.v1+json": {
       "config": {
        "plotlyServerURL": "https://plot.ly"
       },
       "data": [
        {
         "alignmentgroup": "True",
         "hovertemplate": "Behavioral Difficulty Class=%{x}<br>Number of Samples=%{text}<extra></extra>",
         "legendgroup": "",
         "marker": {
          "color": "#636efa",
          "pattern": {
           "shape": ""
          }
         },
         "name": "",
         "offsetgroup": "",
         "orientation": "v",
         "showlegend": false,
         "text": [
          582,
          582,
          582
         ],
         "textposition": "outside",
         "type": "bar",
         "x": [
          0,
          1,
          2
         ],
         "xaxis": "x",
         "y": [
          582,
          582,
          582
         ],
         "yaxis": "y"
        }
       ],
       "layout": {
        "barmode": "relative",
        "legend": {
         "tracegroupgap": 0
        },
        "showlegend": false,
        "template": {
         "data": {
          "bar": [
           {
            "error_x": {
             "color": "#2a3f5f"
            },
            "error_y": {
             "color": "#2a3f5f"
            },
            "marker": {
             "line": {
              "color": "#E5ECF6",
              "width": 0.5
             },
             "pattern": {
              "fillmode": "overlay",
              "size": 10,
              "solidity": 0.2
             }
            },
            "type": "bar"
           }
          ],
          "barpolar": [
           {
            "marker": {
             "line": {
              "color": "#E5ECF6",
              "width": 0.5
             },
             "pattern": {
              "fillmode": "overlay",
              "size": 10,
              "solidity": 0.2
             }
            },
            "type": "barpolar"
           }
          ],
          "carpet": [
           {
            "aaxis": {
             "endlinecolor": "#2a3f5f",
             "gridcolor": "white",
             "linecolor": "white",
             "minorgridcolor": "white",
             "startlinecolor": "#2a3f5f"
            },
            "baxis": {
             "endlinecolor": "#2a3f5f",
             "gridcolor": "white",
             "linecolor": "white",
             "minorgridcolor": "white",
             "startlinecolor": "#2a3f5f"
            },
            "type": "carpet"
           }
          ],
          "choropleth": [
           {
            "colorbar": {
             "outlinewidth": 0,
             "ticks": ""
            },
            "type": "choropleth"
           }
          ],
          "contour": [
           {
            "colorbar": {
             "outlinewidth": 0,
             "ticks": ""
            },
            "colorscale": [
             [
              0,
              "#0d0887"
             ],
             [
              0.1111111111111111,
              "#46039f"
             ],
             [
              0.2222222222222222,
              "#7201a8"
             ],
             [
              0.3333333333333333,
              "#9c179e"
             ],
             [
              0.4444444444444444,
              "#bd3786"
             ],
             [
              0.5555555555555556,
              "#d8576b"
             ],
             [
              0.6666666666666666,
              "#ed7953"
             ],
             [
              0.7777777777777778,
              "#fb9f3a"
             ],
             [
              0.8888888888888888,
              "#fdca26"
             ],
             [
              1,
              "#f0f921"
             ]
            ],
            "type": "contour"
           }
          ],
          "contourcarpet": [
           {
            "colorbar": {
             "outlinewidth": 0,
             "ticks": ""
            },
            "type": "contourcarpet"
           }
          ],
          "heatmap": [
           {
            "colorbar": {
             "outlinewidth": 0,
             "ticks": ""
            },
            "colorscale": [
             [
              0,
              "#0d0887"
             ],
             [
              0.1111111111111111,
              "#46039f"
             ],
             [
              0.2222222222222222,
              "#7201a8"
             ],
             [
              0.3333333333333333,
              "#9c179e"
             ],
             [
              0.4444444444444444,
              "#bd3786"
             ],
             [
              0.5555555555555556,
              "#d8576b"
             ],
             [
              0.6666666666666666,
              "#ed7953"
             ],
             [
              0.7777777777777778,
              "#fb9f3a"
             ],
             [
              0.8888888888888888,
              "#fdca26"
             ],
             [
              1,
              "#f0f921"
             ]
            ],
            "type": "heatmap"
           }
          ],
          "heatmapgl": [
           {
            "colorbar": {
             "outlinewidth": 0,
             "ticks": ""
            },
            "colorscale": [
             [
              0,
              "#0d0887"
             ],
             [
              0.1111111111111111,
              "#46039f"
             ],
             [
              0.2222222222222222,
              "#7201a8"
             ],
             [
              0.3333333333333333,
              "#9c179e"
             ],
             [
              0.4444444444444444,
              "#bd3786"
             ],
             [
              0.5555555555555556,
              "#d8576b"
             ],
             [
              0.6666666666666666,
              "#ed7953"
             ],
             [
              0.7777777777777778,
              "#fb9f3a"
             ],
             [
              0.8888888888888888,
              "#fdca26"
             ],
             [
              1,
              "#f0f921"
             ]
            ],
            "type": "heatmapgl"
           }
          ],
          "histogram": [
           {
            "marker": {
             "pattern": {
              "fillmode": "overlay",
              "size": 10,
              "solidity": 0.2
             }
            },
            "type": "histogram"
           }
          ],
          "histogram2d": [
           {
            "colorbar": {
             "outlinewidth": 0,
             "ticks": ""
            },
            "colorscale": [
             [
              0,
              "#0d0887"
             ],
             [
              0.1111111111111111,
              "#46039f"
             ],
             [
              0.2222222222222222,
              "#7201a8"
             ],
             [
              0.3333333333333333,
              "#9c179e"
             ],
             [
              0.4444444444444444,
              "#bd3786"
             ],
             [
              0.5555555555555556,
              "#d8576b"
             ],
             [
              0.6666666666666666,
              "#ed7953"
             ],
             [
              0.7777777777777778,
              "#fb9f3a"
             ],
             [
              0.8888888888888888,
              "#fdca26"
             ],
             [
              1,
              "#f0f921"
             ]
            ],
            "type": "histogram2d"
           }
          ],
          "histogram2dcontour": [
           {
            "colorbar": {
             "outlinewidth": 0,
             "ticks": ""
            },
            "colorscale": [
             [
              0,
              "#0d0887"
             ],
             [
              0.1111111111111111,
              "#46039f"
             ],
             [
              0.2222222222222222,
              "#7201a8"
             ],
             [
              0.3333333333333333,
              "#9c179e"
             ],
             [
              0.4444444444444444,
              "#bd3786"
             ],
             [
              0.5555555555555556,
              "#d8576b"
             ],
             [
              0.6666666666666666,
              "#ed7953"
             ],
             [
              0.7777777777777778,
              "#fb9f3a"
             ],
             [
              0.8888888888888888,
              "#fdca26"
             ],
             [
              1,
              "#f0f921"
             ]
            ],
            "type": "histogram2dcontour"
           }
          ],
          "mesh3d": [
           {
            "colorbar": {
             "outlinewidth": 0,
             "ticks": ""
            },
            "type": "mesh3d"
           }
          ],
          "parcoords": [
           {
            "line": {
             "colorbar": {
              "outlinewidth": 0,
              "ticks": ""
             }
            },
            "type": "parcoords"
           }
          ],
          "pie": [
           {
            "automargin": true,
            "type": "pie"
           }
          ],
          "scatter": [
           {
            "fillpattern": {
             "fillmode": "overlay",
             "size": 10,
             "solidity": 0.2
            },
            "type": "scatter"
           }
          ],
          "scatter3d": [
           {
            "line": {
             "colorbar": {
              "outlinewidth": 0,
              "ticks": ""
             }
            },
            "marker": {
             "colorbar": {
              "outlinewidth": 0,
              "ticks": ""
             }
            },
            "type": "scatter3d"
           }
          ],
          "scattercarpet": [
           {
            "marker": {
             "colorbar": {
              "outlinewidth": 0,
              "ticks": ""
             }
            },
            "type": "scattercarpet"
           }
          ],
          "scattergeo": [
           {
            "marker": {
             "colorbar": {
              "outlinewidth": 0,
              "ticks": ""
             }
            },
            "type": "scattergeo"
           }
          ],
          "scattergl": [
           {
            "marker": {
             "colorbar": {
              "outlinewidth": 0,
              "ticks": ""
             }
            },
            "type": "scattergl"
           }
          ],
          "scattermapbox": [
           {
            "marker": {
             "colorbar": {
              "outlinewidth": 0,
              "ticks": ""
             }
            },
            "type": "scattermapbox"
           }
          ],
          "scatterpolar": [
           {
            "marker": {
             "colorbar": {
              "outlinewidth": 0,
              "ticks": ""
             }
            },
            "type": "scatterpolar"
           }
          ],
          "scatterpolargl": [
           {
            "marker": {
             "colorbar": {
              "outlinewidth": 0,
              "ticks": ""
             }
            },
            "type": "scatterpolargl"
           }
          ],
          "scatterternary": [
           {
            "marker": {
             "colorbar": {
              "outlinewidth": 0,
              "ticks": ""
             }
            },
            "type": "scatterternary"
           }
          ],
          "surface": [
           {
            "colorbar": {
             "outlinewidth": 0,
             "ticks": ""
            },
            "colorscale": [
             [
              0,
              "#0d0887"
             ],
             [
              0.1111111111111111,
              "#46039f"
             ],
             [
              0.2222222222222222,
              "#7201a8"
             ],
             [
              0.3333333333333333,
              "#9c179e"
             ],
             [
              0.4444444444444444,
              "#bd3786"
             ],
             [
              0.5555555555555556,
              "#d8576b"
             ],
             [
              0.6666666666666666,
              "#ed7953"
             ],
             [
              0.7777777777777778,
              "#fb9f3a"
             ],
             [
              0.8888888888888888,
              "#fdca26"
             ],
             [
              1,
              "#f0f921"
             ]
            ],
            "type": "surface"
           }
          ],
          "table": [
           {
            "cells": {
             "fill": {
              "color": "#EBF0F8"
             },
             "line": {
              "color": "white"
             }
            },
            "header": {
             "fill": {
              "color": "#C8D4E3"
             },
             "line": {
              "color": "white"
             }
            },
            "type": "table"
           }
          ]
         },
         "layout": {
          "annotationdefaults": {
           "arrowcolor": "#2a3f5f",
           "arrowhead": 0,
           "arrowwidth": 1
          },
          "autotypenumbers": "strict",
          "coloraxis": {
           "colorbar": {
            "outlinewidth": 0,
            "ticks": ""
           }
          },
          "colorscale": {
           "diverging": [
            [
             0,
             "#8e0152"
            ],
            [
             0.1,
             "#c51b7d"
            ],
            [
             0.2,
             "#de77ae"
            ],
            [
             0.3,
             "#f1b6da"
            ],
            [
             0.4,
             "#fde0ef"
            ],
            [
             0.5,
             "#f7f7f7"
            ],
            [
             0.6,
             "#e6f5d0"
            ],
            [
             0.7,
             "#b8e186"
            ],
            [
             0.8,
             "#7fbc41"
            ],
            [
             0.9,
             "#4d9221"
            ],
            [
             1,
             "#276419"
            ]
           ],
           "sequential": [
            [
             0,
             "#0d0887"
            ],
            [
             0.1111111111111111,
             "#46039f"
            ],
            [
             0.2222222222222222,
             "#7201a8"
            ],
            [
             0.3333333333333333,
             "#9c179e"
            ],
            [
             0.4444444444444444,
             "#bd3786"
            ],
            [
             0.5555555555555556,
             "#d8576b"
            ],
            [
             0.6666666666666666,
             "#ed7953"
            ],
            [
             0.7777777777777778,
             "#fb9f3a"
            ],
            [
             0.8888888888888888,
             "#fdca26"
            ],
            [
             1,
             "#f0f921"
            ]
           ],
           "sequentialminus": [
            [
             0,
             "#0d0887"
            ],
            [
             0.1111111111111111,
             "#46039f"
            ],
            [
             0.2222222222222222,
             "#7201a8"
            ],
            [
             0.3333333333333333,
             "#9c179e"
            ],
            [
             0.4444444444444444,
             "#bd3786"
            ],
            [
             0.5555555555555556,
             "#d8576b"
            ],
            [
             0.6666666666666666,
             "#ed7953"
            ],
            [
             0.7777777777777778,
             "#fb9f3a"
            ],
            [
             0.8888888888888888,
             "#fdca26"
            ],
            [
             1,
             "#f0f921"
            ]
           ]
          },
          "colorway": [
           "#636efa",
           "#EF553B",
           "#00cc96",
           "#ab63fa",
           "#FFA15A",
           "#19d3f3",
           "#FF6692",
           "#B6E880",
           "#FF97FF",
           "#FECB52"
          ],
          "font": {
           "color": "#2a3f5f"
          },
          "geo": {
           "bgcolor": "white",
           "lakecolor": "white",
           "landcolor": "#E5ECF6",
           "showlakes": true,
           "showland": true,
           "subunitcolor": "white"
          },
          "hoverlabel": {
           "align": "left"
          },
          "hovermode": "closest",
          "mapbox": {
           "style": "light"
          },
          "paper_bgcolor": "white",
          "plot_bgcolor": "#E5ECF6",
          "polar": {
           "angularaxis": {
            "gridcolor": "white",
            "linecolor": "white",
            "ticks": ""
           },
           "bgcolor": "#E5ECF6",
           "radialaxis": {
            "gridcolor": "white",
            "linecolor": "white",
            "ticks": ""
           }
          },
          "scene": {
           "xaxis": {
            "backgroundcolor": "#E5ECF6",
            "gridcolor": "white",
            "gridwidth": 2,
            "linecolor": "white",
            "showbackground": true,
            "ticks": "",
            "zerolinecolor": "white"
           },
           "yaxis": {
            "backgroundcolor": "#E5ECF6",
            "gridcolor": "white",
            "gridwidth": 2,
            "linecolor": "white",
            "showbackground": true,
            "ticks": "",
            "zerolinecolor": "white"
           },
           "zaxis": {
            "backgroundcolor": "#E5ECF6",
            "gridcolor": "white",
            "gridwidth": 2,
            "linecolor": "white",
            "showbackground": true,
            "ticks": "",
            "zerolinecolor": "white"
           }
          },
          "shapedefaults": {
           "line": {
            "color": "#2a3f5f"
           }
          },
          "ternary": {
           "aaxis": {
            "gridcolor": "white",
            "linecolor": "white",
            "ticks": ""
           },
           "baxis": {
            "gridcolor": "white",
            "linecolor": "white",
            "ticks": ""
           },
           "bgcolor": "#E5ECF6",
           "caxis": {
            "gridcolor": "white",
            "linecolor": "white",
            "ticks": ""
           }
          },
          "title": {
           "x": 0.05
          },
          "xaxis": {
           "automargin": true,
           "gridcolor": "white",
           "linecolor": "white",
           "ticks": "",
           "title": {
            "standoff": 15
           },
           "zerolinecolor": "white",
           "zerolinewidth": 2
          },
          "yaxis": {
           "automargin": true,
           "gridcolor": "white",
           "linecolor": "white",
           "ticks": "",
           "title": {
            "standoff": 15
           },
           "zerolinecolor": "white",
           "zerolinewidth": 2
          }
         }
        },
        "title": {
         "text": "Balanced Class Distribution After Applying SMOTE"
        },
        "xaxis": {
         "anchor": "y",
         "domain": [
          0,
          1
         ],
         "title": {
          "text": "Class"
         }
        },
        "yaxis": {
         "anchor": "x",
         "domain": [
          0,
          1
         ],
         "title": {
          "text": "Sample Count"
         }
        }
       }
      },
      "text/html": [
       "<div>                            <div id=\"d29f2cea-7f48-4ad9-929d-aecbe000e08b\" class=\"plotly-graph-div\" style=\"height:525px; width:100%;\"></div>            <script type=\"text/javascript\">                require([\"plotly\"], function(Plotly) {                    window.PLOTLYENV=window.PLOTLYENV || {};                                    if (document.getElementById(\"d29f2cea-7f48-4ad9-929d-aecbe000e08b\")) {                    Plotly.newPlot(                        \"d29f2cea-7f48-4ad9-929d-aecbe000e08b\",                        [{\"alignmentgroup\":\"True\",\"hovertemplate\":\"Behavioral Difficulty Class=%{x}\\u003cbr\\u003eNumber of Samples=%{text}\\u003cextra\\u003e\\u003c\\u002fextra\\u003e\",\"legendgroup\":\"\",\"marker\":{\"color\":\"#636efa\",\"pattern\":{\"shape\":\"\"}},\"name\":\"\",\"offsetgroup\":\"\",\"orientation\":\"v\",\"showlegend\":false,\"text\":[582.0,582.0,582.0],\"textposition\":\"outside\",\"x\":[0,1,2],\"xaxis\":\"x\",\"y\":[582,582,582],\"yaxis\":\"y\",\"type\":\"bar\"}],                        {\"template\":{\"data\":{\"histogram2dcontour\":[{\"type\":\"histogram2dcontour\",\"colorbar\":{\"outlinewidth\":0,\"ticks\":\"\"},\"colorscale\":[[0.0,\"#0d0887\"],[0.1111111111111111,\"#46039f\"],[0.2222222222222222,\"#7201a8\"],[0.3333333333333333,\"#9c179e\"],[0.4444444444444444,\"#bd3786\"],[0.5555555555555556,\"#d8576b\"],[0.6666666666666666,\"#ed7953\"],[0.7777777777777778,\"#fb9f3a\"],[0.8888888888888888,\"#fdca26\"],[1.0,\"#f0f921\"]]}],\"choropleth\":[{\"type\":\"choropleth\",\"colorbar\":{\"outlinewidth\":0,\"ticks\":\"\"}}],\"histogram2d\":[{\"type\":\"histogram2d\",\"colorbar\":{\"outlinewidth\":0,\"ticks\":\"\"},\"colorscale\":[[0.0,\"#0d0887\"],[0.1111111111111111,\"#46039f\"],[0.2222222222222222,\"#7201a8\"],[0.3333333333333333,\"#9c179e\"],[0.4444444444444444,\"#bd3786\"],[0.5555555555555556,\"#d8576b\"],[0.6666666666666666,\"#ed7953\"],[0.7777777777777778,\"#fb9f3a\"],[0.8888888888888888,\"#fdca26\"],[1.0,\"#f0f921\"]]}],\"heatmap\":[{\"type\":\"heatmap\",\"colorbar\":{\"outlinewidth\":0,\"ticks\":\"\"},\"colorscale\":[[0.0,\"#0d0887\"],[0.1111111111111111,\"#46039f\"],[0.2222222222222222,\"#7201a8\"],[0.3333333333333333,\"#9c179e\"],[0.4444444444444444,\"#bd3786\"],[0.5555555555555556,\"#d8576b\"],[0.6666666666666666,\"#ed7953\"],[0.7777777777777778,\"#fb9f3a\"],[0.8888888888888888,\"#fdca26\"],[1.0,\"#f0f921\"]]}],\"heatmapgl\":[{\"type\":\"heatmapgl\",\"colorbar\":{\"outlinewidth\":0,\"ticks\":\"\"},\"colorscale\":[[0.0,\"#0d0887\"],[0.1111111111111111,\"#46039f\"],[0.2222222222222222,\"#7201a8\"],[0.3333333333333333,\"#9c179e\"],[0.4444444444444444,\"#bd3786\"],[0.5555555555555556,\"#d8576b\"],[0.6666666666666666,\"#ed7953\"],[0.7777777777777778,\"#fb9f3a\"],[0.8888888888888888,\"#fdca26\"],[1.0,\"#f0f921\"]]}],\"contourcarpet\":[{\"type\":\"contourcarpet\",\"colorbar\":{\"outlinewidth\":0,\"ticks\":\"\"}}],\"contour\":[{\"type\":\"contour\",\"colorbar\":{\"outlinewidth\":0,\"ticks\":\"\"},\"colorscale\":[[0.0,\"#0d0887\"],[0.1111111111111111,\"#46039f\"],[0.2222222222222222,\"#7201a8\"],[0.3333333333333333,\"#9c179e\"],[0.4444444444444444,\"#bd3786\"],[0.5555555555555556,\"#d8576b\"],[0.6666666666666666,\"#ed7953\"],[0.7777777777777778,\"#fb9f3a\"],[0.8888888888888888,\"#fdca26\"],[1.0,\"#f0f921\"]]}],\"surface\":[{\"type\":\"surface\",\"colorbar\":{\"outlinewidth\":0,\"ticks\":\"\"},\"colorscale\":[[0.0,\"#0d0887\"],[0.1111111111111111,\"#46039f\"],[0.2222222222222222,\"#7201a8\"],[0.3333333333333333,\"#9c179e\"],[0.4444444444444444,\"#bd3786\"],[0.5555555555555556,\"#d8576b\"],[0.6666666666666666,\"#ed7953\"],[0.7777777777777778,\"#fb9f3a\"],[0.8888888888888888,\"#fdca26\"],[1.0,\"#f0f921\"]]}],\"mesh3d\":[{\"type\":\"mesh3d\",\"colorbar\":{\"outlinewidth\":0,\"ticks\":\"\"}}],\"scatter\":[{\"fillpattern\":{\"fillmode\":\"overlay\",\"size\":10,\"solidity\":0.2},\"type\":\"scatter\"}],\"parcoords\":[{\"type\":\"parcoords\",\"line\":{\"colorbar\":{\"outlinewidth\":0,\"ticks\":\"\"}}}],\"scatterpolargl\":[{\"type\":\"scatterpolargl\",\"marker\":{\"colorbar\":{\"outlinewidth\":0,\"ticks\":\"\"}}}],\"bar\":[{\"error_x\":{\"color\":\"#2a3f5f\"},\"error_y\":{\"color\":\"#2a3f5f\"},\"marker\":{\"line\":{\"color\":\"#E5ECF6\",\"width\":0.5},\"pattern\":{\"fillmode\":\"overlay\",\"size\":10,\"solidity\":0.2}},\"type\":\"bar\"}],\"scattergeo\":[{\"type\":\"scattergeo\",\"marker\":{\"colorbar\":{\"outlinewidth\":0,\"ticks\":\"\"}}}],\"scatterpolar\":[{\"type\":\"scatterpolar\",\"marker\":{\"colorbar\":{\"outlinewidth\":0,\"ticks\":\"\"}}}],\"histogram\":[{\"marker\":{\"pattern\":{\"fillmode\":\"overlay\",\"size\":10,\"solidity\":0.2}},\"type\":\"histogram\"}],\"scattergl\":[{\"type\":\"scattergl\",\"marker\":{\"colorbar\":{\"outlinewidth\":0,\"ticks\":\"\"}}}],\"scatter3d\":[{\"type\":\"scatter3d\",\"line\":{\"colorbar\":{\"outlinewidth\":0,\"ticks\":\"\"}},\"marker\":{\"colorbar\":{\"outlinewidth\":0,\"ticks\":\"\"}}}],\"scattermapbox\":[{\"type\":\"scattermapbox\",\"marker\":{\"colorbar\":{\"outlinewidth\":0,\"ticks\":\"\"}}}],\"scatterternary\":[{\"type\":\"scatterternary\",\"marker\":{\"colorbar\":{\"outlinewidth\":0,\"ticks\":\"\"}}}],\"scattercarpet\":[{\"type\":\"scattercarpet\",\"marker\":{\"colorbar\":{\"outlinewidth\":0,\"ticks\":\"\"}}}],\"carpet\":[{\"aaxis\":{\"endlinecolor\":\"#2a3f5f\",\"gridcolor\":\"white\",\"linecolor\":\"white\",\"minorgridcolor\":\"white\",\"startlinecolor\":\"#2a3f5f\"},\"baxis\":{\"endlinecolor\":\"#2a3f5f\",\"gridcolor\":\"white\",\"linecolor\":\"white\",\"minorgridcolor\":\"white\",\"startlinecolor\":\"#2a3f5f\"},\"type\":\"carpet\"}],\"table\":[{\"cells\":{\"fill\":{\"color\":\"#EBF0F8\"},\"line\":{\"color\":\"white\"}},\"header\":{\"fill\":{\"color\":\"#C8D4E3\"},\"line\":{\"color\":\"white\"}},\"type\":\"table\"}],\"barpolar\":[{\"marker\":{\"line\":{\"color\":\"#E5ECF6\",\"width\":0.5},\"pattern\":{\"fillmode\":\"overlay\",\"size\":10,\"solidity\":0.2}},\"type\":\"barpolar\"}],\"pie\":[{\"automargin\":true,\"type\":\"pie\"}]},\"layout\":{\"autotypenumbers\":\"strict\",\"colorway\":[\"#636efa\",\"#EF553B\",\"#00cc96\",\"#ab63fa\",\"#FFA15A\",\"#19d3f3\",\"#FF6692\",\"#B6E880\",\"#FF97FF\",\"#FECB52\"],\"font\":{\"color\":\"#2a3f5f\"},\"hovermode\":\"closest\",\"hoverlabel\":{\"align\":\"left\"},\"paper_bgcolor\":\"white\",\"plot_bgcolor\":\"#E5ECF6\",\"polar\":{\"bgcolor\":\"#E5ECF6\",\"angularaxis\":{\"gridcolor\":\"white\",\"linecolor\":\"white\",\"ticks\":\"\"},\"radialaxis\":{\"gridcolor\":\"white\",\"linecolor\":\"white\",\"ticks\":\"\"}},\"ternary\":{\"bgcolor\":\"#E5ECF6\",\"aaxis\":{\"gridcolor\":\"white\",\"linecolor\":\"white\",\"ticks\":\"\"},\"baxis\":{\"gridcolor\":\"white\",\"linecolor\":\"white\",\"ticks\":\"\"},\"caxis\":{\"gridcolor\":\"white\",\"linecolor\":\"white\",\"ticks\":\"\"}},\"coloraxis\":{\"colorbar\":{\"outlinewidth\":0,\"ticks\":\"\"}},\"colorscale\":{\"sequential\":[[0.0,\"#0d0887\"],[0.1111111111111111,\"#46039f\"],[0.2222222222222222,\"#7201a8\"],[0.3333333333333333,\"#9c179e\"],[0.4444444444444444,\"#bd3786\"],[0.5555555555555556,\"#d8576b\"],[0.6666666666666666,\"#ed7953\"],[0.7777777777777778,\"#fb9f3a\"],[0.8888888888888888,\"#fdca26\"],[1.0,\"#f0f921\"]],\"sequentialminus\":[[0.0,\"#0d0887\"],[0.1111111111111111,\"#46039f\"],[0.2222222222222222,\"#7201a8\"],[0.3333333333333333,\"#9c179e\"],[0.4444444444444444,\"#bd3786\"],[0.5555555555555556,\"#d8576b\"],[0.6666666666666666,\"#ed7953\"],[0.7777777777777778,\"#fb9f3a\"],[0.8888888888888888,\"#fdca26\"],[1.0,\"#f0f921\"]],\"diverging\":[[0,\"#8e0152\"],[0.1,\"#c51b7d\"],[0.2,\"#de77ae\"],[0.3,\"#f1b6da\"],[0.4,\"#fde0ef\"],[0.5,\"#f7f7f7\"],[0.6,\"#e6f5d0\"],[0.7,\"#b8e186\"],[0.8,\"#7fbc41\"],[0.9,\"#4d9221\"],[1,\"#276419\"]]},\"xaxis\":{\"gridcolor\":\"white\",\"linecolor\":\"white\",\"ticks\":\"\",\"title\":{\"standoff\":15},\"zerolinecolor\":\"white\",\"automargin\":true,\"zerolinewidth\":2},\"yaxis\":{\"gridcolor\":\"white\",\"linecolor\":\"white\",\"ticks\":\"\",\"title\":{\"standoff\":15},\"zerolinecolor\":\"white\",\"automargin\":true,\"zerolinewidth\":2},\"scene\":{\"xaxis\":{\"backgroundcolor\":\"#E5ECF6\",\"gridcolor\":\"white\",\"linecolor\":\"white\",\"showbackground\":true,\"ticks\":\"\",\"zerolinecolor\":\"white\",\"gridwidth\":2},\"yaxis\":{\"backgroundcolor\":\"#E5ECF6\",\"gridcolor\":\"white\",\"linecolor\":\"white\",\"showbackground\":true,\"ticks\":\"\",\"zerolinecolor\":\"white\",\"gridwidth\":2},\"zaxis\":{\"backgroundcolor\":\"#E5ECF6\",\"gridcolor\":\"white\",\"linecolor\":\"white\",\"showbackground\":true,\"ticks\":\"\",\"zerolinecolor\":\"white\",\"gridwidth\":2}},\"shapedefaults\":{\"line\":{\"color\":\"#2a3f5f\"}},\"annotationdefaults\":{\"arrowcolor\":\"#2a3f5f\",\"arrowhead\":0,\"arrowwidth\":1},\"geo\":{\"bgcolor\":\"white\",\"landcolor\":\"#E5ECF6\",\"subunitcolor\":\"white\",\"showland\":true,\"showlakes\":true,\"lakecolor\":\"white\"},\"title\":{\"x\":0.05},\"mapbox\":{\"style\":\"light\"}}},\"xaxis\":{\"anchor\":\"y\",\"domain\":[0.0,1.0],\"title\":{\"text\":\"Class\"}},\"yaxis\":{\"anchor\":\"x\",\"domain\":[0.0,1.0],\"title\":{\"text\":\"Sample Count\"}},\"legend\":{\"tracegroupgap\":0},\"title\":{\"text\":\"Balanced Class Distribution After Applying SMOTE\"},\"barmode\":\"relative\",\"showlegend\":false},                        {\"responsive\": true}                    ).then(function(){\n",
       "                            \n",
       "var gd = document.getElementById('d29f2cea-7f48-4ad9-929d-aecbe000e08b');\n",
       "var x = new MutationObserver(function (mutations, observer) {{\n",
       "        var display = window.getComputedStyle(gd).display;\n",
       "        if (!display || display === 'none') {{\n",
       "            console.log([gd, 'removed!']);\n",
       "            Plotly.purge(gd);\n",
       "            observer.disconnect();\n",
       "        }}\n",
       "}});\n",
       "\n",
       "// Listen for the removal of the full notebook cells\n",
       "var notebookContainer = gd.closest('#notebook-container');\n",
       "if (notebookContainer) {{\n",
       "    x.observe(notebookContainer, {childList: true});\n",
       "}}\n",
       "\n",
       "// Listen for the clearing of the current output cell\n",
       "var outputEl = gd.closest('.output');\n",
       "if (outputEl) {{\n",
       "    x.observe(outputEl, {childList: true});\n",
       "}}\n",
       "\n",
       "                        })                };                });            </script>        </div>"
      ]
     },
     "metadata": {},
     "output_type": "display_data"
    }
   ],
   "source": [
    "import plotly.express as px\n",
    "\n",
    "# Convert the balanced class distribution to a DataFrame for visualization\n",
    "balanced_class_df = pd.DataFrame({\n",
    "    'Class': balanced_class_distribution.index,\n",
    "    'Count': balanced_class_distribution.values\n",
    "})\n",
    "\n",
    "# Create a bar plot to visualize the balanced class distribution\n",
    "fig = px.bar(\n",
    "    balanced_class_df,\n",
    "    x='Class',\n",
    "    y='Count',\n",
    "    title='Balanced Class Distribution After Applying SMOTE',\n",
    "    labels={'Class': 'Behavioral Difficulty Class', 'Count': 'Number of Samples'},\n",
    "    text='Count'\n",
    ")\n",
    "\n",
    "# Customize the layout\n",
    "fig.update_traces(textposition='outside')\n",
    "fig.update_layout(\n",
    "    xaxis_title=\"Class\",\n",
    "    yaxis_title=\"Sample Count\",\n",
    "    showlegend=False\n",
    ")\n",
    "\n",
    "# Show the plot\n",
    "fig.show()"
   ]
  },
  {
   "cell_type": "markdown",
   "id": "6f1264bf",
   "metadata": {},
   "source": [
    "### Model 1:Logistic regression model"
   ]
  },
  {
   "cell_type": "code",
   "execution_count": 124,
   "id": "33ca5005",
   "metadata": {},
   "outputs": [
    {
     "name": "stderr",
     "output_type": "stream",
     "text": [
      "C:\\Users\\srika\\anaconda3\\lib\\site-packages\\sklearn\\linear_model\\_logistic.py:814: ConvergenceWarning:\n",
      "\n",
      "lbfgs failed to converge (status=1):\n",
      "STOP: TOTAL NO. of ITERATIONS REACHED LIMIT.\n",
      "\n",
      "Increase the number of iterations (max_iter) or scale the data as shown in:\n",
      "    https://scikit-learn.org/stable/modules/preprocessing.html\n",
      "Please also refer to the documentation for alternative solver options:\n",
      "    https://scikit-learn.org/stable/modules/linear_model.html#logistic-regression\n",
      "\n"
     ]
    },
    {
     "data": {
      "text/plain": [
       "LogisticRegression(max_iter=500, multi_class='multinomial')"
      ]
     },
     "execution_count": 124,
     "metadata": {},
     "output_type": "execute_result"
    }
   ],
   "source": [
    "balanced_behavioral_model = LogisticRegression(multi_class='multinomial', solver='lbfgs', max_iter=500)\n",
    "balanced_behavioral_model.fit(X_train_balanced, y_train_balanced)"
   ]
  },
  {
   "cell_type": "code",
   "execution_count": 125,
   "id": "5ec2c04d",
   "metadata": {},
   "outputs": [],
   "source": [
    "# Predict on the test set\n",
    "y_pred_balanced = balanced_behavioral_model.predict(X_test_behavioral)"
   ]
  },
  {
   "cell_type": "code",
   "execution_count": 126,
   "id": "7906393a",
   "metadata": {},
   "outputs": [],
   "source": [
    "# Evaluate the model\n",
    "balanced_accuracy = accuracy_score(y_test_behavioral, y_pred_balanced)\n",
    "balanced_classification_report = classification_report(y_test_behavioral, y_pred_balanced)"
   ]
  },
  {
   "cell_type": "code",
   "execution_count": 127,
   "id": "3c768e1e",
   "metadata": {
    "scrolled": true
   },
   "outputs": [
    {
     "name": "stdout",
     "output_type": "stream",
     "text": [
      "              precision    recall  f1-score   support\n",
      "\n",
      "           0       0.99      0.90      0.95       249\n",
      "           1       0.14      0.20      0.16        15\n",
      "           2       0.50      0.89      0.64        19\n",
      "\n",
      "    accuracy                           0.87       283\n",
      "   macro avg       0.54      0.67      0.58       283\n",
      "weighted avg       0.91      0.87      0.88       283\n",
      "\n"
     ]
    }
   ],
   "source": [
    "print(balanced_classification_report)"
   ]
  },
  {
   "cell_type": "code",
   "execution_count": 128,
   "id": "269fd5a2",
   "metadata": {
    "scrolled": true
   },
   "outputs": [
    {
     "name": "stdout",
     "output_type": "stream",
     "text": [
      "Balanced Class Distribution (Training Set):\n",
      "0    582\n",
      "1    582\n",
      "2    582\n",
      "Name: behavioral difficulty category, dtype: int64\n",
      "\n",
      "Model Accuracy After Balancing:\n",
      "0.8657243816254417\n",
      "\n",
      "Classification Report After Balancing:\n",
      "              precision    recall  f1-score   support\n",
      "\n",
      "           0       0.99      0.90      0.95       249\n",
      "           1       0.14      0.20      0.16        15\n",
      "           2       0.50      0.89      0.64        19\n",
      "\n",
      "    accuracy                           0.87       283\n",
      "   macro avg       0.54      0.67      0.58       283\n",
      "weighted avg       0.91      0.87      0.88       283\n",
      "\n"
     ]
    }
   ],
   "source": [
    "# Display results\n",
    "balanced_results = {\n",
    "    \"Balanced Class Distribution (Training Set)\": balanced_class_distribution,\n",
    "    \"Model Accuracy After Balancing\": balanced_accuracy,\n",
    "    \"Classification Report After Balancing\": balanced_classification_report\n",
    "}\n",
    "\n",
    "# Print key results\n",
    "print(\"Balanced Class Distribution (Training Set):\")\n",
    "print(balanced_class_distribution)\n",
    "print(\"\\nModel Accuracy After Balancing:\")\n",
    "print(balanced_accuracy)\n",
    "print(\"\\nClassification Report After Balancing:\")\n",
    "print(balanced_classification_report)"
   ]
  },
  {
   "cell_type": "markdown",
   "id": "5df127ed",
   "metadata": {},
   "source": [
    "* Even though accuracy is good it still not generalizing the other classes\n",
    "    * Recall, precision and f1 scores are too low."
   ]
  },
  {
   "cell_type": "markdown",
   "id": "7c3bc2aa",
   "metadata": {},
   "source": [
    "#### Logistic Regression Model Hyperparameter tuning and cross-validation"
   ]
  },
  {
   "cell_type": "code",
   "execution_count": 129,
   "id": "c02b4a0b",
   "metadata": {},
   "outputs": [],
   "source": [
    "# Define the hyperparameter grid for logistic regression\n",
    "param_grid = {\n",
    "    'C': [0.01, 0.1, 1, 10, 100],  # Regularization strength\n",
    "    'solver': ['lbfgs', 'newton-cg', 'saga'],  # Solvers\n",
    "    'multi_class': ['multinomial']  # Multiclass setting\n",
    "}\n",
    "\n",
    "# Initialize the logistic regression model\n",
    "logistic_regression = LogisticRegression(max_iter=500, random_state=42)"
   ]
  },
  {
   "cell_type": "code",
   "execution_count": 130,
   "id": "f0527030",
   "metadata": {},
   "outputs": [],
   "source": [
    "# Set up GridSearchCV for hyperparameter tuning with cross-validation\n",
    "grid_search = GridSearchCV(\n",
    "    estimator=logistic_regression,\n",
    "    param_grid=param_grid,\n",
    "    scoring='f1_weighted',  # Optimize for F1 score (weighted for multiclass)\n",
    "    cv=5,  # 5-fold cross-validation\n",
    "    verbose=1,\n",
    "    n_jobs=-1\n",
    ")"
   ]
  },
  {
   "cell_type": "code",
   "execution_count": 131,
   "id": "3440ed4a",
   "metadata": {},
   "outputs": [
    {
     "name": "stdout",
     "output_type": "stream",
     "text": [
      "Fitting 5 folds for each of 15 candidates, totalling 75 fits\n"
     ]
    },
    {
     "data": {
      "text/plain": [
       "GridSearchCV(cv=5, estimator=LogisticRegression(max_iter=500, random_state=42),\n",
       "             n_jobs=-1,\n",
       "             param_grid={'C': [0.01, 0.1, 1, 10, 100],\n",
       "                         'multi_class': ['multinomial'],\n",
       "                         'solver': ['lbfgs', 'newton-cg', 'saga']},\n",
       "             scoring='f1_weighted', verbose=1)"
      ]
     },
     "execution_count": 131,
     "metadata": {},
     "output_type": "execute_result"
    }
   ],
   "source": [
    "# Perform the grid search on the balanced training dataset\n",
    "grid_search.fit(X_train_balanced, y_train_balanced)"
   ]
  },
  {
   "cell_type": "code",
   "execution_count": 132,
   "id": "7290371a",
   "metadata": {},
   "outputs": [],
   "source": [
    "# Retrieve the best model and its parameters\n",
    "best_model = grid_search.best_estimator_\n",
    "best_params = grid_search.best_params_"
   ]
  },
  {
   "cell_type": "code",
   "execution_count": 133,
   "id": "61a2df3d",
   "metadata": {},
   "outputs": [],
   "source": [
    "# Predict on the test set with the best model\n",
    "y_pred_tuned = best_model.predict(X_test_behavioral)"
   ]
  },
  {
   "cell_type": "code",
   "execution_count": 134,
   "id": "3bece8df",
   "metadata": {},
   "outputs": [],
   "source": [
    "# Evaluate the tuned model\n",
    "tuned_accuracy = accuracy_score(y_test_behavioral, y_pred_tuned)\n",
    "tuned_classification_report = classification_report(y_test_behavioral, y_pred_tuned)"
   ]
  },
  {
   "cell_type": "code",
   "execution_count": 135,
   "id": "f08e3362",
   "metadata": {},
   "outputs": [
    {
     "name": "stdout",
     "output_type": "stream",
     "text": [
      "Best Hyperparameters:\n",
      "{'C': 1, 'multi_class': 'multinomial', 'solver': 'newton-cg'}\n",
      "\n",
      "Tuned Model Accuracy:\n",
      "0.8657243816254417\n",
      "\n",
      "Tuned Classification Report:\n",
      "              precision    recall  f1-score   support\n",
      "\n",
      "           0       0.97      0.91      0.94       249\n",
      "           1       0.14      0.20      0.17        15\n",
      "           2       0.57      0.84      0.68        19\n",
      "\n",
      "    accuracy                           0.87       283\n",
      "   macro avg       0.56      0.65      0.59       283\n",
      "weighted avg       0.90      0.87      0.88       283\n",
      "\n"
     ]
    }
   ],
   "source": [
    "# Display results\n",
    "tuning_results = {\n",
    "    \"Best Hyperparameters\": best_params,\n",
    "    \"Tuned Model Accuracy\": tuned_accuracy,\n",
    "    \"Tuned Classification Report\": tuned_classification_report\n",
    "}\n",
    "\n",
    "# Print key results\n",
    "print(\"Best Hyperparameters:\")\n",
    "print(best_params)\n",
    "print(\"\\nTuned Model Accuracy:\")\n",
    "print(tuned_accuracy)\n",
    "print(\"\\nTuned Classification Report:\")\n",
    "print(tuned_classification_report)"
   ]
  },
  {
   "cell_type": "code",
   "execution_count": 136,
   "id": "70d765ba",
   "metadata": {},
   "outputs": [
    {
     "data": {
      "application/vnd.plotly.v1+json": {
       "config": {
        "plotlyServerURL": "https://plot.ly"
       },
       "data": [
        {
         "colorscale": [
          [
           0,
           "rgb(255,245,240)"
          ],
          [
           0.125,
           "rgb(254,224,210)"
          ],
          [
           0.25,
           "rgb(252,187,161)"
          ],
          [
           0.375,
           "rgb(252,146,114)"
          ],
          [
           0.5,
           "rgb(251,106,74)"
          ],
          [
           0.625,
           "rgb(239,59,44)"
          ],
          [
           0.75,
           "rgb(203,24,29)"
          ],
          [
           0.875,
           "rgb(165,15,21)"
          ],
          [
           1,
           "rgb(103,0,13)"
          ]
         ],
         "reversescale": false,
         "showscale": true,
         "type": "heatmap",
         "x": [
          "0",
          "1",
          "2"
         ],
         "y": [
          "0",
          "1",
          "2"
         ],
         "z": [
          [
           226,
           17,
           6
          ],
          [
           6,
           3,
           6
          ],
          [
           2,
           1,
           16
          ]
         ]
        }
       ],
       "layout": {
        "annotations": [
         {
          "font": {
           "color": "#FFFFFF"
          },
          "showarrow": false,
          "text": "226",
          "x": "0",
          "xref": "x",
          "y": "0",
          "yref": "y"
         },
         {
          "font": {
           "color": "#000000"
          },
          "showarrow": false,
          "text": "17",
          "x": "1",
          "xref": "x",
          "y": "0",
          "yref": "y"
         },
         {
          "font": {
           "color": "#000000"
          },
          "showarrow": false,
          "text": "6",
          "x": "2",
          "xref": "x",
          "y": "0",
          "yref": "y"
         },
         {
          "font": {
           "color": "#000000"
          },
          "showarrow": false,
          "text": "6",
          "x": "0",
          "xref": "x",
          "y": "1",
          "yref": "y"
         },
         {
          "font": {
           "color": "#000000"
          },
          "showarrow": false,
          "text": "3",
          "x": "1",
          "xref": "x",
          "y": "1",
          "yref": "y"
         },
         {
          "font": {
           "color": "#000000"
          },
          "showarrow": false,
          "text": "6",
          "x": "2",
          "xref": "x",
          "y": "1",
          "yref": "y"
         },
         {
          "font": {
           "color": "#000000"
          },
          "showarrow": false,
          "text": "2",
          "x": "0",
          "xref": "x",
          "y": "2",
          "yref": "y"
         },
         {
          "font": {
           "color": "#000000"
          },
          "showarrow": false,
          "text": "1",
          "x": "1",
          "xref": "x",
          "y": "2",
          "yref": "y"
         },
         {
          "font": {
           "color": "#000000"
          },
          "showarrow": false,
          "text": "16",
          "x": "2",
          "xref": "x",
          "y": "2",
          "yref": "y"
         }
        ],
        "template": {
         "data": {
          "bar": [
           {
            "error_x": {
             "color": "#2a3f5f"
            },
            "error_y": {
             "color": "#2a3f5f"
            },
            "marker": {
             "line": {
              "color": "#E5ECF6",
              "width": 0.5
             },
             "pattern": {
              "fillmode": "overlay",
              "size": 10,
              "solidity": 0.2
             }
            },
            "type": "bar"
           }
          ],
          "barpolar": [
           {
            "marker": {
             "line": {
              "color": "#E5ECF6",
              "width": 0.5
             },
             "pattern": {
              "fillmode": "overlay",
              "size": 10,
              "solidity": 0.2
             }
            },
            "type": "barpolar"
           }
          ],
          "carpet": [
           {
            "aaxis": {
             "endlinecolor": "#2a3f5f",
             "gridcolor": "white",
             "linecolor": "white",
             "minorgridcolor": "white",
             "startlinecolor": "#2a3f5f"
            },
            "baxis": {
             "endlinecolor": "#2a3f5f",
             "gridcolor": "white",
             "linecolor": "white",
             "minorgridcolor": "white",
             "startlinecolor": "#2a3f5f"
            },
            "type": "carpet"
           }
          ],
          "choropleth": [
           {
            "colorbar": {
             "outlinewidth": 0,
             "ticks": ""
            },
            "type": "choropleth"
           }
          ],
          "contour": [
           {
            "colorbar": {
             "outlinewidth": 0,
             "ticks": ""
            },
            "colorscale": [
             [
              0,
              "#0d0887"
             ],
             [
              0.1111111111111111,
              "#46039f"
             ],
             [
              0.2222222222222222,
              "#7201a8"
             ],
             [
              0.3333333333333333,
              "#9c179e"
             ],
             [
              0.4444444444444444,
              "#bd3786"
             ],
             [
              0.5555555555555556,
              "#d8576b"
             ],
             [
              0.6666666666666666,
              "#ed7953"
             ],
             [
              0.7777777777777778,
              "#fb9f3a"
             ],
             [
              0.8888888888888888,
              "#fdca26"
             ],
             [
              1,
              "#f0f921"
             ]
            ],
            "type": "contour"
           }
          ],
          "contourcarpet": [
           {
            "colorbar": {
             "outlinewidth": 0,
             "ticks": ""
            },
            "type": "contourcarpet"
           }
          ],
          "heatmap": [
           {
            "colorbar": {
             "outlinewidth": 0,
             "ticks": ""
            },
            "colorscale": [
             [
              0,
              "#0d0887"
             ],
             [
              0.1111111111111111,
              "#46039f"
             ],
             [
              0.2222222222222222,
              "#7201a8"
             ],
             [
              0.3333333333333333,
              "#9c179e"
             ],
             [
              0.4444444444444444,
              "#bd3786"
             ],
             [
              0.5555555555555556,
              "#d8576b"
             ],
             [
              0.6666666666666666,
              "#ed7953"
             ],
             [
              0.7777777777777778,
              "#fb9f3a"
             ],
             [
              0.8888888888888888,
              "#fdca26"
             ],
             [
              1,
              "#f0f921"
             ]
            ],
            "type": "heatmap"
           }
          ],
          "heatmapgl": [
           {
            "colorbar": {
             "outlinewidth": 0,
             "ticks": ""
            },
            "colorscale": [
             [
              0,
              "#0d0887"
             ],
             [
              0.1111111111111111,
              "#46039f"
             ],
             [
              0.2222222222222222,
              "#7201a8"
             ],
             [
              0.3333333333333333,
              "#9c179e"
             ],
             [
              0.4444444444444444,
              "#bd3786"
             ],
             [
              0.5555555555555556,
              "#d8576b"
             ],
             [
              0.6666666666666666,
              "#ed7953"
             ],
             [
              0.7777777777777778,
              "#fb9f3a"
             ],
             [
              0.8888888888888888,
              "#fdca26"
             ],
             [
              1,
              "#f0f921"
             ]
            ],
            "type": "heatmapgl"
           }
          ],
          "histogram": [
           {
            "marker": {
             "pattern": {
              "fillmode": "overlay",
              "size": 10,
              "solidity": 0.2
             }
            },
            "type": "histogram"
           }
          ],
          "histogram2d": [
           {
            "colorbar": {
             "outlinewidth": 0,
             "ticks": ""
            },
            "colorscale": [
             [
              0,
              "#0d0887"
             ],
             [
              0.1111111111111111,
              "#46039f"
             ],
             [
              0.2222222222222222,
              "#7201a8"
             ],
             [
              0.3333333333333333,
              "#9c179e"
             ],
             [
              0.4444444444444444,
              "#bd3786"
             ],
             [
              0.5555555555555556,
              "#d8576b"
             ],
             [
              0.6666666666666666,
              "#ed7953"
             ],
             [
              0.7777777777777778,
              "#fb9f3a"
             ],
             [
              0.8888888888888888,
              "#fdca26"
             ],
             [
              1,
              "#f0f921"
             ]
            ],
            "type": "histogram2d"
           }
          ],
          "histogram2dcontour": [
           {
            "colorbar": {
             "outlinewidth": 0,
             "ticks": ""
            },
            "colorscale": [
             [
              0,
              "#0d0887"
             ],
             [
              0.1111111111111111,
              "#46039f"
             ],
             [
              0.2222222222222222,
              "#7201a8"
             ],
             [
              0.3333333333333333,
              "#9c179e"
             ],
             [
              0.4444444444444444,
              "#bd3786"
             ],
             [
              0.5555555555555556,
              "#d8576b"
             ],
             [
              0.6666666666666666,
              "#ed7953"
             ],
             [
              0.7777777777777778,
              "#fb9f3a"
             ],
             [
              0.8888888888888888,
              "#fdca26"
             ],
             [
              1,
              "#f0f921"
             ]
            ],
            "type": "histogram2dcontour"
           }
          ],
          "mesh3d": [
           {
            "colorbar": {
             "outlinewidth": 0,
             "ticks": ""
            },
            "type": "mesh3d"
           }
          ],
          "parcoords": [
           {
            "line": {
             "colorbar": {
              "outlinewidth": 0,
              "ticks": ""
             }
            },
            "type": "parcoords"
           }
          ],
          "pie": [
           {
            "automargin": true,
            "type": "pie"
           }
          ],
          "scatter": [
           {
            "fillpattern": {
             "fillmode": "overlay",
             "size": 10,
             "solidity": 0.2
            },
            "type": "scatter"
           }
          ],
          "scatter3d": [
           {
            "line": {
             "colorbar": {
              "outlinewidth": 0,
              "ticks": ""
             }
            },
            "marker": {
             "colorbar": {
              "outlinewidth": 0,
              "ticks": ""
             }
            },
            "type": "scatter3d"
           }
          ],
          "scattercarpet": [
           {
            "marker": {
             "colorbar": {
              "outlinewidth": 0,
              "ticks": ""
             }
            },
            "type": "scattercarpet"
           }
          ],
          "scattergeo": [
           {
            "marker": {
             "colorbar": {
              "outlinewidth": 0,
              "ticks": ""
             }
            },
            "type": "scattergeo"
           }
          ],
          "scattergl": [
           {
            "marker": {
             "colorbar": {
              "outlinewidth": 0,
              "ticks": ""
             }
            },
            "type": "scattergl"
           }
          ],
          "scattermapbox": [
           {
            "marker": {
             "colorbar": {
              "outlinewidth": 0,
              "ticks": ""
             }
            },
            "type": "scattermapbox"
           }
          ],
          "scatterpolar": [
           {
            "marker": {
             "colorbar": {
              "outlinewidth": 0,
              "ticks": ""
             }
            },
            "type": "scatterpolar"
           }
          ],
          "scatterpolargl": [
           {
            "marker": {
             "colorbar": {
              "outlinewidth": 0,
              "ticks": ""
             }
            },
            "type": "scatterpolargl"
           }
          ],
          "scatterternary": [
           {
            "marker": {
             "colorbar": {
              "outlinewidth": 0,
              "ticks": ""
             }
            },
            "type": "scatterternary"
           }
          ],
          "surface": [
           {
            "colorbar": {
             "outlinewidth": 0,
             "ticks": ""
            },
            "colorscale": [
             [
              0,
              "#0d0887"
             ],
             [
              0.1111111111111111,
              "#46039f"
             ],
             [
              0.2222222222222222,
              "#7201a8"
             ],
             [
              0.3333333333333333,
              "#9c179e"
             ],
             [
              0.4444444444444444,
              "#bd3786"
             ],
             [
              0.5555555555555556,
              "#d8576b"
             ],
             [
              0.6666666666666666,
              "#ed7953"
             ],
             [
              0.7777777777777778,
              "#fb9f3a"
             ],
             [
              0.8888888888888888,
              "#fdca26"
             ],
             [
              1,
              "#f0f921"
             ]
            ],
            "type": "surface"
           }
          ],
          "table": [
           {
            "cells": {
             "fill": {
              "color": "#EBF0F8"
             },
             "line": {
              "color": "white"
             }
            },
            "header": {
             "fill": {
              "color": "#C8D4E3"
             },
             "line": {
              "color": "white"
             }
            },
            "type": "table"
           }
          ]
         },
         "layout": {
          "annotationdefaults": {
           "arrowcolor": "#2a3f5f",
           "arrowhead": 0,
           "arrowwidth": 1
          },
          "autotypenumbers": "strict",
          "coloraxis": {
           "colorbar": {
            "outlinewidth": 0,
            "ticks": ""
           }
          },
          "colorscale": {
           "diverging": [
            [
             0,
             "#8e0152"
            ],
            [
             0.1,
             "#c51b7d"
            ],
            [
             0.2,
             "#de77ae"
            ],
            [
             0.3,
             "#f1b6da"
            ],
            [
             0.4,
             "#fde0ef"
            ],
            [
             0.5,
             "#f7f7f7"
            ],
            [
             0.6,
             "#e6f5d0"
            ],
            [
             0.7,
             "#b8e186"
            ],
            [
             0.8,
             "#7fbc41"
            ],
            [
             0.9,
             "#4d9221"
            ],
            [
             1,
             "#276419"
            ]
           ],
           "sequential": [
            [
             0,
             "#0d0887"
            ],
            [
             0.1111111111111111,
             "#46039f"
            ],
            [
             0.2222222222222222,
             "#7201a8"
            ],
            [
             0.3333333333333333,
             "#9c179e"
            ],
            [
             0.4444444444444444,
             "#bd3786"
            ],
            [
             0.5555555555555556,
             "#d8576b"
            ],
            [
             0.6666666666666666,
             "#ed7953"
            ],
            [
             0.7777777777777778,
             "#fb9f3a"
            ],
            [
             0.8888888888888888,
             "#fdca26"
            ],
            [
             1,
             "#f0f921"
            ]
           ],
           "sequentialminus": [
            [
             0,
             "#0d0887"
            ],
            [
             0.1111111111111111,
             "#46039f"
            ],
            [
             0.2222222222222222,
             "#7201a8"
            ],
            [
             0.3333333333333333,
             "#9c179e"
            ],
            [
             0.4444444444444444,
             "#bd3786"
            ],
            [
             0.5555555555555556,
             "#d8576b"
            ],
            [
             0.6666666666666666,
             "#ed7953"
            ],
            [
             0.7777777777777778,
             "#fb9f3a"
            ],
            [
             0.8888888888888888,
             "#fdca26"
            ],
            [
             1,
             "#f0f921"
            ]
           ]
          },
          "colorway": [
           "#636efa",
           "#EF553B",
           "#00cc96",
           "#ab63fa",
           "#FFA15A",
           "#19d3f3",
           "#FF6692",
           "#B6E880",
           "#FF97FF",
           "#FECB52"
          ],
          "font": {
           "color": "#2a3f5f"
          },
          "geo": {
           "bgcolor": "white",
           "lakecolor": "white",
           "landcolor": "#E5ECF6",
           "showlakes": true,
           "showland": true,
           "subunitcolor": "white"
          },
          "hoverlabel": {
           "align": "left"
          },
          "hovermode": "closest",
          "mapbox": {
           "style": "light"
          },
          "paper_bgcolor": "white",
          "plot_bgcolor": "#E5ECF6",
          "polar": {
           "angularaxis": {
            "gridcolor": "white",
            "linecolor": "white",
            "ticks": ""
           },
           "bgcolor": "#E5ECF6",
           "radialaxis": {
            "gridcolor": "white",
            "linecolor": "white",
            "ticks": ""
           }
          },
          "scene": {
           "xaxis": {
            "backgroundcolor": "#E5ECF6",
            "gridcolor": "white",
            "gridwidth": 2,
            "linecolor": "white",
            "showbackground": true,
            "ticks": "",
            "zerolinecolor": "white"
           },
           "yaxis": {
            "backgroundcolor": "#E5ECF6",
            "gridcolor": "white",
            "gridwidth": 2,
            "linecolor": "white",
            "showbackground": true,
            "ticks": "",
            "zerolinecolor": "white"
           },
           "zaxis": {
            "backgroundcolor": "#E5ECF6",
            "gridcolor": "white",
            "gridwidth": 2,
            "linecolor": "white",
            "showbackground": true,
            "ticks": "",
            "zerolinecolor": "white"
           }
          },
          "shapedefaults": {
           "line": {
            "color": "#2a3f5f"
           }
          },
          "ternary": {
           "aaxis": {
            "gridcolor": "white",
            "linecolor": "white",
            "ticks": ""
           },
           "baxis": {
            "gridcolor": "white",
            "linecolor": "white",
            "ticks": ""
           },
           "bgcolor": "#E5ECF6",
           "caxis": {
            "gridcolor": "white",
            "linecolor": "white",
            "ticks": ""
           }
          },
          "title": {
           "x": 0.05
          },
          "xaxis": {
           "automargin": true,
           "gridcolor": "white",
           "linecolor": "white",
           "ticks": "",
           "title": {
            "standoff": 15
           },
           "zerolinecolor": "white",
           "zerolinewidth": 2
          },
          "yaxis": {
           "automargin": true,
           "gridcolor": "white",
           "linecolor": "white",
           "ticks": "",
           "title": {
            "standoff": 15
           },
           "zerolinecolor": "white",
           "zerolinewidth": 2
          }
         }
        },
        "title": {
         "text": "Confusion Matrix: Logistic Regression After SMOTE and Tuning"
        },
        "xaxis": {
         "dtick": 1,
         "gridcolor": "rgb(0, 0, 0)",
         "side": "top",
         "ticks": "",
         "title": {
          "text": "Predicted Label"
         }
        },
        "yaxis": {
         "dtick": 1,
         "ticks": "",
         "ticksuffix": "  ",
         "title": {
          "text": "True Label"
         }
        }
       }
      },
      "text/html": [
       "<div>                            <div id=\"e5286e7c-8c1f-4b28-889e-79262b5876fa\" class=\"plotly-graph-div\" style=\"height:525px; width:100%;\"></div>            <script type=\"text/javascript\">                require([\"plotly\"], function(Plotly) {                    window.PLOTLYENV=window.PLOTLYENV || {};                                    if (document.getElementById(\"e5286e7c-8c1f-4b28-889e-79262b5876fa\")) {                    Plotly.newPlot(                        \"e5286e7c-8c1f-4b28-889e-79262b5876fa\",                        [{\"colorscale\":[[0.0,\"rgb(255,245,240)\"],[0.125,\"rgb(254,224,210)\"],[0.25,\"rgb(252,187,161)\"],[0.375,\"rgb(252,146,114)\"],[0.5,\"rgb(251,106,74)\"],[0.625,\"rgb(239,59,44)\"],[0.75,\"rgb(203,24,29)\"],[0.875,\"rgb(165,15,21)\"],[1.0,\"rgb(103,0,13)\"]],\"reversescale\":false,\"showscale\":true,\"x\":[\"0\",\"1\",\"2\"],\"y\":[\"0\",\"1\",\"2\"],\"z\":[[226,17,6],[6,3,6],[2,1,16]],\"type\":\"heatmap\"}],                        {\"annotations\":[{\"font\":{\"color\":\"#FFFFFF\"},\"showarrow\":false,\"text\":\"226\",\"x\":\"0\",\"xref\":\"x\",\"y\":\"0\",\"yref\":\"y\"},{\"font\":{\"color\":\"#000000\"},\"showarrow\":false,\"text\":\"17\",\"x\":\"1\",\"xref\":\"x\",\"y\":\"0\",\"yref\":\"y\"},{\"font\":{\"color\":\"#000000\"},\"showarrow\":false,\"text\":\"6\",\"x\":\"2\",\"xref\":\"x\",\"y\":\"0\",\"yref\":\"y\"},{\"font\":{\"color\":\"#000000\"},\"showarrow\":false,\"text\":\"6\",\"x\":\"0\",\"xref\":\"x\",\"y\":\"1\",\"yref\":\"y\"},{\"font\":{\"color\":\"#000000\"},\"showarrow\":false,\"text\":\"3\",\"x\":\"1\",\"xref\":\"x\",\"y\":\"1\",\"yref\":\"y\"},{\"font\":{\"color\":\"#000000\"},\"showarrow\":false,\"text\":\"6\",\"x\":\"2\",\"xref\":\"x\",\"y\":\"1\",\"yref\":\"y\"},{\"font\":{\"color\":\"#000000\"},\"showarrow\":false,\"text\":\"2\",\"x\":\"0\",\"xref\":\"x\",\"y\":\"2\",\"yref\":\"y\"},{\"font\":{\"color\":\"#000000\"},\"showarrow\":false,\"text\":\"1\",\"x\":\"1\",\"xref\":\"x\",\"y\":\"2\",\"yref\":\"y\"},{\"font\":{\"color\":\"#000000\"},\"showarrow\":false,\"text\":\"16\",\"x\":\"2\",\"xref\":\"x\",\"y\":\"2\",\"yref\":\"y\"}],\"xaxis\":{\"dtick\":1,\"gridcolor\":\"rgb(0, 0, 0)\",\"side\":\"top\",\"ticks\":\"\",\"title\":{\"text\":\"Predicted Label\"}},\"yaxis\":{\"dtick\":1,\"ticks\":\"\",\"ticksuffix\":\"  \",\"title\":{\"text\":\"True Label\"}},\"template\":{\"data\":{\"histogram2dcontour\":[{\"type\":\"histogram2dcontour\",\"colorbar\":{\"outlinewidth\":0,\"ticks\":\"\"},\"colorscale\":[[0.0,\"#0d0887\"],[0.1111111111111111,\"#46039f\"],[0.2222222222222222,\"#7201a8\"],[0.3333333333333333,\"#9c179e\"],[0.4444444444444444,\"#bd3786\"],[0.5555555555555556,\"#d8576b\"],[0.6666666666666666,\"#ed7953\"],[0.7777777777777778,\"#fb9f3a\"],[0.8888888888888888,\"#fdca26\"],[1.0,\"#f0f921\"]]}],\"choropleth\":[{\"type\":\"choropleth\",\"colorbar\":{\"outlinewidth\":0,\"ticks\":\"\"}}],\"histogram2d\":[{\"type\":\"histogram2d\",\"colorbar\":{\"outlinewidth\":0,\"ticks\":\"\"},\"colorscale\":[[0.0,\"#0d0887\"],[0.1111111111111111,\"#46039f\"],[0.2222222222222222,\"#7201a8\"],[0.3333333333333333,\"#9c179e\"],[0.4444444444444444,\"#bd3786\"],[0.5555555555555556,\"#d8576b\"],[0.6666666666666666,\"#ed7953\"],[0.7777777777777778,\"#fb9f3a\"],[0.8888888888888888,\"#fdca26\"],[1.0,\"#f0f921\"]]}],\"heatmap\":[{\"type\":\"heatmap\",\"colorbar\":{\"outlinewidth\":0,\"ticks\":\"\"},\"colorscale\":[[0.0,\"#0d0887\"],[0.1111111111111111,\"#46039f\"],[0.2222222222222222,\"#7201a8\"],[0.3333333333333333,\"#9c179e\"],[0.4444444444444444,\"#bd3786\"],[0.5555555555555556,\"#d8576b\"],[0.6666666666666666,\"#ed7953\"],[0.7777777777777778,\"#fb9f3a\"],[0.8888888888888888,\"#fdca26\"],[1.0,\"#f0f921\"]]}],\"heatmapgl\":[{\"type\":\"heatmapgl\",\"colorbar\":{\"outlinewidth\":0,\"ticks\":\"\"},\"colorscale\":[[0.0,\"#0d0887\"],[0.1111111111111111,\"#46039f\"],[0.2222222222222222,\"#7201a8\"],[0.3333333333333333,\"#9c179e\"],[0.4444444444444444,\"#bd3786\"],[0.5555555555555556,\"#d8576b\"],[0.6666666666666666,\"#ed7953\"],[0.7777777777777778,\"#fb9f3a\"],[0.8888888888888888,\"#fdca26\"],[1.0,\"#f0f921\"]]}],\"contourcarpet\":[{\"type\":\"contourcarpet\",\"colorbar\":{\"outlinewidth\":0,\"ticks\":\"\"}}],\"contour\":[{\"type\":\"contour\",\"colorbar\":{\"outlinewidth\":0,\"ticks\":\"\"},\"colorscale\":[[0.0,\"#0d0887\"],[0.1111111111111111,\"#46039f\"],[0.2222222222222222,\"#7201a8\"],[0.3333333333333333,\"#9c179e\"],[0.4444444444444444,\"#bd3786\"],[0.5555555555555556,\"#d8576b\"],[0.6666666666666666,\"#ed7953\"],[0.7777777777777778,\"#fb9f3a\"],[0.8888888888888888,\"#fdca26\"],[1.0,\"#f0f921\"]]}],\"surface\":[{\"type\":\"surface\",\"colorbar\":{\"outlinewidth\":0,\"ticks\":\"\"},\"colorscale\":[[0.0,\"#0d0887\"],[0.1111111111111111,\"#46039f\"],[0.2222222222222222,\"#7201a8\"],[0.3333333333333333,\"#9c179e\"],[0.4444444444444444,\"#bd3786\"],[0.5555555555555556,\"#d8576b\"],[0.6666666666666666,\"#ed7953\"],[0.7777777777777778,\"#fb9f3a\"],[0.8888888888888888,\"#fdca26\"],[1.0,\"#f0f921\"]]}],\"mesh3d\":[{\"type\":\"mesh3d\",\"colorbar\":{\"outlinewidth\":0,\"ticks\":\"\"}}],\"scatter\":[{\"fillpattern\":{\"fillmode\":\"overlay\",\"size\":10,\"solidity\":0.2},\"type\":\"scatter\"}],\"parcoords\":[{\"type\":\"parcoords\",\"line\":{\"colorbar\":{\"outlinewidth\":0,\"ticks\":\"\"}}}],\"scatterpolargl\":[{\"type\":\"scatterpolargl\",\"marker\":{\"colorbar\":{\"outlinewidth\":0,\"ticks\":\"\"}}}],\"bar\":[{\"error_x\":{\"color\":\"#2a3f5f\"},\"error_y\":{\"color\":\"#2a3f5f\"},\"marker\":{\"line\":{\"color\":\"#E5ECF6\",\"width\":0.5},\"pattern\":{\"fillmode\":\"overlay\",\"size\":10,\"solidity\":0.2}},\"type\":\"bar\"}],\"scattergeo\":[{\"type\":\"scattergeo\",\"marker\":{\"colorbar\":{\"outlinewidth\":0,\"ticks\":\"\"}}}],\"scatterpolar\":[{\"type\":\"scatterpolar\",\"marker\":{\"colorbar\":{\"outlinewidth\":0,\"ticks\":\"\"}}}],\"histogram\":[{\"marker\":{\"pattern\":{\"fillmode\":\"overlay\",\"size\":10,\"solidity\":0.2}},\"type\":\"histogram\"}],\"scattergl\":[{\"type\":\"scattergl\",\"marker\":{\"colorbar\":{\"outlinewidth\":0,\"ticks\":\"\"}}}],\"scatter3d\":[{\"type\":\"scatter3d\",\"line\":{\"colorbar\":{\"outlinewidth\":0,\"ticks\":\"\"}},\"marker\":{\"colorbar\":{\"outlinewidth\":0,\"ticks\":\"\"}}}],\"scattermapbox\":[{\"type\":\"scattermapbox\",\"marker\":{\"colorbar\":{\"outlinewidth\":0,\"ticks\":\"\"}}}],\"scatterternary\":[{\"type\":\"scatterternary\",\"marker\":{\"colorbar\":{\"outlinewidth\":0,\"ticks\":\"\"}}}],\"scattercarpet\":[{\"type\":\"scattercarpet\",\"marker\":{\"colorbar\":{\"outlinewidth\":0,\"ticks\":\"\"}}}],\"carpet\":[{\"aaxis\":{\"endlinecolor\":\"#2a3f5f\",\"gridcolor\":\"white\",\"linecolor\":\"white\",\"minorgridcolor\":\"white\",\"startlinecolor\":\"#2a3f5f\"},\"baxis\":{\"endlinecolor\":\"#2a3f5f\",\"gridcolor\":\"white\",\"linecolor\":\"white\",\"minorgridcolor\":\"white\",\"startlinecolor\":\"#2a3f5f\"},\"type\":\"carpet\"}],\"table\":[{\"cells\":{\"fill\":{\"color\":\"#EBF0F8\"},\"line\":{\"color\":\"white\"}},\"header\":{\"fill\":{\"color\":\"#C8D4E3\"},\"line\":{\"color\":\"white\"}},\"type\":\"table\"}],\"barpolar\":[{\"marker\":{\"line\":{\"color\":\"#E5ECF6\",\"width\":0.5},\"pattern\":{\"fillmode\":\"overlay\",\"size\":10,\"solidity\":0.2}},\"type\":\"barpolar\"}],\"pie\":[{\"automargin\":true,\"type\":\"pie\"}]},\"layout\":{\"autotypenumbers\":\"strict\",\"colorway\":[\"#636efa\",\"#EF553B\",\"#00cc96\",\"#ab63fa\",\"#FFA15A\",\"#19d3f3\",\"#FF6692\",\"#B6E880\",\"#FF97FF\",\"#FECB52\"],\"font\":{\"color\":\"#2a3f5f\"},\"hovermode\":\"closest\",\"hoverlabel\":{\"align\":\"left\"},\"paper_bgcolor\":\"white\",\"plot_bgcolor\":\"#E5ECF6\",\"polar\":{\"bgcolor\":\"#E5ECF6\",\"angularaxis\":{\"gridcolor\":\"white\",\"linecolor\":\"white\",\"ticks\":\"\"},\"radialaxis\":{\"gridcolor\":\"white\",\"linecolor\":\"white\",\"ticks\":\"\"}},\"ternary\":{\"bgcolor\":\"#E5ECF6\",\"aaxis\":{\"gridcolor\":\"white\",\"linecolor\":\"white\",\"ticks\":\"\"},\"baxis\":{\"gridcolor\":\"white\",\"linecolor\":\"white\",\"ticks\":\"\"},\"caxis\":{\"gridcolor\":\"white\",\"linecolor\":\"white\",\"ticks\":\"\"}},\"coloraxis\":{\"colorbar\":{\"outlinewidth\":0,\"ticks\":\"\"}},\"colorscale\":{\"sequential\":[[0.0,\"#0d0887\"],[0.1111111111111111,\"#46039f\"],[0.2222222222222222,\"#7201a8\"],[0.3333333333333333,\"#9c179e\"],[0.4444444444444444,\"#bd3786\"],[0.5555555555555556,\"#d8576b\"],[0.6666666666666666,\"#ed7953\"],[0.7777777777777778,\"#fb9f3a\"],[0.8888888888888888,\"#fdca26\"],[1.0,\"#f0f921\"]],\"sequentialminus\":[[0.0,\"#0d0887\"],[0.1111111111111111,\"#46039f\"],[0.2222222222222222,\"#7201a8\"],[0.3333333333333333,\"#9c179e\"],[0.4444444444444444,\"#bd3786\"],[0.5555555555555556,\"#d8576b\"],[0.6666666666666666,\"#ed7953\"],[0.7777777777777778,\"#fb9f3a\"],[0.8888888888888888,\"#fdca26\"],[1.0,\"#f0f921\"]],\"diverging\":[[0,\"#8e0152\"],[0.1,\"#c51b7d\"],[0.2,\"#de77ae\"],[0.3,\"#f1b6da\"],[0.4,\"#fde0ef\"],[0.5,\"#f7f7f7\"],[0.6,\"#e6f5d0\"],[0.7,\"#b8e186\"],[0.8,\"#7fbc41\"],[0.9,\"#4d9221\"],[1,\"#276419\"]]},\"xaxis\":{\"gridcolor\":\"white\",\"linecolor\":\"white\",\"ticks\":\"\",\"title\":{\"standoff\":15},\"zerolinecolor\":\"white\",\"automargin\":true,\"zerolinewidth\":2},\"yaxis\":{\"gridcolor\":\"white\",\"linecolor\":\"white\",\"ticks\":\"\",\"title\":{\"standoff\":15},\"zerolinecolor\":\"white\",\"automargin\":true,\"zerolinewidth\":2},\"scene\":{\"xaxis\":{\"backgroundcolor\":\"#E5ECF6\",\"gridcolor\":\"white\",\"linecolor\":\"white\",\"showbackground\":true,\"ticks\":\"\",\"zerolinecolor\":\"white\",\"gridwidth\":2},\"yaxis\":{\"backgroundcolor\":\"#E5ECF6\",\"gridcolor\":\"white\",\"linecolor\":\"white\",\"showbackground\":true,\"ticks\":\"\",\"zerolinecolor\":\"white\",\"gridwidth\":2},\"zaxis\":{\"backgroundcolor\":\"#E5ECF6\",\"gridcolor\":\"white\",\"linecolor\":\"white\",\"showbackground\":true,\"ticks\":\"\",\"zerolinecolor\":\"white\",\"gridwidth\":2}},\"shapedefaults\":{\"line\":{\"color\":\"#2a3f5f\"}},\"annotationdefaults\":{\"arrowcolor\":\"#2a3f5f\",\"arrowhead\":0,\"arrowwidth\":1},\"geo\":{\"bgcolor\":\"white\",\"landcolor\":\"#E5ECF6\",\"subunitcolor\":\"white\",\"showland\":true,\"showlakes\":true,\"lakecolor\":\"white\"},\"title\":{\"x\":0.05},\"mapbox\":{\"style\":\"light\"}}},\"title\":{\"text\":\"Confusion Matrix: Logistic Regression After SMOTE and Tuning\"}},                        {\"responsive\": true}                    ).then(function(){\n",
       "                            \n",
       "var gd = document.getElementById('e5286e7c-8c1f-4b28-889e-79262b5876fa');\n",
       "var x = new MutationObserver(function (mutations, observer) {{\n",
       "        var display = window.getComputedStyle(gd).display;\n",
       "        if (!display || display === 'none') {{\n",
       "            console.log([gd, 'removed!']);\n",
       "            Plotly.purge(gd);\n",
       "            observer.disconnect();\n",
       "        }}\n",
       "}});\n",
       "\n",
       "// Listen for the removal of the full notebook cells\n",
       "var notebookContainer = gd.closest('#notebook-container');\n",
       "if (notebookContainer) {{\n",
       "    x.observe(notebookContainer, {childList: true});\n",
       "}}\n",
       "\n",
       "// Listen for the clearing of the current output cell\n",
       "var outputEl = gd.closest('.output');\n",
       "if (outputEl) {{\n",
       "    x.observe(outputEl, {childList: true});\n",
       "}}\n",
       "\n",
       "                        })                };                });            </script>        </div>"
      ]
     },
     "metadata": {},
     "output_type": "display_data"
    }
   ],
   "source": [
    "import plotly.figure_factory as ff\n",
    "from sklearn.metrics import confusion_matrix\n",
    "\n",
    "# Ensure predictions are available\n",
    "y_pred_tuned = best_model.predict(X_test_behavioral)\n",
    "\n",
    "# Recreate the confusion matrix\n",
    "conf_matrix_tuned = confusion_matrix(y_test_behavioral, y_pred_tuned)\n",
    "\n",
    "# Define class labels explicitly as a list\n",
    "class_labels = list(map(str, y_behavioral.unique()))  # Convert class labels to strings\n",
    "\n",
    "# Create a confusion matrix heatmap using Plotly\n",
    "conf_matrix_fig = ff.create_annotated_heatmap(\n",
    "    z=conf_matrix_tuned,\n",
    "    x=class_labels,  # Predicted labels\n",
    "    y=class_labels,  # True labels\n",
    "    annotation_text=conf_matrix_tuned.astype(str),\n",
    "    colorscale='Reds',\n",
    "    showscale=True\n",
    ")\n",
    "\n",
    "# Add titles and axis labels\n",
    "conf_matrix_fig.update_layout(\n",
    "    title=\"Confusion Matrix: Logistic Regression After SMOTE and Tuning\",\n",
    "    xaxis_title=\"Predicted Label\",\n",
    "    yaxis_title=\"True Label\"\n",
    ")\n",
    "\n",
    "# Show the plot\n",
    "conf_matrix_fig.show()\n"
   ]
  },
  {
   "cell_type": "markdown",
   "id": "70b20179",
   "metadata": {},
   "source": [
    "#### Key Insights:"
   ]
  },
  {
   "cell_type": "markdown",
   "id": "30e0b1ff",
   "metadata": {},
   "source": [
    "* Class 0 (expected difficulty category) performed well with a precision of 0.97, recall of 0.91, and an F1-score of 0.94, indicating high performance and fewer false positives.\n",
    "\n",
    "* Class 1 (borderline difficulty category) performed poorly, with precision, recall, and F1-score all very low (0.14, 0.20, and 0.17, respectively). This suggests that the model struggles to identify this class accurately, which could be due to class imbalance or insufficient representation in the training data.\n",
    "\n",
    "* Class 2 (significant difficulty category) exhibited moderate performance with a precision of 0.57, recall of 0.84, and an F1-score of 0.68. While the model has a relatively high recall for this class, the precision is lower, indicating a trade-off between false positives and false negatives.\n"
   ]
  },
  {
   "cell_type": "markdown",
   "id": "ea723501",
   "metadata": {},
   "source": [
    "### Model 2: Random Forest"
   ]
  },
  {
   "cell_type": "code",
   "execution_count": 137,
   "id": "2fa43241",
   "metadata": {
    "scrolled": true
   },
   "outputs": [
    {
     "name": "stdout",
     "output_type": "stream",
     "text": [
      "\n",
      "Random Forest Model Performance:\n",
      "\n",
      "1. Accuracy: 0.93\n",
      "2. Classification Report:\n",
      "              precision    recall  f1-score   support\n",
      "\n",
      "           0       0.95      0.99      0.97       249\n",
      "           1       0.25      0.07      0.11        15\n",
      "           2       0.76      0.84      0.80        19\n",
      "\n",
      "    accuracy                           0.93       283\n",
      "   macro avg       0.66      0.63      0.63       283\n",
      "weighted avg       0.90      0.93      0.91       283\n",
      "\n",
      "\n"
     ]
    }
   ],
   "source": [
    "from sklearn.ensemble import RandomForestClassifier\n",
    "from sklearn.metrics import classification_report, accuracy_score\n",
    "\n",
    "# Initialize the Random Forest model\n",
    "random_forest_model = RandomForestClassifier(\n",
    "    random_state=42, \n",
    "    n_estimators=100, \n",
    "    max_depth=None, \n",
    "    class_weight=\"balanced\"\n",
    ")\n",
    "\n",
    "# Train the model on the SMOTE-balanced training data\n",
    "random_forest_model.fit(X_train_balanced, y_train_balanced)\n",
    "\n",
    "# Predict on the test set\n",
    "y_pred_rf = random_forest_model.predict(X_test_behavioral)\n",
    "\n",
    "# Evaluate the model\n",
    "rf_accuracy = accuracy_score(y_test_behavioral, y_pred_rf)\n",
    "rf_classification_report = classification_report(y_test_behavioral, y_pred_rf)\n",
    "\n",
    "# Summarize results\n",
    "rf_model_performance = f\"\"\"\n",
    "Random Forest Model Performance:\n",
    "\n",
    "1. Accuracy: {rf_accuracy:.2f}\n",
    "2. Classification Report:\n",
    "{rf_classification_report}\n",
    "\"\"\"\n",
    "\n",
    "# Print key results\n",
    "print(rf_model_performance)"
   ]
  },
  {
   "cell_type": "markdown",
   "id": "0769870f",
   "metadata": {},
   "source": [
    "* Model is not effiecient"
   ]
  },
  {
   "cell_type": "markdown",
   "id": "d0a9d9bb",
   "metadata": {},
   "source": [
    "#### Feature selection using the Random Forest"
   ]
  },
  {
   "cell_type": "code",
   "execution_count": 138,
   "id": "10761a26",
   "metadata": {
    "scrolled": false
   },
   "outputs": [
    {
     "name": "stdout",
     "output_type": "stream",
     "text": [
      "                                              Feature  Importance\n",
      "46  24. Remember, there are no right or wrong answ...    0.095289\n",
      "44  24. Remember, there are no right or wrong answ...    0.065089\n",
      "45  24. Remember, there are no right or wrong answ...    0.056567\n",
      "49  24. Remember, there are no right or wrong answ...    0.050649\n",
      "29                                        Your School    0.049411\n",
      "43  24. Remember, there are no right or wrong answ...    0.046530\n",
      "47  24. Remember, there are no right or wrong answ...    0.038702\n",
      "21            19. What type of places do you play in?    0.032445\n",
      "5        1. What did you eat for breakfast YESTERDAY?    0.030031\n",
      "30                                        Your Family    0.025747\n",
      "33                                          Your Life    0.025096\n",
      "32                     Your Appearance (how you look)    0.024984\n",
      "11  9. In the last 7 days, how many days did you f...    0.024016\n",
      "52                      hours of sleep had last night    0.023311\n",
      "42  24. Remember, there are no right or wrong answ...    0.021957\n",
      "37  24. Remember, there are no right or wrong answ...    0.020694\n",
      "19       17. How often do you go out to play outside?    0.019339\n",
      "31                                       Your Friends    0.019180\n",
      "24  22. Tell us if you agree or disagree with the ...    0.017201\n",
      "26  22. Tell us if you agree or disagree with the ...    0.016304\n",
      "13  11. In the last 7 days, how many days did you ...    0.015325\n",
      "4                                              Gender    0.015104\n",
      "15  13. On a scale of 0 to 10 (0 being not very sa...    0.014827\n",
      "7   3. How many times did you brush your teeth YES...    0.014784\n",
      "27  22. Tell us if you agree or disagree with the ...    0.014167\n",
      "28                                       Your Health     0.013503\n",
      "12  10. In the last 7 days, how many days did you ...    0.013402\n",
      "22  20. Can you play in all the places you would l...    0.013114\n",
      "8   6. In the last 7 days, how many days did you d...    0.012952\n",
      "25  22. Tell us if you agree or disagree with the ...    0.012478\n",
      "2   How many people live in your home with you (in...    0.011709\n",
      "9   7. In the last 7 days, how many days did you w...    0.011176\n",
      "3                           What year are you in now?    0.011015\n",
      "41  24. Remember, there are no right or wrong answ...    0.010619\n",
      "48  24. Remember, there are no right or wrong answ...    0.009802\n",
      "6   2. Did you eat any fruit and vegetables YESTER...    0.009504\n",
      "39  24. Remember, there are no right or wrong answ...    0.009209\n",
      "10  8. In the last 7 days, how many days did you f...    0.008941\n",
      "20              18. Do you have enough time for play?    0.008746\n",
      "51  26. Are you able to keep in touch with your fr...    0.008466\n",
      "38  24. Remember, there are no right or wrong answ...    0.006322\n",
      "1   Do you have any other children living in your ...    0.006300\n",
      "23  21. Do you have somewhere at home where you ha...    0.006240\n",
      "40  24. Remember, there are no right or wrong answ...    0.005835\n",
      "36  24. Remember, there are no right or wrong answ...    0.005678\n",
      "14  12. In the last 7 days, how many days did you ...    0.005352\n",
      "35  24. Remember, there are no right or wrong answ...    0.004978\n",
      "34  24. Remember, there are no right or wrong answ...    0.004460\n",
      "17  15. From your house, can you easily walk to so...    0.003666\n",
      "0                      Are you still going to school?    0.002906\n",
      "16  14. From your house, can you easily walk to a ...    0.002846\n",
      "50  25. Are you able to keep in touch with your fa...    0.002329\n",
      "18                          16. Do you have a garden?    0.001703\n"
     ]
    }
   ],
   "source": [
    "# Perform feature selection using the feature importance from the Random Forest model\n",
    "import pandas as pd\n",
    "\n",
    "# Extract feature importances from the trained Random Forest model\n",
    "feature_importances = random_forest_model.feature_importances_\n",
    "\n",
    "# Create a DataFrame to store feature importance values\n",
    "feature_importance_df = pd.DataFrame({\n",
    "    'Feature': X_train_balanced.columns,\n",
    "    'Importance': feature_importances\n",
    "})\n",
    "\n",
    "# Sort features by importance in descending order\n",
    "feature_importance_df = feature_importance_df.sort_values(by='Importance', ascending=False)\n",
    "\n",
    "\n",
    "# Print the top features for review\n",
    "print(feature_importance_df)"
   ]
  },
  {
   "cell_type": "markdown",
   "id": "b50a24f6",
   "metadata": {},
   "source": [
    "### Feature importance using SHAP"
   ]
  },
  {
   "cell_type": "code",
   "execution_count": 139,
   "id": "93ff1e6b",
   "metadata": {},
   "outputs": [
    {
     "name": "stderr",
     "output_type": "stream",
     "text": [
      "C:\\Users\\srika\\anaconda3\\lib\\site-packages\\shap\\plots\\_beeswarm.py:960: UserWarning:\n",
      "\n",
      "Tight layout not applied. The left and right margins cannot be made large enough to accommodate all axes decorations. \n",
      "\n"
     ]
    },
    {
     "data": {
      "image/png": "[encoded data removed]",
      "text/plain": [
       "<Figure size 576x684 with 1 Axes>"
      ]
     },
     "metadata": {
      "needs_background": "light"
     },
     "output_type": "display_data"
    },
    {
     "data": {
      "image/png": "[encoded data removed]",
      "text/plain": [
       "<Figure size 576x684 with 2 Axes>"
      ]
     },
     "metadata": {
      "needs_background": "light"
     },
     "output_type": "display_data"
    }
   ],
   "source": [
    "import shap\n",
    "import matplotlib.pyplot as plt\n",
    "\n",
    "# Ensure the test data is in the correct format (pandas DataFrame)\n",
    "X_test_behavioral = pd.DataFrame(X_test_behavioral, columns=X_train_balanced.columns)\n",
    "\n",
    "# Initialize the SHAP explainer for the Random Forest model\n",
    "shap_explainer = shap.TreeExplainer(random_forest_model)\n",
    "\n",
    "# Compute SHAP values for the test dataset\n",
    "shap_values = shap_explainer.shap_values(X_test_behavioral)\n",
    "\n",
    "# Visualize feature importance using SHAP summary plot (Bar)\n",
    "shap.summary_plot(shap_values[1], X_test_behavioral, plot_type=\"bar\")  # SHAP values for Class 1\n",
    "\n",
    "# Visualize individual feature contributions using SHAP\n",
    "shap.summary_plot(shap_values[1], X_test_behavioral)  # SHAP values for Class 1\n"
   ]
  },
  {
   "cell_type": "markdown",
   "id": "14bb0338",
   "metadata": {},
   "source": [
    "### Feature Selection by Feature importance score"
   ]
  },
  {
   "cell_type": "code",
   "execution_count": 140,
   "id": "f77612ba",
   "metadata": {},
   "outputs": [],
   "source": [
    "# Determine cumulative importance\n",
    "feature_importance_df['Cumulative Importance'] = feature_importance_df['Importance'].cumsum()\n",
    "\n",
    "# Select features contributing to 95% cumulative importance\n",
    "selected_features_95 = feature_importance_df[feature_importance_df['Cumulative Importance'] <= 0.95]['Feature']\n",
    "\n",
    "# Alternatively, select features with importance >= 0.01\n",
    "selected_features_threshold_01 = feature_importance_df[feature_importance_df['Importance'] >= 0.01]['Feature']\n"
   ]
  },
  {
   "cell_type": "code",
   "execution_count": 141,
   "id": "e6107c19",
   "metadata": {
    "scrolled": false
   },
   "outputs": [
    {
     "data": {
      "text/plain": [
       "46    24. Remember, there are no right or wrong answ...\n",
       "44    24. Remember, there are no right or wrong answ...\n",
       "45    24. Remember, there are no right or wrong answ...\n",
       "49    24. Remember, there are no right or wrong answ...\n",
       "29                                          Your School\n",
       "43    24. Remember, there are no right or wrong answ...\n",
       "47    24. Remember, there are no right or wrong answ...\n",
       "21              19. What type of places do you play in?\n",
       "5          1. What did you eat for breakfast YESTERDAY?\n",
       "30                                          Your Family\n",
       "33                                            Your Life\n",
       "32                       Your Appearance (how you look)\n",
       "11    9. In the last 7 days, how many days did you f...\n",
       "52                        hours of sleep had last night\n",
       "42    24. Remember, there are no right or wrong answ...\n",
       "37    24. Remember, there are no right or wrong answ...\n",
       "19         17. How often do you go out to play outside?\n",
       "31                                         Your Friends\n",
       "24    22. Tell us if you agree or disagree with the ...\n",
       "26    22. Tell us if you agree or disagree with the ...\n",
       "13    11. In the last 7 days, how many days did you ...\n",
       "4                                                Gender\n",
       "15    13. On a scale of 0 to 10 (0 being not very sa...\n",
       "7     3. How many times did you brush your teeth YES...\n",
       "27    22. Tell us if you agree or disagree with the ...\n",
       "28                                         Your Health \n",
       "12    10. In the last 7 days, how many days did you ...\n",
       "22    20. Can you play in all the places you would l...\n",
       "8     6. In the last 7 days, how many days did you d...\n",
       "25    22. Tell us if you agree or disagree with the ...\n",
       "2     How many people live in your home with you (in...\n",
       "9     7. In the last 7 days, how many days did you w...\n",
       "3                             What year are you in now?\n",
       "41    24. Remember, there are no right or wrong answ...\n",
       "48    24. Remember, there are no right or wrong answ...\n",
       "6     2. Did you eat any fruit and vegetables YESTER...\n",
       "39    24. Remember, there are no right or wrong answ...\n",
       "10    8. In the last 7 days, how many days did you f...\n",
       "20                18. Do you have enough time for play?\n",
       "51    26. Are you able to keep in touch with your fr...\n",
       "38    24. Remember, there are no right or wrong answ...\n",
       "Name: Feature, dtype: object"
      ]
     },
     "execution_count": 141,
     "metadata": {},
     "output_type": "execute_result"
    }
   ],
   "source": [
    "selected_features_95"
   ]
  },
  {
   "cell_type": "code",
   "execution_count": 142,
   "id": "7f4944ee",
   "metadata": {},
   "outputs": [
    {
     "data": {
      "text/plain": [
       "46    24. Remember, there are no right or wrong answ...\n",
       "44    24. Remember, there are no right or wrong answ...\n",
       "45    24. Remember, there are no right or wrong answ...\n",
       "49    24. Remember, there are no right or wrong answ...\n",
       "29                                          Your School\n",
       "43    24. Remember, there are no right or wrong answ...\n",
       "47    24. Remember, there are no right or wrong answ...\n",
       "21              19. What type of places do you play in?\n",
       "5          1. What did you eat for breakfast YESTERDAY?\n",
       "30                                          Your Family\n",
       "33                                            Your Life\n",
       "32                       Your Appearance (how you look)\n",
       "11    9. In the last 7 days, how many days did you f...\n",
       "52                        hours of sleep had last night\n",
       "42    24. Remember, there are no right or wrong answ...\n",
       "37    24. Remember, there are no right or wrong answ...\n",
       "19         17. How often do you go out to play outside?\n",
       "31                                         Your Friends\n",
       "24    22. Tell us if you agree or disagree with the ...\n",
       "26    22. Tell us if you agree or disagree with the ...\n",
       "13    11. In the last 7 days, how many days did you ...\n",
       "4                                                Gender\n",
       "15    13. On a scale of 0 to 10 (0 being not very sa...\n",
       "7     3. How many times did you brush your teeth YES...\n",
       "27    22. Tell us if you agree or disagree with the ...\n",
       "28                                         Your Health \n",
       "12    10. In the last 7 days, how many days did you ...\n",
       "22    20. Can you play in all the places you would l...\n",
       "8     6. In the last 7 days, how many days did you d...\n",
       "25    22. Tell us if you agree or disagree with the ...\n",
       "2     How many people live in your home with you (in...\n",
       "9     7. In the last 7 days, how many days did you w...\n",
       "3                             What year are you in now?\n",
       "41    24. Remember, there are no right or wrong answ...\n",
       "Name: Feature, dtype: object"
      ]
     },
     "execution_count": 142,
     "metadata": {},
     "output_type": "execute_result"
    }
   ],
   "source": [
    "selected_features_threshold_01"
   ]
  },
  {
   "cell_type": "markdown",
   "id": "89ca10f2",
   "metadata": {},
   "source": [
    "#### Model 3: Random Forest (Top 10 features by Feature importance score)"
   ]
  },
  {
   "cell_type": "code",
   "execution_count": 143,
   "id": "7ef5f1da",
   "metadata": {},
   "outputs": [
    {
     "name": "stdout",
     "output_type": "stream",
     "text": [
      "\n",
      "Random Forest Model Performance (Top 10 Features):\n",
      "\n",
      "1. Accuracy: 0.88\n",
      "2. Classification Report:\n",
      "              precision    recall  f1-score   support\n",
      "\n",
      "           0       0.98      0.92      0.95       249\n",
      "           1       0.16      0.27      0.20        15\n",
      "           2       0.68      0.89      0.77        19\n",
      "\n",
      "    accuracy                           0.88       283\n",
      "   macro avg       0.61      0.69      0.64       283\n",
      "weighted avg       0.92      0.88      0.89       283\n",
      "\n",
      "\n"
     ]
    }
   ],
   "source": [
    "# Select the top 10 features based on feature importance\n",
    "top_10_features = feature_importance_df.head(10)['Feature'].tolist()\n",
    "\n",
    "# Subset the training and testing datasets to include only the top 10 features\n",
    "X_train_top_10 = X_train_balanced[top_10_features]\n",
    "X_test_top_10 = X_test_behavioral[top_10_features]\n",
    "\n",
    "# Train a new Random Forest model using only the top 10 features\n",
    "rf_top_10_model = RandomForestClassifier(\n",
    "    random_state=42, \n",
    "    n_estimators=100, \n",
    "    max_depth=None, \n",
    "    class_weight=\"balanced\"\n",
    ")\n",
    "rf_top_10_model.fit(X_train_top_10, y_train_balanced)\n",
    "\n",
    "# Predict on the test set using the new model\n",
    "y_pred_top_10 = rf_top_10_model.predict(X_test_top_10)\n",
    "\n",
    "# Evaluate the new model\n",
    "from sklearn.metrics import classification_report, accuracy_score\n",
    "\n",
    "top_10_accuracy = accuracy_score(y_test_behavioral, y_pred_top_10)\n",
    "top_10_classification_report = classification_report(y_test_behavioral, y_pred_top_10)\n",
    "\n",
    "# Display the results\n",
    "top_10_model_performance = f\"\"\"\n",
    "Random Forest Model Performance (Top 10 Features):\n",
    "\n",
    "1. Accuracy: {top_10_accuracy:.2f}\n",
    "2. Classification Report:\n",
    "{top_10_classification_report}\n",
    "\"\"\"\n",
    "\n",
    "# Print key results\n",
    "print(top_10_model_performance)"
   ]
  },
  {
   "cell_type": "markdown",
   "id": "4a255456",
   "metadata": {},
   "source": [
    "#### Random Forest - Optimization using hyperparameter tuning"
   ]
  },
  {
   "cell_type": "code",
   "execution_count": 144,
   "id": "b1bc5cfc",
   "metadata": {
    "scrolled": false
   },
   "outputs": [
    {
     "name": "stdout",
     "output_type": "stream",
     "text": [
      "Fitting 5 folds for each of 216 candidates, totalling 1080 fits\n",
      "\n",
      "Random Forest Hyperparameter Tuning Results:\n",
      "\n",
      "Best Hyperparameters: {'class_weight': 'balanced_subsample', 'max_depth': None, 'min_samples_leaf': 1, 'min_samples_split': 2, 'n_estimators': 200}\n",
      "Tuned Model Accuracy: 0.88\n",
      "Classification Report:\n",
      "              precision    recall  f1-score   support\n",
      "\n",
      "           0       0.97      0.91      0.94       249\n",
      "           1       0.16      0.27      0.20        15\n",
      "           2       0.71      0.89      0.79        19\n",
      "\n",
      "    accuracy                           0.88       283\n",
      "   macro avg       0.61      0.69      0.64       283\n",
      "weighted avg       0.91      0.88      0.89       283\n",
      "\n",
      "\n"
     ]
    }
   ],
   "source": [
    "from sklearn.ensemble import RandomForestClassifier\n",
    "from sklearn.model_selection import GridSearchCV\n",
    "from sklearn.metrics import classification_report, accuracy_score\n",
    "\n",
    "# Define the hyperparameter grid for Random Forest\n",
    "param_grid_rf = {\n",
    "    'n_estimators': [100, 200, 300],  # Number of trees in the forest\n",
    "    'max_depth': [None, 10, 20, 30],  # Maximum depth of each tree\n",
    "    'min_samples_split': [2, 5, 10],  # Minimum number of samples required to split a node\n",
    "    'min_samples_leaf': [1, 2, 4],  # Minimum number of samples required at a leaf node\n",
    "    'class_weight': ['balanced', 'balanced_subsample']  # Class balancing strategies\n",
    "}\n",
    "\n",
    "# Initialize the Random Forest model\n",
    "rf_model = RandomForestClassifier(random_state=42)\n",
    "\n",
    "# Set up GridSearchCV for hyperparameter tuning with cross-validation\n",
    "grid_search_rf = GridSearchCV(\n",
    "    estimator=rf_model,\n",
    "    param_grid=param_grid_rf,\n",
    "    scoring='f1_weighted',  # Optimize for F1 score (weighted for multiclass)\n",
    "    cv=5,  # 5-fold cross-validation\n",
    "    verbose=1,\n",
    "    n_jobs=-1\n",
    ")\n",
    "\n",
    "# Perform the grid search on the SMOTE-balanced training data with top 10 features\n",
    "grid_search_rf.fit(X_train_top_10, y_train_balanced)\n",
    "\n",
    "# Retrieve the best model and its parameters\n",
    "best_rf_model = grid_search_rf.best_estimator_\n",
    "best_rf_params = grid_search_rf.best_params_\n",
    "\n",
    "# Predict on the test set with the best model\n",
    "y_pred_rf_tuned = best_rf_model.predict(X_test_top_10)\n",
    "\n",
    "# Evaluate the tuned Random Forest model\n",
    "tuned_rf_accuracy = accuracy_score(y_test_behavioral, y_pred_rf_tuned)\n",
    "tuned_rf_classification_report = classification_report(y_test_behavioral, y_pred_rf_tuned)\n",
    "\n",
    "# Summarize the results\n",
    "rf_tuning_results = f\"\"\"\n",
    "Random Forest Hyperparameter Tuning Results:\n",
    "\n",
    "Best Hyperparameters: {best_rf_params}\n",
    "Tuned Model Accuracy: {tuned_rf_accuracy:.2f}\n",
    "Classification Report:\n",
    "{tuned_rf_classification_report}\n",
    "\"\"\"\n",
    "\n",
    "# Print key results\n",
    "print(rf_tuning_results)"
   ]
  },
  {
   "cell_type": "markdown",
   "id": "22dd9679",
   "metadata": {},
   "source": [
    "#### Model performance"
   ]
  },
  {
   "cell_type": "markdown",
   "id": "01f1f178",
   "metadata": {},
   "source": [
    "* The model achieved an overall accuracy of 88%, meaning it correctly classified 88% of the instances in the dataset. This is a strong result, indicating that the Random Forest classifier performed well in identifying the correct classes.\n",
    "\n",
    "* Class 0 (expected difficulty category) performed exceptionally well with a precision of 0.97, recall of 0.91, and an F1-score of 0.94, indicating that the model is able to correctly identify most of the instances of this class and minimize false positives.\n",
    "\n",
    "* Class 1 (borderline difficulty category) showed weak performance, with precision, recall, and F1-score values of 0.16, 0.27, and 0.20, respectively. This suggests the model is struggling to correctly identify this minority class, likely due to its underrepresentation in the data.\n",
    "\n",
    "* Class 2 (significant difficulty category) showed better results compared to Class 1, with precision of 0.71, recall of 0.89, and an F1-score of 0.79. While the model has a high recall for this class, the precision is lower, indicating some trade-offs between false positives and false negatives."
   ]
  },
  {
   "cell_type": "markdown",
   "id": "50337661",
   "metadata": {},
   "source": [
    "### Model 3: XGBoost"
   ]
  },
  {
   "cell_type": "code",
   "execution_count": 151,
   "id": "21c19f44",
   "metadata": {},
   "outputs": [],
   "source": [
    "# Convert feature names to strings\n",
    "X_train_top_10.columns = X_train_top_10.columns.astype(str)\n",
    "X_test_top_10.columns = X_test_top_10.columns.astype(str)\n"
   ]
  },
  {
   "cell_type": "code",
   "execution_count": 152,
   "id": "f799779a",
   "metadata": {},
   "outputs": [],
   "source": [
    "# Replace invalid characters in feature names\n",
    "X_train_top_10.columns = X_train_top_10.columns.str.replace('[', '', regex=True).str.replace(']', '', regex=True).str.replace('<', '', regex=True)\n",
    "X_test_top_10.columns = X_test_top_10.columns.str.replace('[', '', regex=True).str.replace(']', '', regex=True).str.replace('<', '', regex=True)"
   ]
  },
  {
   "cell_type": "code",
   "execution_count": 153,
   "id": "ae7c3c60",
   "metadata": {},
   "outputs": [
    {
     "name": "stdout",
     "output_type": "stream",
     "text": [
      "Accuracy: 0.89\n",
      "Confusion Matrix:\n",
      "[[232  15   2]\n",
      " [  7   5   3]\n",
      " [  2   2  15]]\n",
      "Classification Report:\n",
      "              precision    recall  f1-score   support\n",
      "\n",
      "           0       0.96      0.93      0.95       249\n",
      "           1       0.23      0.33      0.27        15\n",
      "           2       0.75      0.79      0.77        19\n",
      "\n",
      "    accuracy                           0.89       283\n",
      "   macro avg       0.65      0.68      0.66       283\n",
      "weighted avg       0.91      0.89      0.90       283\n",
      "\n"
     ]
    },
    {
     "name": "stderr",
     "output_type": "stream",
     "text": [
      "C:\\Users\\srika\\anaconda3\\lib\\site-packages\\xgboost\\data.py:112: UserWarning:\n",
      "\n",
      "Use subset (sliced data) of np.ndarray is not recommended because it will generate extra copies and increase memory consumption\n",
      "\n"
     ]
    }
   ],
   "source": [
    "# Train the XGBoost model\n",
    "xgb_top_10_model.fit(X_train_top_10, y_train_balanced)\n",
    "\n",
    "# Make predictions\n",
    "y_pred_xgb_top_10 = xgb_top_10_model.predict(X_test_top_10)\n",
    "\n",
    "# Evaluate the model\n",
    "xgb_top_10_accuracy = accuracy_score(y_test_behavioral, y_pred_xgb_top_10)\n",
    "xgb_top_10_classification_report = classification_report(y_test_behavioral, y_pred_xgb_top_10)\n",
    "xgb_top_10_confusion_matrix = confusion_matrix(y_test_behavioral, y_pred_xgb_top_10)\n",
    "\n",
    "print(f\"Accuracy: {xgb_top_10_accuracy:.2f}\")\n",
    "print(f\"Confusion Matrix:\\n{xgb_top_10_confusion_matrix}\")\n",
    "print(f\"Classification Report:\\n{xgb_top_10_classification_report}\")\n"
   ]
  },
  {
   "cell_type": "markdown",
   "id": "bd6956d9",
   "metadata": {},
   "source": []
  },
  {
   "cell_type": "markdown",
   "id": "3ac31edf",
   "metadata": {},
   "source": [
    "#### XGBoost -  Model Tuning"
   ]
  },
  {
   "cell_type": "markdown",
   "id": "2b9cb71e",
   "metadata": {},
   "source": [
    "* Key Parameters to Tune:\n",
    "* n_estimators: Number of trees in the model.\n",
    "* learning_rate: Controls the contribution of each tree (step size shrinkage).\n",
    "* max_depth: Maximum depth of the trees.\n",
    "* subsample: Fraction of samples used for training each tree.\n",
    "* colsample_bytree: Fraction of features used for training each tree.\n",
    "* gamma: Minimum loss reduction required for a split."
   ]
  },
  {
   "cell_type": "code",
   "execution_count": 154,
   "id": "f0182568",
   "metadata": {},
   "outputs": [
    {
     "name": "stdout",
     "output_type": "stream",
     "text": [
      "Fitting 5 folds for each of 486 candidates, totalling 2430 fits\n",
      "Tuned XGBoost Model Performance:\n",
      "Best Parameters: {'colsample_bytree': 0.8, 'gamma': 0, 'learning_rate': 0.2, 'max_depth': 9, 'n_estimators': 200, 'subsample': 0.8}\n",
      "Accuracy: 0.90\n",
      "Confusion Matrix:\n",
      "[[236  11   2]\n",
      " [  8   4   3]\n",
      " [  2   2  15]]\n",
      "Classification Report:\n",
      "              precision    recall  f1-score   support\n",
      "\n",
      "           0       0.96      0.95      0.95       249\n",
      "           1       0.24      0.27      0.25        15\n",
      "           2       0.75      0.79      0.77        19\n",
      "\n",
      "    accuracy                           0.90       283\n",
      "   macro avg       0.65      0.67      0.66       283\n",
      "weighted avg       0.91      0.90      0.90       283\n",
      "\n"
     ]
    },
    {
     "name": "stderr",
     "output_type": "stream",
     "text": [
      "C:\\Users\\srika\\anaconda3\\lib\\site-packages\\xgboost\\data.py:112: UserWarning:\n",
      "\n",
      "Use subset (sliced data) of np.ndarray is not recommended because it will generate extra copies and increase memory consumption\n",
      "\n"
     ]
    }
   ],
   "source": [
    "from sklearn.model_selection import GridSearchCV\n",
    "from xgboost import XGBClassifier\n",
    "from sklearn.metrics import classification_report, confusion_matrix, accuracy_score\n",
    "\n",
    "# Define the parameter grid\n",
    "param_grid = {\n",
    "    'n_estimators': [50, 100, 200],\n",
    "    'learning_rate': [0.01, 0.1, 0.2],\n",
    "    'max_depth': [3, 6, 9],\n",
    "    'subsample': [0.8, 1.0],\n",
    "    'colsample_bytree': [0.6, 0.8, 1.0],\n",
    "    'gamma': [0, 0.1, 0.2]\n",
    "}\n",
    "\n",
    "# Initialize the XGBoost model\n",
    "xgb_model = XGBClassifier(random_state=42, use_label_encoder=False, eval_metric='mlogloss')\n",
    "\n",
    "# Perform GridSearchCV\n",
    "grid_search = GridSearchCV(\n",
    "    estimator=xgb_model,\n",
    "    param_grid=param_grid,\n",
    "    scoring='f1_weighted',    # Weighted F1-score to account for class imbalance\n",
    "    cv=5,                     # 5-fold cross-validation\n",
    "    verbose=3,                # Display progress logs\n",
    "    n_jobs=-1                 # Utilize all processors\n",
    ")\n",
    "\n",
    "# Fit the grid search to the training data\n",
    "grid_search.fit(X_train_top_10, y_train_balanced)\n",
    "\n",
    "# Extract the best parameters and model\n",
    "best_params = grid_search.best_params_\n",
    "best_xgb_model = grid_search.best_estimator_\n",
    "\n",
    "# Evaluate the tuned model on the test set\n",
    "y_pred_tuned = best_xgb_model.predict(X_test_top_10)\n",
    "tuned_accuracy = accuracy_score(y_test_behavioral, y_pred_tuned)\n",
    "tuned_classification_report = classification_report(y_test_behavioral, y_pred_tuned)\n",
    "tuned_confusion_matrix = confusion_matrix(y_test_behavioral, y_pred_tuned)\n",
    "\n",
    "# Print the results\n",
    "print(f\"Tuned XGBoost Model Performance:\")\n",
    "print(f\"Best Parameters: {best_params}\")\n",
    "print(f\"Accuracy: {tuned_accuracy:.2f}\")\n",
    "print(f\"Confusion Matrix:\\n{tuned_confusion_matrix}\")\n",
    "print(f\"Classification Report:\\n{tuned_classification_report}\")"
   ]
  },
  {
   "cell_type": "markdown",
   "id": "e010d35c",
   "metadata": {},
   "source": [
    "#### SVM"
   ]
  },
  {
   "cell_type": "code",
   "execution_count": 155,
   "id": "2a0d304b",
   "metadata": {
    "scrolled": true
   },
   "outputs": [
    {
     "name": "stdout",
     "output_type": "stream",
     "text": [
      "\n",
      "SVM Model Performance:\n",
      "\n",
      "1. Accuracy: 0.79\n",
      "2. Confusion Matrix:\n",
      "[[201  44   4]\n",
      " [  1   6   8]\n",
      " [  0   3  16]]\n",
      "3. Classification Report:\n",
      "              precision    recall  f1-score   support\n",
      "\n",
      "           0       1.00      0.81      0.89       249\n",
      "           1       0.11      0.40      0.18        15\n",
      "           2       0.57      0.84      0.68        19\n",
      "\n",
      "    accuracy                           0.79       283\n",
      "   macro avg       0.56      0.68      0.58       283\n",
      "weighted avg       0.92      0.79      0.84       283\n",
      "\n",
      "\n"
     ]
    }
   ],
   "source": [
    "from sklearn.svm import SVC\n",
    "from sklearn.metrics import classification_report, confusion_matrix, accuracy_score\n",
    "from sklearn.preprocessing import StandardScaler\n",
    "\n",
    "# Step 1: Standardize the features\n",
    "scaler = StandardScaler()\n",
    "X_train_top_10_scaled = scaler.fit_transform(X_train_top_10)  # Fit on train, transform train\n",
    "X_test_top_10_scaled = scaler.transform(X_test_top_10)        # Transform test with the same scaler\n",
    "\n",
    "# Step 2: Initialize the SVM model\n",
    "svm_model = SVC(kernel='linear', random_state=42)\n",
    "\n",
    "# Step 3: Train the model on the training set\n",
    "svm_model.fit(X_train_top_10_scaled, y_train_balanced)\n",
    "\n",
    "# Step 4: Make predictions on the test set\n",
    "y_pred_svm = svm_model.predict(X_test_top_10_scaled)\n",
    "\n",
    "# Step 5: Evaluate the model\n",
    "svm_accuracy = accuracy_score(y_test_behavioral, y_pred_svm)\n",
    "svm_confusion_matrix = confusion_matrix(y_test_behavioral, y_pred_svm)\n",
    "svm_classification_report = classification_report(y_test_behavioral, y_pred_svm)\n",
    "\n",
    "# Step 6: Display the results\n",
    "svm_model_performance = f\"\"\"\n",
    "SVM Model Performance:\n",
    "\n",
    "1. Accuracy: {svm_accuracy:.2f}\n",
    "2. Confusion Matrix:\n",
    "{svm_confusion_matrix}\n",
    "3. Classification Report:\n",
    "{svm_classification_report}\n",
    "\"\"\"\n",
    "\n",
    "print(svm_model_performance)\n"
   ]
  },
  {
   "cell_type": "markdown",
   "id": "268b1d3f",
   "metadata": {},
   "source": [
    "* The SVM model's performance indicates good precision for the majority class (class 0), but it struggles significantly with minority classes (1 and 2). To improve the model's overall performance, especially for minority classes, hyperparameter tuning is essential."
   ]
  },
  {
   "cell_type": "markdown",
   "id": "38eaa208",
   "metadata": {},
   "source": [
    "#### SVM Hyper parameter tuning"
   ]
  },
  {
   "cell_type": "code",
   "execution_count": null,
   "id": "de15ff9a",
   "metadata": {},
   "outputs": [
    {
     "name": "stdout",
     "output_type": "stream",
     "text": [
      "Fitting 5 folds for each of 60 candidates, totalling 300 fits\n"
     ]
    }
   ],
   "source": [
    "from sklearn.model_selection import GridSearchCV\n",
    "\n",
    "# Define the parameter grid\n",
    "param_grid = {\n",
    "    'C': [0.1, 1, 10, 100],                # Regularization strength\n",
    "    'kernel': ['linear', 'rbf', 'poly'],   # Different kernels\n",
    "    'gamma': ['scale', 'auto', 0.1, 1, 10] # Kernel coefficient (applicable for rbf and poly)\n",
    "}\n",
    "\n",
    "# Initialize the SVM model\n",
    "svm_model = SVC(random_state=42)\n",
    "\n",
    "# Perform GridSearchCV\n",
    "grid_search = GridSearchCV(\n",
    "    estimator=svm_model,\n",
    "    param_grid=param_grid,\n",
    "    scoring='f1_weighted',  # Weighted F1-score to handle imbalance\n",
    "    cv=5,                   # 5-fold cross-validation\n",
    "    verbose=3,              # Display progress logs\n",
    "    n_jobs=-1               # Utilize all processors\n",
    ")\n",
    "\n",
    "# Fit the grid search to the training data\n",
    "grid_search.fit(X_train_top_10_scaled, y_train_balanced)\n",
    "\n",
    "# Extract the best parameters and model\n",
    "best_params = grid_search.best_params_\n",
    "best_svm_model = grid_search.best_estimator_\n",
    "\n",
    "# Evaluate the tuned model on the test set\n",
    "y_pred_tuned = best_svm_model.predict(X_test_top_10_scaled)\n",
    "tuned_accuracy = accuracy_score(y_test_behavioral, y_pred_tuned)\n",
    "tuned_classification_report = classification_report(y_test_behavioral, y_pred_tuned)\n",
    "tuned_confusion_matrix = confusion_matrix(y_test_behavioral, y_pred_tuned)\n",
    "\n",
    "# Print the results\n",
    "print(f\"Tuned SVM Model Performance:\")\n",
    "print(f\"Best Parameters: {best_params}\")\n",
    "print(f\"Accuracy: {tuned_accuracy:.2f}\")\n",
    "print(f\"Confusion Matrix:\\n{tuned_confusion_matrix}\")\n",
    "print(f\"Classification Report:\\n{tuned_classification_report}\")"
   ]
  },
  {
   "cell_type": "code",
   "execution_count": null,
   "id": "7447b2e1",
   "metadata": {},
   "outputs": [],
   "source": []
  },
  {
   "cell_type": "code",
   "execution_count": null,
   "id": "2409b827",
   "metadata": {},
   "outputs": [],
   "source": []
  },
  {
   "cell_type": "code",
   "execution_count": null,
   "id": "5c5b61c3",
   "metadata": {},
   "outputs": [],
   "source": []
  }
 ],
 "metadata": {
  "kernelspec": {
   "display_name": "Python 3",
   "language": "python",
   "name": "python3"
  },
  "language_info": {
   "codemirror_mode": {
    "name": "ipython",
    "version": 3
   },
   "file_extension": ".py",
   "mimetype": "text/x-python",
   "name": "python",
   "nbconvert_exporter": "python",
   "pygments_lexer": "ipython3",
   "version": "3.8.5"
  }
 },
 "nbformat": 4,
 "nbformat_minor": 5
}
